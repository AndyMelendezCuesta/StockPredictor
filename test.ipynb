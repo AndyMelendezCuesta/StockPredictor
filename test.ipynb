{
 "cells": [
  {
   "cell_type": "markdown",
   "metadata": {},
   "source": [
    "# Project 5: Capstone Project\n",
    "### Stock Predictor"
   ]
  },
  {
   "cell_type": "markdown",
   "metadata": {},
   "source": [
    "## Definition"
   ]
  },
  {
   "cell_type": "markdown",
   "metadata": {},
   "source": [
    "### 1. Project Overview\n",
    "In this section, look to provide a high-level overview of the project in layman’s terms. Questions to ask yourself when writing this section:\n",
    "\n",
    "   * Has an overview of the project been provided, such as the problem domain, project origin, and related datasets or input data?\n",
    "   * Has enough background information been given so that an uninformed reader would understand the problem domain and following problem statement?\n",
    "\n",
    "\n",
    "**Background information:** \"Stock\" is a general term used to describe the ownership certificates of any company, in general, and \"shares\" refers to a the ownership certificates of a particular company. So, if investors say they own stocks, they are generally referring to their overall ownership in one or more companies. [Stock and Shares](http://www.investopedia.com/ask/answers/140.asp). In addition, many of the more established stocks pay out a dividend quarterly, which can also provide the stockholder with an income. [How to Buy Stocks for Beginners](http://www.wikihow.com/Buy-Stocks-%28for-Beginners%29)\n",
    "\n",
    "**Problem domain:** The problem domain of this project are the stock prices of companies.\n",
    "**Project origin:** The project origin is the need to predict the stock prices to help brokers obtain more profit in daily [trading](http://www.investopedia.com/ask/answers/071614/whats-difference-between-binary-options-and-day-trading.asp). Day traders buy and sell a variety of instruments including stocks, currencies, futures, commodities, indices and ETFs. In this case we will be focusing on predicting stocks-in a daily manner.\n",
    "\n",
    "**Related datasets or input data:** Some of the companies that provide information about stock prices are [Yahoo](http://finance.yahoo.com/), [Google](https://www.google.com/finance) and [Bloomberg](http://www.bloomberg.com/). For this project I have chosen to retrieve stocks data through [Yahoo Finance](http://finance.yahoo.com/stock-center/).\n",
    "\n",
    "For a *more* **detailed explanation** of what stocks are I recommend you to take a look at the following links:\n",
    "   * [History of Money](http://spectrum.ieee.org/at-work/innovation/a-brief-history-of-money)\n",
    "   * [History of Stock Market](https://www.gilderlehrman.org/history-by-era/economics/essays/rise-american-institution-stock-market)\n",
    "   * [25 Basic Stock Market Trading Terms You Should Know](http://www.timothysykes.com/2013/06/trading-terms-you-need-to-know/)\n",
    "   * [Glossary of Stock Market terms](http://www.nasdaq.com/investing/glossary/)\n",
    "   * [Day Trading Strategies](http://smallbusiness.chron.com/predict-daily-stock-market-activity-3391.html)\n",
    "   * [Day Trading strategies](http://www.daytradingcoach.com/day-trading-strategies.html)"
   ]
  },
  
  {
   "cell_type": "code",
   "execution_count": 1,
   "metadata": {
    "collapsed": false
   },
   "outputs": [

    {
     "data": {
      "text/plain": []
     },
     "execution_count": 1,
     "metadata": {},
     "output_type": "execute_result"
    },
    {
     "data": {
      "image/png": "[encoded data removed]",
      "text/plain": []
     },
     "metadata": {},
     "output_type": "display_data"
    }
    
    ],
   "source": [
    
    "#Image1\n",
    "\n",
    "#Citation: \n",
    "#Oxlade, Andrew. \"Time to 'sell Everything'? No, This Is When a 'hold Everything' Strategy Works.\"\n",
    "#   The Telegraph. Telegraph Media Group, 15 Jan. 2016. Web. 5 May 2016. \n",
    "#   <http://www.telegraph.co.uk/finance/personalfinance/investing/12101740/\n",
    "#   Time-to-sell-everything-No-this-is-when-a-hold-everything-strategy-works.html>."
   ]
  },
 
  {
   "cell_type": "markdown",
   "metadata": {},
   "source": [
    "### 2. Problem Statement\n",
    "In this section, you will want to clearly define the problem that you are trying to solve, including the strategy (outline of tasks) you will use to achieve the desired solution. You should also thoroughly discuss what the intended solution will be for this problem. Questions to ask yourself when writing this section:\n",
    "\n",
    "   * Is the problem statement clearly defined? Will the reader understand what you are expecting to solve?\n",
    "   * Have you thoroughly discussed how you will attempt to solve the problem?\n",
    "   * Is an anticipated solution clearly defined? Will the reader understand what results you are looking for?\n",
    "\n",
    "Considering the volatility of the stock market and having the stock prices of a set of previous days. We use a set of 3 stock prices in total (from the 3 previous dates starting from the current date) to predict the opening price of the stock for the following day by using an ANN (Artificial Neural Network). I will be using an ANN of 3 neurons."
   ]
  },
  
  
  {
   "cell_type": "code",
   "execution_count": 2,
   "metadata": {
    "collapsed": false
   },
   "outputs": [

    {
     "data": {
      "text/plain": []
     },
     "execution_count": 2,
     "metadata": {},
     "output_type": "execute_result"
    },
    {
     "data": {
      "image/png": "[encoded data removed]",
      "text/plain": []
     },
     "metadata": {},
     "output_type": "display_data"
    }
    
    ],
   "source": [
    
    "#Image2\n",
    "\n",
    "#Citation:\n",
    "#Fahey, Rob. \"Stock Ticker: 2011 In Review.\"\n",
    "#   Gamesindustry.biz. Gamer Network, 09 Jan. 2012. Web. 7 May 2016. \n",
    "#   <http://www.gamesindustry.biz/articles/2012-01-09-stock-ticker-2011-in-review?page=1>."
   ]
  },   
  
  {
   "cell_type": "markdown",
   "metadata": {},
   "source": [
    "### 3. Metrics\n",
    "In this section, you will need to clearly define the metrics or calculations you will use to measure performance of a model or result in your project. These calculations and metrics should be justified based on the characteristics of the problem and problem domain. Questions to ask yourself when writing this section:\n",
    "\n",
    "   * Are the metrics you’ve chosen to measure the performance of your models clearly discussed and defined?\n",
    "   * Have you provided reasonable justification for the metrics chosen based on the problem and solution?\n",
    "\n",
    "The metrics that I chose to measure the performance of the model are:\n",
    "   **1)** [F1-score](http://machinelearningmastery.com/classification-accuracy-is-not-enough-more-performance-measures-you-can-use/)\n",
    "   **2)** [Mean Absolute Error](http://scikit-learn.org/stable/modules/generated/sklearn.metrics.mean_absolute_error.html), (the difference between the model's prediction and the real stock price), and \n",
    "   **3)** [Mean Absolute Percentage Error](http://homepage.univie.ac.at/robert.kunst/prognos7.pdf).\n",
    "\n",
    "I chose **F1-score** because it conveys the balance between [precision and recall](http://nlp.stanford.edu/IR-book/html/htmledition/evaluation-of-ranked-retrieval-results-1.html) of the stock price predictions. I also chose **Mean Absolute Error** as another metric because it shows the error of the prediction shown by my model. I input different dates and the ANN (Artificial Neural Network) predicts the following day's stock price. Then I compare the predictions from different dates with the actual values(stock prices) from those dates. And just to make it more readable for the audience, I selected **Mean Absolute Percentage Error** (a small percentage is what is preferred, less error)."  
   ]
  },
  
  {
   "cell_type": "code",
   "execution_count": 3,
   "metadata": {
    "collapsed": false
   },
   "outputs": [

    {
     "data": {
      "text/plain": []
     },
     "execution_count": 3,
     "metadata": {},
     "output_type": "execute_result"
    },
    {
     "data": {
      "image/png": "[encoded data removed]",
      "text/plain": []
     },
     "metadata": {},
     "output_type": "display_data"
    }
    
    ],
   "source": [
    
    "#Image3\n",
    "\n",
    "#Citation: \n",
    "#Shams, Rushdi. \"Natural Language Processing: Parsing.\" \n",
    "#   SlideShare. LinkedIn, 23 Oct. 2013. Web. 9 May 2016.\n",
    "#   <http://www.slideshare.net/rushdishams/syntax-27514305>."
    
   ]
  },   
  
  {
   "cell_type": "code",
   "execution_count": 3,
   "metadata": {
    "collapsed": false
   },
   "outputs": [
    {
     "data": {
      "text/plain": [
       "Student data read successfully!"
      ]
     },
     "execution_count": 3,
     "metadata": {},
     "output_type": "execute_result"
    }
   ],
   "source": [
    "# Read student data\n",
    "student_data = pd.read_csv(\"student-data.csv\")\n",
    "print \"Student data read successfully!\"\n",
    "# Note: The last column 'passed' is the target/label, all other are feature columns"
   ]
  },
  
  {
   "cell_type": "markdown",
   "metadata": {},
   "source": [
    "## Analysis"
   ]
  }, 
  {
   "cell_type": "markdown",
   "metadata": {},
   "source": [
    "### 4. Data Exploration\n",
    "In this section, you will be expected to analyze the data you are using for the problem. This data can either be in the form of a dataset (or datasets), input data (or input files), or even an environment. The type of data should be thoroughly described and, if possible, have basic statistics and information presented (such as discussion of input features or defining characteristics about the input or environment). Any abnormalities or interesting qualities about the data that may need to be addressed have been identified (such as features that need to be transformed or the possibility of outliers). Questions to ask yourself when writing this section:\n",
    "\n",
    "   * If a dataset is present for this problem, have you thoroughly discussed certain features about the dataset? Has a data sample been provided to the reader?\n",
    "   * If a dataset is present for this problem, are statistics about the dataset calculated and reported? Have any relevant results from this calculation been discussed?\n",
    "   * If a dataset is not present for this problem, has discussion been made about the input space or input data for your problem?\n",
    "   * Are there any abnormalities or characteristics about the input space or dataset that need to be addressed? (categorical variables, missing values, outliers, etc.)\n",
    "\n",
    "After choosing a [company ticker symbol](http://finance.yahoo.com/lookup) and a date (this program finds the stock prices of five days in total), The **input data** are the stock prices between two given dates, the start date(3 previous dates from the current day) and the end date (the end date is the current day).\n",
    "\n",
    "Some **abnormalities** about the input data are that whenever the date is a *holiday*, an *observance day* or a *weekend day* there is no stock price value for that day because those days the [New York Stock Exchange](https://www.nyse.com/markets/hours-calendars) does not operate. So, the stock prices for those days are omitted."

   ]
  },


  {
   "cell_type": "code",
   "execution_count": 4,
   "metadata": {
    "collapsed": false
   },
   "outputs": [
    {
     "data": {
      "text/plain": [
       "Student data read successfully!"
      ]
     },
     "execution_count": 4,
     "metadata": {},
     "output_type": "execute_result"
    }
   ],
   "source": [
    "# Read student data\n",
    "student_data = pd.read_csv(\"student-data.csv\")\n",
    "print \"Student data read successfully!\"\n",
    "# Note: The last column 'passed' is the target/label, all other are feature columns"
   ]
  },  

  {
   "cell_type": "code",
   "execution_count": 4,
   "metadata": {
    "collapsed": false
   },
   "outputs": [

    {
     "data": {
      "text/plain": []
     },
     "execution_count": 4,
     "metadata": {},
     "output_type": "execute_result"
    },
    {
     "data": {
      "image/png": "[encoded data removed]",
      "text/plain": []
     },
     "metadata": {},
     "output_type": "display_data"
    }
    
    ],
   "source": [
    
    "#Image4\n",
    "\n",
    "#Citation: \n",
    "#Khan, Samir. \"A List of All Yahoo Finance Stock Tickers.\"\n",
    "#   Invest Excel. Samir Khan, 07 Jan. 2015. Web. 09 May 2016.\n",
    "#   <http://investexcel.net/all-yahoo-finance-stock-tickers/>."
    
   ]
  },  
  
  {
   "cell_type": "markdown",
   "metadata": {},
   "source": [
    "### 5. Exploratory Visualization\n",
    "In this section, you will need to provide some form of visualization that summarizes or extracts a relevant characteristic or feature about the data. The visualization should adequately support the data being used. Discuss why this visualization was chosen and how it is relevant. Questions to ask yourself when writing this section:\n",
    "\n",
    "   * Have you visualized a relevant characteristic or feature about the dataset or input data?\n",
    "   * Is the visualization thoroughly analyzed and discussed?\n",
    "   * If a plot is provided, are the axes, title, and datum clearly defined?\n",
    "\n",
    "Some **relevant characteristic** about the **input data** that I visualized is that there is **less input data** (stock prices) when there is a *weekend*, *holiday* or *observance day* between two dates, the start date and the end date (the end date is the current day) Why? Because those days the [New York Stock Exchange](https://www.nyse.com/markets/hours-calendars) does not operate. This is important because whenever that happens the ANN model receives less input, the missing weights (wi) are substituted by the *default* values and the output (the prediction) is less accurate."
   ]
  },
  
  {
   "cell_type": "code",
   "execution_count": 5,
   "metadata": {
    "collapsed": false
   },
   "outputs": [
    {
     "data": {
      "text/plain": [
       "Student data read successfully!"
      ]
     },
     "execution_count": 5,
     "metadata": {},
     "output_type": "execute_result"
    }
   ],
   "source": [
    "# Read student data\n",
    "student_data = pd.read_csv(\"student-data.csv\")\n",
    "print \"Student data read successfully!\"\n",
    "# Note: The last column 'passed' is the target/label, all other are feature columns"
   ]
  },  

  {
   "cell_type": "code",
   "execution_count": 5,
   "metadata": {
    "collapsed": false
   },
   "outputs": [

    {
     "data": {
      "text/plain": []
     },
     "execution_count": 5,
     "metadata": {},
     "output_type": "execute_result"
    },
    {
     "data": {
      "image/png": "[encoded data removed]",
      "text/plain": []
     },
     "metadata": {},
     "output_type": "display_data"
    }
    
    ],
   "source": [
    
    "#Image5\n",
    "\n",
    "#Citation: \n",
    "#\"NYSE 2014 and 2015 Holiday Hours.\"\n",
    "#   StreetInsider.com. StreetInsider.com, 30 Dec. 2013. Web. 9 May 2016.\n",
    "#   <http://www.streetinsider.com/Insiders+Blog/NYSE+2014+and+2015+Holiday+Hours/8999575.html>."
    
   ]
  },  
 
  {
   "cell_type": "markdown",
   "metadata": {},
   "source": [
    "### 6. Algorithms and Techniques\n",
    "In this section, you will need to discuss the algorithms and techniques you intend to use for solving the problem. You should justify the use of each one based on the characteristics of the problem and the problem domain. Questions to ask yourself when writing this section:\n",
    "\n",
    "   * Are the algorithms you will use, including any default variables/parameters in the project clearly defined?\n",
    "   * Are the techniques to be used thoroughly discussed and justified?\n",
    "   * Is it made clear how the input data or datasets will be handled by the algorithms and techniques chosen?\n",
    "\n",
    "Artificial Neural Networks (ANN) have many different coefficients, which it can optimize. Hence, it can handle much more variability as compared to traditional models. Because of this they are commonly used in cases of image recognition and voice recognition. In cases of prediction ANNs tend to overfit. Still, when the training sets and testing sets are correctly distributed, the right activation functions are chosen as well as the number of neurons, Neural Networks are a powerful tool. Neural networks have been touted as all-powerful tools in stock-market prediction. Companies such as MJ Futures claim amazing 199.2% returns over a 2-year period using their neural network prediction methods.[Neural Networks](http://cs.stanford.edu/people/eroberts/courses/soco/projects/neural-networks/Applications/stocks.html)\n",
    "\n",
    "In the algorithms that I implement, the variables/parameters are weights. The input weights are the stock prices between two given dates, the start date and the end date (the end date is the current day).\n",
    "\n",
    "The ANN (Artificial Neural Network) learns from the input data and does multiple re-calibrations for each linkage weights. [How ANNs works](http://www.analyticsvidhya.com/blog/2014/10/ann-work-simplified/).\n",
    "\n",
    "The process of re-calibrating each linkage weights depends on the following functions: \n",
    "   * [Activating function](https://en.wikibooks.org/wiki/Artificial_Neural_Networks/Activation_Functions)\n",
    "   * [Error function](https://theclevermachine.wordpress.com/2014/09/06/derivation-error-backpropagation-gradient-descent-for-neural-networks/)"
   ]
  }, 

  {
   "cell_type": "code",
   "execution_count": 6,
   "metadata": {
    "collapsed": false
   },
   "outputs": [
    {
     "data": {
      "text/plain": [
       "Student data read successfully!"
      ]
     },
     "execution_count": 6,
     "metadata": {},
     "output_type": "execute_result"
    }
   ],
   "source": [
    "# Read student data\n",
    "student_data = pd.read_csv(\"student-data.csv\")\n",
    "print \"Student data read successfully!\"\n",
    "# Note: The last column 'passed' is the target/label, all other are feature columns"
   ]
  },  

  {
   "cell_type": "code",
   "execution_count": 6,
   "metadata": {
    "collapsed": false
   },
   "outputs": [

    {
     "data": {
      "text/plain": []
     },
     "execution_count": 6,
     "metadata": {},
     "output_type": "execute_result"
    },
    {
     "data": {
      "image/png": "[encoded data removed]",
      "text/plain": []
     },
     "metadata": {},
     "output_type": "display_data"
    }
    
    ],
   "source": [
    
    "#Image6-a\n",
    "\n",
    "#Citation: \n",
    "#Jeerge, Gururaj. \"Artificial Neural Networks Technology.\"\n",
    "#   Sasta Servers. Sasta Servers, 25 May 2015. Web. 10 May 2016.\n",
    "#   <http://www.sastaservers.com/blog/artificial-neural-networks-technology/>."
    
   ]
  },

  {
   "cell_type": "code",
   "execution_count": 6,
   "metadata": {
    "collapsed": false
   },
   "outputs": [

    {
     "data": {
      "text/plain": []
     },
     "execution_count": 6,
     "metadata": {},
     "output_type": "execute_result"
    },
    {
     "data": {
      "image/png": "[encoded data removed]",
      "text/plain": []
     },
     "metadata": {},
     "output_type": "display_data"
    }
    
    ],
   "source": [
    
    "#Image6-b\n",
    "\n",
    "#Citation: \n",
    "#\"McCaffrey, James. \"Neural Network Dropout Training.\"\n",
    "#   Visual Studio Magazine. Media, Inc., 13 May 2014. Web. 9 May 2016.\n",
    "#   <https://visualstudiomagazine.com/articles/2014/05/01/neural-network-dropout-training.aspx>."
    
   ]
  },  
  
 {
   "cell_type": "code",
   "execution_count": 6,
   "metadata": {
    "collapsed": false
   },
   "outputs": [

    {
     "data": {
      "text/plain": []
     },
     "execution_count": 6,
     "metadata": {},
     "output_type": "execute_result"
    },
    {
     "data": {
      "image/png": "[encoded data removed]",
      "text/plain": []
     },
     "metadata": {},
     "output_type": "display_data"
    }
    
    ],
   "source": [
    
    "#Image6-c\n",
    "\n",
    "#Citation: \n",
    "#Dejan Tanikić and Vladimir Despotovic (2012). Artificial Intelligence Techniques\n",
    "#for Modelling of Temperature in the Metal Cutting Process, Metallurgy - Advances in Materials\n",
    "#and Processes, \n",
    "#Dr. Yogiraj Pardhi (Ed.), InTech, DOI: 10.5772/47850.\n",
    "#Available from: http://www.intechopen.com/books/metallurgy-advances-in-materials-and-processes/\n",
    "#artificial-intelligence-techniques-for-modelling-of-temperature-in-the-metal-cutting-process"
    
   ]
  },  
  
  {
   "cell_type": "markdown",
   "metadata": {},
   "source": [
    "### 7. Benchmark\n",
    "In this section, you will need to provide a clearly defined benchmark result or threshold for comparing across performances obtained by your solution. The reasoning behind the benchmark (in the case where it is not an established result) should be discussed. Questions to ask yourself when writing this section:\n",
    "\n",
    "   * Has some result or value been provided that acts as a benchmark for measuring performance?\n",
    "   * Is it clear how this result or value was obtained (whether by data or by hypothesis)?\n",
    "\n",
    "Although implementing the 5-fold cross validation could give more validity to [Mean Absolute Error](http://scikit-learn.org/stable/modules/generated/sklearn.metrics.mean_absolute_error.html) and [Mean Absolute Percentage Error](http://homepage.univie.ac.at/robert.kunst/prognos7.pdf) as benchmarks to measure the performance of my model, I am choosing **F1-score** as my benchmark because it conveys the balance between [precision and recall](http://nlp.stanford.edu/IR-book/html/htmledition/evaluation-of-ranked-retrieval-results-1.html) of the stock prices predictions."
   ]
  },
 
  {
   "cell_type": "code",
   "execution_count": 7,
   "metadata": {
    "collapsed": false
   },
   "outputs": [
    {
     "data": {
      "text/plain": [
       "Student data read successfully!"
      ]
     },
     "execution_count": 7,
     "metadata": {},
     "output_type": "execute_result"
    }
   ],
   "source": [
    "# Read student data\n",
    "student_data = pd.read_csv(\"student-data.csv\")\n",
    "print \"Student data read successfully!\"\n",
    "# Note: The last column 'passed' is the target/label, all other are feature columns"
   ]
  },  

  {
   "cell_type": "code",
   "execution_count": 7,
   "metadata": {
    "collapsed": false
   },
   "outputs": [

    {
     "data": {
      "text/plain": []
     },
     "execution_count": 7,
     "metadata": {},
     "output_type": "execute_result"
    },
    {
     "data": {
      "image/png": "[encoded data removed]",
      "text/plain": []
     },
     "metadata": {},
     "output_type": "display_data"
    }
    
    ],
   "source": [
    
    "#Image7\n",
    "\n",
    "#Citation: \n",
    "#Arbelaez, Pablo. \"Notes on the Evaluation Methodology.\" \n",
    "#Research Projects. University of California, Berkeley, 7 Feb. 2015. Web. 9 May 2016.\n",
    "#<http://www.cs.berkeley.edu/~arbelaez/Notes.html>."
    
   ]
  },   

  {
   "cell_type": "markdown",
   "metadata": {},
   "source": [
    "## Methodology"
   ]
  },
  
  {
   "cell_type": "markdown",
   "metadata": {},
   "source": [
    "### 8. Data Preprocessing\n",
    "In this section, all of your preprocessing steps will need to be clearly documented, if any were necessary. From the previous section, any of the abnormalities or characteristics that you identified about the dataset will be addressed and corrected here. Questions to ask yourself when writing this section:\n",
    "\n",
    "   * If the algorithms chosen require preprocessing steps like feature selection or feature transformations, have they been properly documented?\n",
    "   * Based on the Data Exploration section, if there were abnormalities or characteristics that needed to be addressed, have they been properly corrected?\n",
    "   * If no preprocessing is needed, has it been made clear why?\n",
    "\n",
    "The algorithms chosen only require us to select a company and day. But based on the Data Exploration, the only abnormalities that need to be addressed and properly corrected are the **size of the dataset**. When the stock prices are pulled from *Yahoo Finance*, a smaller set can be received because there are stock prices registered only for work days. It means that without any modification, the predictions are based on sets of input data with different sizes because there are no stock prices registered during the weekends and also during holidays. [Market Holidays](http://www.thestreet.com/stock-market-news/11771386/market-holidays-2015.html) and [Why the Stock Market is closed on the weekend](http://money.stackexchange.com/questions/8950/why-is-the-stock-market-closed-on-the-weekend)."
   ]
  },  
  
  {
   "cell_type": "code",
   "execution_count": 8,
   "metadata": {
    "collapsed": false
   },
   "outputs": [
    {
     "data": {
      "text/plain": [
       "Student data read successfully!"
      ]
     },
     "execution_count": 8,
     "metadata": {},
     "output_type": "execute_result"
    }
   ],
   "source": [
    "# Read student data\n",
    "student_data = pd.read_csv(\"student-data.csv\")\n",
    "print \"Student data read successfully!\"\n",
    "# Note: The last column 'passed' is the target/label, all other are feature columns"
   ]
  },  

  {
   "cell_type": "code",
   "execution_count": 8,
   "metadata": {
    "collapsed": false
   },
   "outputs": [

    {
     "data": {
      "text/plain": []
     },
     "execution_count": 8,
     "metadata": {},
     "output_type": "execute_result"
    },
    {
     "data": {
      "image/png": "[encoded data removed]",
      "text/plain": []
     },
     "metadata": {},
     "output_type": "display_data"
    }
    
    ],
   "source": [
    
    "#Image8\n",
    "\n",
    "#Citation: \n",
    "#\"NYSE 2014 and 2015 Holiday Hours.\"\n",
    "#   StreetInsider.com. StreetInsider.com, 30 Dec. 2013. Web. 9 May 2016.\n",
    "#   <http://www.streetinsider.com/Insiders+Blog/NYSE+2014+and+2015+Holiday+Hours/8999575.html>."
    
   ]
  },  
  
  {
   "cell_type": "markdown",
   "metadata": {},
   "source": [
    "### 9. Implementation\n",
    "In this section, the process for which metrics, algorithms, and techniques that you implemented for the given data will need to be clearly documented. It should be abundantly clear how the implementation was carried out, and discussion should be made regarding any complications that occurred during this process. Questions to ask yourself when writing this section:\n",
    "\n",
    "   * Is it made clear how the algorithms and techniques were implemented with the given datasets or input data?\n",
    "   * Were there any complications with the original metrics or techniques that required changing prior to acquiring a solution?\n",
    "   * Was there any part of the coding process (e.g., writing complicated functions) that should be documented?\n",
    "\n",
    "Talking about the implementation of the algorithms and techniques given the input data, the technique (in this case Artifical Neural Networks) depends on 3 values passed (3 stock prices, the stock price of the chosen day and the stock prices of the 2 previous days). The 3 input values substitute the default weights (wi) of the 3 input neurons. These 3 input neurons connect with 2 hidden neurons, which means that after the values of the input neurons are modified using forward propagation, the default weights of the hidden neurons are replaced with new values. This is called forward propagation. We forward propagate to get the output and compare it with the real value to get the error. Then, to minimize the error, we backward propagate by using a form of gradient descent to update new values of weights (finding the derivative of the error with respect to each weight and then subtracting this value from the weight value). Then we forward propagate to see how well these weights are performing and backward propagate to update the weights. This iterative process will go on until we reach some minima for error value. The complications with the metrics to measure the performance of the model were not a lot. I chose the F1 score as my main metric because it conveys the balance between [precision and recall](http://nlp.stanford.edu/IR-book/html/htmledition/evaluation-of-ranked-retrieval-results-1.html), thus avoiding overfitting. But could have considered the Absolute Error and the Absolute Percentage Error after implementing 5-K cross validation with the dataset-If the sets of input data were larger. In this case I choose an Artificial Neural Network with three neurons (the input data are three stock prices) because it is suggested.[Stock Prediction using Artificial Neural Networks](http://www.cs.berkeley.edu/~akar/IITK_website/EE671/report_stock.pdf)."
   ]
  },
  
  {
   "cell_type": "code",
   "execution_count": 9,
   "metadata": {
    "collapsed": false
   },
   "outputs": [
    {
     "data": {
      "text/plain": [
       "Student data read successfully!"
      ]
     },
     "execution_count": 9,
     "metadata": {},
     "output_type": "execute_result"
    }
   ],
   "source": [
    "# Read student data\n",
    "student_data = pd.read_csv(\"student-data.csv\")\n",
    "print \"Student data read successfully!\"\n",
    "# Note: The last column 'passed' is the target/label, all other are feature columns"
   ]
  },  

  {
   "cell_type": "code",
   "execution_count": 9,
   "metadata": {
    "collapsed": false
   },
   "outputs": [

    {
     "data": {
      "text/plain": []
     },
     "execution_count": 9,
     "metadata": {},
     "output_type": "execute_result"
    },
    {
     "data": {
      "image/png": "[encoded data removed]",
      "text/plain": []
     },
     "metadata": {},
     "output_type": "display_data"
    }
    
    ],
   "source": [
    
    "#Image9\n",
    "\n",
    "#Citation: \n",
    "#Røe, Kathrine, Manish Kakar, Therese Seierstad, Anne H. Ree, and Dag R. Olsen.\n",
    "#Illustration of the Architecture of the Back Propagation Neural Network (BPNN).\n",
    "#Digital image. Yale Image Finder. Krauthammer Lab, Yale University, 8 June 2011. Web. 9 May 2016.\n",
    "#<http://krauthammerlab.med.yale.edu/imagefinder/Figure.external?sp=SPMC3130663%2F1748-717X-6-65-3\n",
    "#&state:Figure=BrO0ABXcRAAAAAQAACmRvY3VtZW50SWRzcgARamF2YS5sYW5nLkludGVnZXIS4qCk94GHOAIAAUkABXZhbH\n",
    "#VleHIAEGphdmEubGFuZy5OdW1iZXKGrJUdC5TgiwIAAHhwAAryyg%3D%3D>."
    
   ]
  },  
  
  {
   "cell_type": "markdown",
   "metadata": {},
   "source": [
    "### 10. Refinement\n",
    "In this section, you will need to discuss the process of improvement you made upon the algorithms and techniques you used in your implementation. For example, adjusting parameters for certain models to acquire improved solutions would fall under the refinement category. Your initial and final solutions should be reported, as well as any significant intermediate results as necessary. Questions to ask yourself when writing this section:\n",
    "\n",
    "   * Has an initial solution been found and clearly reported?\n",
    "   * Is the process of improvement clearly documented, such as what techniques were used?\n",
    "   * Are intermediate and final solutions clearly reported as the process is improved.\n",
    "\n",
    "The initial solution to this problem was prediciting the stock price of the following day using a neural Network of 5 neurons. The initial solutions can be found in the files: initial_analyzer.py and initial_neuralNetwork.py\n",
    "\n",
    "Then the following improvements were made: \n",
    "\n",
    "**A)** Made sure that the ANN works with a set of 5 days (work days). I achieved this through making a modification in the function get_historical_prices, creating a new function and creating other helping functions in ystockquote.py\n",
    "\n",
    "**B)** From using an ANN of 5 neurons, I decreased the number of neurons to 3 neurons because \"A three layer neural network has been proved to be a universal function approximator and finds its use in a number of fields like sales forecasting, data validation, customer research, price forecasting, medicine, etc.\" Another important improvement is that in this new version there are a number of activation functions implemented along with options for crossvalidation sets to achieve more accuracy on the dataset.[Stock Prediction using Artificial Neural Networks](http://www.cs.berkeley.edu/~akar/IITK_website/EE671/report_stock.pdf).\n",
    "\n",
    "In the end I also modified the number of previous days in the functions from ystockquote.py that I mentioned above.\n",
    "\n",
    "The outcome from all the improvements that I made can be seen by comparing the F1-score of the previous predictions with this new predictions set. In the case of the first modification the previous F1-score was: and the new F1-score was:. After the second modification we can see the improvement of using an Artifical Neural Network of three neurons instead of an Artificial Neural Network of five neurons. The F1 score before the changes is: and the F1 score after the changes is:"
   ]
  },

  {
   "cell_type": "code",
   "execution_count": 10,
   "metadata": {
    "collapsed": false
   },
   "outputs": [
    {
     "data": {
      "text/plain": [
       "Student data read successfully!"
      ]
     },
     "execution_count": 10,
     "metadata": {},
     "output_type": "execute_result"
    }
   ],
   "source": [
    "# Read student data\n",
    "student_data = pd.read_csv(\"student-data.csv\")\n",
    "print \"Student data read successfully!\"\n",
    "# Note: The last column 'passed' is the target/label, all other are feature columns"
   ]
  },  

  {
   "cell_type": "code",
   "execution_count": 10,
   "metadata": {
    "collapsed": false
   },
   "outputs": [

    {
     "data": {
      "text/plain": []
     },
     "execution_count": 10,
     "metadata": {},
     "output_type": "execute_result"
    },
    {
     "data": {
      "image/png": "[encoded data removed]",
      "text/plain": []
     },
     "metadata": {},
     "output_type": "display_data"
    }
    
    ],
   "source": [
    
    "#Show table of F1-scores' improvements after different changes"
    
   ]
  },  

  {
   "cell_type": "markdown",
   "metadata": {},
   "source": [
    "## Results "
   ]
  },

  {
   "cell_type": "markdown",
   "metadata": {},
   "source": [
    "### 11. Model Evaluation and Validation\n",
    "In this section, the final model and any supporting qualities should be evaluated in detail. It should be clear how the final model was derived and why this model was chosen. In addition, some type of analysis should be used to validate the robustness of this model and its solution, such as manipulating the input data or environment to see how the model’s solution is affected (this is called sensitivity analysis). Questions to ask yourself when writing this section:\n",
    "\n",
    "   * Is the final model reasonable and aligning with solution expectations? Are the final parameters of the model appropriate?\n",
    "   * Has the final model been tested with various inputs to evaluate whether the model generalizes well to unseen data?\n",
    "   * Is the model robust enough for the problem? Do small perturbations (changes) in training data or the input space greatly affect the results?\n",
    "   * Can results found from the model be trusted?\n",
    "\n",
    "The final model is more reasonable than the non-optimized version. Now, the final parameters of the model are a set of inputs with uniform size (always three stock prices), which gives more validity to the model's predictions. The model has been tested with various inputs, one hundred times to evaluate the accuracy of the results. The benchmark are the F1-scores before and after the changes. The current model's F1-score is:. In general this model outputs reasonable predictions for calculating the stock price of the following day, but if we want to use this model to make decisions related to daily training in the real life, more parameters must be added and analyzed and these functions from ystockquote.py could play a decisive role in greatly improving the predictions:\n",
    "\n",
    "   * get_price_earnings_ratio(symbol)\n",
    "\n",
    "   * get_price_earnings_growth_ratio(symbol)\n", 
    "\n",
    "   * get_price_book_ratio(symbol)\n",
    "\n",
    "   * D/E ratio, [Debt to Equity](http://www.investopedia.com/terms/d/debtequityratio.asp) also called Gearing ratio\n",
    "\n",
    "   * FCE, [Free Cashflow](http://www.investopedia.com/terms/f/freecashflow.asp)\n",
    "\n",
    "*Note:* Taken from [Fundamental stock metrics](http://www.investopedia.com/articles/active-trading/051214/fundamental-investment-metrics-buying-stocks-and-bonds.asp) and [Yahoo finance ticker symbols](https://greenido.wordpress.com/2009/12/22/yahoo-finance-hidden-api/)\n", 
    "\n",
    "Related to small changes in the input space, for example: predicting a stock prices every 30 seconds, the short time frame could greatly affect the results, well there are more specific parameters that could be taken into consideration to improve the model's accuracy and precision by adding more parameters and other techniques so that the model can be trusted."
   ]
  },

  {
   "cell_type": "code",
   "execution_count": 11,
   "metadata": {
    "collapsed": false
   },
   "outputs": [
    {
     "data": {
      "text/plain": [
       "Student data read successfully!"
      ]
     },
     "execution_count": 11,
     "metadata": {},
     "output_type": "execute_result"
    }
   ],
   "source": [
    "# Read student data\n",
    "student_data = pd.read_csv(\"student-data.csv\")\n",
    "print \"Student data read successfully!\"\n",
    "# Note: The last column 'passed' is the target/label, all other are feature columns"
   ]
  },  

  {
   "cell_type": "code",
   "execution_count": 11,
   "metadata": {
    "collapsed": false
   },
   "outputs": [

    {
     "data": {
      "text/plain": []
     },
     "execution_count": 11,
     "metadata": {},
     "output_type": "execute_result"
    },
    {
     "data": {
      "image/png": "[encoded data removed]",
      "text/plain": []
     },
     "metadata": {},
     "output_type": "display_data"
    }
    
    ],
   "source": [
    
    "#Show the final F1-score of the model, after improvements\n",
    "#Ask Eddy for an image of the stock prices APPL within 30 seconds"
    
   ]
  },  

  {
   "cell_type": "markdown",
   "metadata": {},
   "source": [
    "### 12. Justification\n",
    "In this section, your model’s final solution and its results should be compared to the benchmark you established earlier in the project using some type of statistical analysis. You should also justify whether these results and the solution are significant enough to have solved the problem posed in the project. Questions to ask yourself when writing this section:\n",
    "\n",
    "   * Are the final results found stronger than the benchmark result reported earlier?\n",
    "   * Have you thoroughly analyzed and discussed the final solution?\n",
    "   * Is the final solution significant enough to have solved the problem?\n",
    "\n",
    "After the model improvements (making sure that we count with a uniform set of input data and using an Artificial Neural Network with three neurons instead of five) and implementing a technique equivalent to cross validation, the final results found became stronger than the benchmark result reported earlier. Still if the final solution is to be trusted we must add the parameters mentioned in the previous question:\n",
    "\n",
    "   **1)**  get_price_earnings_ratio(symbol)\n",
    "\n",
    "   **2)**  get_price_earnings_growth_ratio(symbol)\n", 
    "\n",
    "   **3)**  get_price_book_ratio(symbol)\n",
    "\n",
    "   **4)**  D/E ratio, [Debt to Equity](http://www.investopedia.com/terms/d/debtequityratio.asp) also called Gearing ratio\n",
    "\n",
    "   **5)**  FCE, [Free Cashflow](http://www.investopedia.com/terms/f/freecashflow.asp)\n",
    "\n",
    "*Note:* Taken from [Fundamental stock metrics](http://www.investopedia.com/articles/active-trading/051214/fundamental-investment-metrics-buying-stocks-and-bonds.asp) and [Yahoo finance ticker symbols](https://greenido.wordpress.com/2009/12/22/yahoo-finance-hidden-api/)"
   ]
  },
  
  {
   "cell_type": "code",
   "execution_count": 12,
   "metadata": {
    "collapsed": false
   },
   "outputs": [
    {
     "data": {
      "text/plain": [
       "Student data read successfully!"
      ]
     },
     "execution_count": 12,
     "metadata": {},
     "output_type": "execute_result"
    }
   ],
   "source": [
    "# Read student data\n",
    "student_data = pd.read_csv(\"student-data.csv\")\n",
    "print \"Student data read successfully!\"\n",
    "# Note: The last column 'passed' is the target/label, all other are feature columns"
   ]
  },  

  {
   "cell_type": "code",
   "execution_count": 12,
   "metadata": {
    "collapsed": false
   },
   "outputs": [

    {
     "data": {
      "text/plain": []
     },
     "execution_count": 12,
     "metadata": {},
     "output_type": "execute_result"
    },
    {
     "data": {
      "image/png": "[encoded data removed]",
      "text/plain": []
     },
     "metadata": {},
     "output_type": "display_data"
    }
    
    ],
   "source": [
    
    "#Show the previous F1-score (training and testing)\n",
    "#and\n",
    "#Show the new F1-scores (training and testing)"
    
   ]
  },  
  
  {
   "cell_type": "markdown",
   "metadata": {},
   "source": [
    "## Conclusion "
   ]
  },

  {
   "cell_type": "markdown",
   "metadata": {},
   "source": [
    "### 13. Free-Form Visualization\n",
    "In this section, you will need to provide some form of visualization that emphasizes an important quality about the project. It is much more free-form, but should reasonably support a significant result or characteristic about the problem that you want to discuss. Questions to ask yourself when writing this section:\n",
    "\n",
    "   * Have you visualized a relevant or important quality about the problem, dataset, input data, or results?\n",
    "   * Is the visualization thoroughly analyzed and discussed?\n",
    "   * If a plot is provided, are the axes, title, and datum clearly defined?\n",
    "\n",
    "Beyond focusing only in the activity of the New York Stock Exchange, some relevant or important qualities about the problem that involve the input data and the results are the time zones and the trading times. Although the trading hours of the New York Stock Exchange market go from 9:30 in the morning to 4 in the afternoon (Eastern Time), there are stocks that happen before 9:30 a.m. and after 4 p.m. There are other exchanges across the globe, in other countries, other US cities, and even in New York itself. \n",
    "\n",
    "While in New York (USA - New York)  it is Thursday, May 5, 2016 at 9:30:00 AM EDT UTC-4 hours, in Saint-Petersburg (Russia - Saint Petersburg) it is Thursday, May 5, 2016 at 4:30:00 PM. It is clear to notice how the time zones play a special role in daily traiding. For this reason additional data can be selected and included as input data if one wishes to be more accurate predicting the stock price of the following day. Let's recall that a better prediction of the stock price for the following day prevents traders from paying more for stocks than they should. Normally morning time is when daily traders lose most money. [Why Morning Is the Worst Time to Trade Stocks](http://www.wsj.com/articles/early-birds-suffer-in-market-1442273794)."
   ]
  },

  {
   "cell_type": "code",
   "execution_count": 13,
   "metadata": {
    "collapsed": false
   },
   "outputs": [
    {
     "data": {
      "text/plain": [
       "Student data read successfully!"
      ]
     },
     "execution_count": 13,
     "metadata": {},
     "output_type": "execute_result"
    }
   ],
   "source": [
    "# Read student data\n",
    "student_data = pd.read_csv(\"student-data.csv\")\n",
    "print \"Student data read successfully!\"\n",
    "# Note: The last column 'passed' is the target/label, all other are feature columns"
   ]
  },  

  {
   "cell_type": "code",
   "execution_count": 13,
   "metadata": {
    "collapsed": false
   },
   "outputs": [

    {
     "data": {
      "text/plain": []
     },
     "execution_count": 13,
     "metadata": {},
     "output_type": "execute_result"
    },
    {
     "data": {
      "image/png": "[encoded data removed]",
      "text/plain": []
     },
     "metadata": {},
     "output_type": "display_data"
    }
    
    ],
   "source": [
    
    "#Image13\n",
    "\n",
    "#Citation: \n",
    "#\"Forex Hours.\"\n",
    "#   Forex-Internet. Forex-Internet, n.d. Web. 9 May 2016.\n",
    "#   <http://www.forex-internet.com/forexhours.htm>."
    
   ]
  },  

  
  {
   "cell_type": "markdown",
   "metadata": {},
   "source": [
    "### 14. Reflection\n",
    "In this section, you will summarize the entire end-to-end problem solution and discuss one or two particular aspects of the project you found interesting or difficult. You are expected to reflect on the project as a whole to show that you have a firm understanding of the entire process employed in your work. Questions to ask yourself when writing this section:\n",
    "\n",
    "   * Have you thoroughly summarized the entire process you used for this project?\n",
    "   * Were there any interesting aspects of the project?\n",
    "   * Were there any difficult aspects of the project?\n",
    "   * Does the final model and solution fit your expectations for the problem, and should it be used in a general setting to solve these types of problems?\n",
    "\n",
    "This project was about predicting stock prices. I did it by creating an Artificial Neural Network. The ANN (Artificial Neural Network) learns from the input data and does multiple re-calibrations for each linkage weights.  The input weights of the ANN are the stock prices of the current day and the two previous days. The main functions used by the ANN are the activation function and the error function (this function helps to re-calibrate the weights). And of course the output of the ANN is the predicted stock price for the following day [How ANNs works](http://www.analyticsvidhya.com/blog/2014/10/ann-work-simplified/).\n",
    "\n",
    "Recalling that predicting stock prices is a truly important matter for traders: Traders lose money when they pay more when buying shares (when they think that the stock price will be beyond its current value) and whenever they request less money for their shares when selling them (when they think that the stock price will be less than its current value), it was amazing to find out that because of Time Zones, with the exception of the weekends, the Stock Marker never stops operating. Stock trading is a global matter. Hence, we can always find a better way to predict the stock prices. Also, after studying the behavior of the Stock Market, the volatility of the Stock Market was a challenge that I identified. More variables should be taken into account to predict stock prices with more accuracy. By doing that we can have mrore certainty that this model will work more effectively for predicting stock prices-daily."
   ]
  },
 
  {
   "cell_type": "code",
   "execution_count": 14,
   "metadata": {
    "collapsed": false
   },
   "outputs": [
    {
     "data": {
      "text/plain": [
       "Student data read successfully!"
      ]
     },
     "execution_count": 14,
     "metadata": {},
     "output_type": "execute_result"
    }
   ],
   "source": [
    "# Read student data\n",
    "student_data = pd.read_csv(\"student-data.csv\")\n",
    "print \"Student data read successfully!\"\n",
    "# Note: The last column 'passed' is the target/label, all other are feature columns"
   ]
  },  

  {
   "cell_type": "code",
   "execution_count": 14,
   "metadata": {
    "collapsed": false
   },
   "outputs": [

    {
     "data": {
      "text/plain": []
     },
     "execution_count": 14,
     "metadata": {},
     "output_type": "execute_result"
    },
    {
     "data": {
      "image/png": "[encoded data removed]",
      "text/plain": []
     },
     "metadata": {},
     "output_type": "display_data"
    }
    
    ],
   "source": [
    
    "#Image14-a\n",
    "\n",
    "#Citation: \n",
    "#Rijo, Dahiana. \"MENSAJE DETRÁS DE STAY HUNGRY, STAY FOOLISH.\"\n", 
    "#   DR. Dahiana Rijo, 28 Feb. 2015. Web. 9 May 2016.\n",
    "#   <http://dahianarijo.com/mensaje-detras-de-stay-hungry-stay-foolish/>."
   ]
  },  

  {
   "cell_type": "code",
   "execution_count": 14,
   "metadata": {
    "collapsed": false
   },
   "outputs": [

    {
     "data": {
      "text/plain": []
     },
     "execution_count": 14,
     "metadata": {},
     "output_type": "execute_result"
    },
    {
     "data": {
      "image/png": "[encoded data removed]",
      "text/plain": []
     },
     "metadata": {},
     "output_type": "display_data"
    }
    
    ],
   "source": [
    
    "#Image14-b\n",
    "\n",
    "#Citation: \n",
    "#\"Stock Market HD: Stocks & Shares.\" ITunes Preview.\n",
    "#Apple Inc, n.d. Web. 10 May 2016.\n",
    "#<https://itunes.apple.com/us/app/stock-market-hd-stocks-shares/id469405092?mt=8>."
   ]
  }, 

  {
   "cell_type": "code",
   "execution_count": 14,
   "metadata": {
    "collapsed": false
   },
   "outputs": [

    {
     "data": {
      "text/plain": []
     },
     "execution_count": 14,
     "metadata": {},
     "output_type": "execute_result"
    },
    {
     "data": {
      "image/png": "[encoded data removed]",
      "text/plain": []
     },
     "metadata": {},
     "output_type": "display_data"
    }
    
    ],
   "source": [
    
    "#Image14-c\n",
    "\n",
    "#Citation: \n",
    "#The Best Way to Predict the Future Is to Invent It. - Alan Kay.\n",
    "#   Digital image. Pixteller. Pixteller, n.d. Web. 9 May 2016.\n",
    "#   <http://www.pixteller.com/img/3079>."
   ]
  }, 
 
  {
   "cell_type": "markdown",
   "metadata": {},
   "source": [
    "### 15. Improvement\n",
    "In this section, you will need to provide discussion as to how one aspect of the implementation you designed could be improved. As an example, consider ways your implementation can be made more general, and what would need to be modified. You do not need to make this improvement, but the potential solutions resulting from these changes are considered and compared/contrasted to your current solution. Questions to ask yourself when writing this section:\n",
    "\n",
    "   * Are there further improvements that could be made on the algorithms or techniques you used in this project?\n",
    "   * Were there algorithms or techniques you researched that you did not know how to implement, but would consider using if you knew how?\n",
    "   * If you used your final solution as the new benchmark, do you think an even better solution exists?\n",
    "\n",
    "Some of the further improvements that could be made on the algorithms or techniques used in this project are decreasing the number of neurons to 3 neurons because \"A three layer neural network has been proved to be a universal function approximator and finds its use in a number of fields like sales forecasting, data validation, customer research, price forecasting, medicine, etc.\"\n",
    "\n",
    "Another important improvement is that in this improved version there are a number of activation functions implemented along with options for crossvalidation sets to achieve more accuracy on the dataset.[Stock Prediction using Artificial Neural Networks](http://www.cs.berkeley.edu/~akar/IITK_website/EE671/report_stock.pdf).\n",
    "\n",
    "Some other algorithms that I did not implement but consider useful are: **Genetic algorithms**.\n",
    "\n",
    "For example, a trading rule may involve the use of parameters like Moving Average Convergence-Divergence (MACD), Exponential Moving Average (EMA) and Stochastics. A genetic algorithm would then input values into these parameters with the goal of maximizing net profit. Over time, small changes are introduced and those that make a desirably impact are retained for the next generation.\n",
    "\n",
    "There are three types of genetic operations that can then be performed:\n",
    "\n",
    "   * Crossovers represent the reproduction and biological crossover seen in biology, whereby a child takes on certain characteristics of its parents.\n",
    "\n",
    "   * Mutations represent biological mutation and are used to maintain genetic diversity from one generation of a population to the next by introducing random small changes.\n",
    "\n",
    "   * Selections are the stage at which individual genomes are chosen from a population for later breeding (recombination or crossover).\n",
    "\n",
    "*These three operators are then used in a five-step process*:\n",
    "\n",
    "   **1st** Initialize a random population, where each chromosome is n-length, with n being the number of parameters. That is, a random number of parameters are established with n elements each.\n",
    "\n",
    "   **2nd** Select the chromosomes, or parameters, that increase desirable results (presumably net profit).\n",
    "\n",
    "   **3rd** Apply mutation or crossover operators to the selected parents and generate an offspring.\n",
    "\n",
    "   **4th** Recombine the offspring and the current population to form a new population with the selection operator.\n",
    "\n",
    "   **5th** Repeat steps two to four.\n",
    "\n",
    "Over time, this process will result in increasingly favorable chromosomes (or, parameters) for use in a trading rule. The process is then terminated when a stopping criteria is met, which can include running time, fitness, number of generations or other criteria. For more on MACD (Moving average convergence divergence), read [Trading The MACD Divergence](http://www.investopedia.com/articles/forex/05/macddiverge.asp)\n",
    "\n",
    "Source: \n",
    "   * [Using Genetic Algorithms To Forecast Financial Markets] (http://www.investopedia.com/articles/financial-theory/11/using-genetic-algorithms-forecast-financial-markets.asp#ixzz473WOYOwV)\n",
    "\n",
    "A better solution can be adding more parameters to improve the model. Some parameters that can improve the accuracy of the model are [Eight Factors that Influence Day Trading](http://www.forbes.com/2007/08/29/market-timing-djia-pf-education-in_gc_0829investopedia_inl.html). Some ways to measure those eight factors that Influence Day Trading could be the following: \n",
    "\n",
    "   **Factor#1**, Overseas Market/Economic Action: Stock prices worldwide. [Find Information About Pre- And After-Hours Trading](http://www.investopedia.com/ask/answers/06/preaftermarket.asp?partner=forbes-pf). If you see major negative activity in a \"foreign\" market that affects your sector, the prices of a stocks in that sector could fall. We could assign Factor#1 binary values.\n",
    "\n",
    "   **Factor#2**, Economic Data: This is mostly expressed by \"interest rates\". For example, as interest rates in the U.K. rise, investors in that market may flee for better opportunities. Often, U.S. stocks will reap the benefit.[How Interest Rates affect the Stock Market](http://www.investopedia.com/articles/06/interestaffectsmarket.asp?partner=forbes-pf). Factor#2 can be measured using binary values.\n",
    "\n",
    "   **Factor#3**, Futures Data: [Index futures](http://www.investopedia.com/terms/i/indexfutures.asp?partner=forbes-pf) cover the major market indexes. They start trading before the stock market and are a very good indicator of what the stock market opening will look like. The reason for this is that index futures prices are closely linked with the actual level of the Dow Jones industrial average (DJIA). [\"Are ETF Futures The Wave of The Future\"](http://www.forbes.com/2007/08/29/market-timing-djia-pf-education-in_gc_0829investopedia_inl.html). In other words Factor#3 can be measured by using the DJIA (a negative/positive numeric value/percentage)\n",
    "\n",
    "   **Factor#4**, Buying At the Open: We can consider the difference between the opening stock prices and the average day stock price to estimate the maximum price of the stock. We can measure Factor#4 with a positive/negative percentage\n",
    "\n",
    "   **Factor#5**, Midday Trading Lull: When this happens, stocks can be purchased at a cheaper price at 1 p.m. than they could at, say, 11 a.m. Again, this is important to know, as this can affect both entry and exit points. Observing the stock price values at these hours of the day and compare it to the average day stock price can help us to better estimate the minimum value of the stock during the day. Factor#5 can be measured with a positive/negative percentage\n",
    "\n",
    "   **Factor#6**, Analyst Upgrades/Downgrades: We could classify the words from comments of top analysts. If an analyst mentions more words that backup Upgrades vs Downgrades we give the company a score of 1. In the opposite case we give it a score of 0. We count the sets of 1s and divide it by the number of analyst who reviewed the company. The highest score that could be achieved is 1. Then we will have to measure the correlation between the scores and the stock price value along different days. This way we can make it possible for the analysts to contribute in the prediction of stock prices. [What You Need to Know About Financial Analysts](http://www.investopedia.com/articles/basics/03/041703.asp?partner=forbes-pf). Factor#6 can be measured using binary values.\n",
    "\n",
    "   **Factor#7**, Web-Related Articles: We can do the same than what we did for Factor#6 but only if the websites are reliable. First we should search which websites have a significant (massive) number of readers/viewers who trade in the Stock Market. Fector#7 will be measuring using binary values.\n",
    "\n",
    "   **Factor#8**, Friday Trading: Factor#8 can be helpful if we find that there is a correlation between the closing prices of Friday (numeric values) and the Analyst Upgrades/Downgrades during the weekend (binary values). Factor#8 can be measured by using that correlation. The [correlation coefficient](http://www.alcula.com/calculators/statistics/correlation-coefficient/), or Pearson product-moment correlation coefficient (PMCC) is a numerical value between -1 and 1 that expresses the strength of the linear relationship between two variables. When r is closer to 1 it indicates a strong positive relationship. This might be helpful to predict the opening stock prices on Mondays."
   ]
  },
  
  {
   "cell_type": "code",
   "execution_count": 15,
   "metadata": {
    "collapsed": false
   },
   "outputs": [
    {
     "data": {
      "text/plain": [
       "Student data read successfully!"
      ]
     },
     "execution_count": 15,
     "metadata": {},
     "output_type": "execute_result"
    }
   ],
   "source": [
    "# Read student data\n",
    "student_data = pd.read_csv(\"student-data.csv\")\n",
    "print \"Student data read successfully!\"\n",
    "# Note: The last column 'passed' is the target/label, all other are feature columns"
   ]
  },  

  {
   "cell_type": "code",
   "execution_count": 15,
   "metadata": {
    "collapsed": false
   },
   "outputs": [

    {
     "data": {
      "text/plain": []
     },
     "execution_count": 15,
     "metadata": {},
     "output_type": "execute_result"
    },
    {
     "data": {
      "image/png": "[encoded data removed]",
      "text/plain": []
     },
     "metadata": {},
     "output_type": "display_data"
    }
    
    ],
   "source": [
    
    "#Image15\n",
    "\n",
    "#Citation: \n",
    "#Tief, Amr Abd Ella, Allam Sheahata Hassanien Allab, and Abdullah Shoukry Nagaty.\n",
    "#\"Stock Market Analysis Using Ga and Neural Network.\" SlideShare.\n",
    "#LinkedIn Corporation, 24 Feb. 2016. Web. 9 May 2016.\n",
    "#<http://www.slideshare.net/Amr_abd_ellatief/stock-market-analysis-using-ga-and-neural-network>."
    
   ]
  }  
  
 ],
 "metadata": {
  "kernelspec": {
   "display_name": "Python 2",
   "language": "python",
   "name": "python2"
  },
  "language_info": {
   "codemirror_mode": {
    "name": "ipython",
    "version": 2
   },
   "file_extension": ".py",
   "mimetype": "text/x-python",
   "name": "python",
   "nbconvert_exporter": "python",
   "pygments_lexer": "ipython2",
   "version": "2.7.11"
  }
 },
 "nbformat": 4,
 "nbformat_minor": 0
}
