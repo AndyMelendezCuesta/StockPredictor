{
 "cells": [
  {
   "cell_type": "markdown",
   "metadata": {},
   "source": [
    "# Project 5: Capstone Project\n",
    "### Stock Predictor"
   ]
  },
  {
   "cell_type": "markdown",
   "metadata": {},
   "source": [
    "## Definition"
   ]
  },
  {
   "cell_type": "markdown",
   "metadata": {},
   "source": [
    "### 1. Project Overview\n",
    "In this section, look to provide a high-level overview of the project in layman’s terms. Questions to ask yourself when writing this section:\n",
    "\n",
    "   * Has an overview of the project been provided, such as the problem domain, project origin, and related datasets or input data?\n",
    "   * Has enough background information been given so that an uninformed reader would understand the problem domain and following problem statement?\n",
    "\n",
    "\n",
    "**Background information:** \"Stock\" is a general term used to describe the ownership certificates of any company, in general, and \"shares\" refers to a the ownership certificates of a particular company. When investors say they own stocks, they are generally referring to their overall ownership in one or more companies. The owners of [Stock and Shares](http://www.investopedia.com/ask/answers/140.asp) earn money through the process of buying and trading stocks (trading). In addition, many of the more established stocks pay out a dividend quarterly, which can also provide the stockholder with an income. [How to Buy Stocks for Beginners](http://www.wikihow.com/Buy-Stocks-%28for-Beginners%29)\n",
    "\n",
    "**Problem domain:** The problem domain of this project are the daily stock prices of companies.\n",
    "\n",
    "**Project origin:** The project origin is the need to predict the stock prices to help brokers obtain more profit in [daily trading](http://www.investopedia.com/ask/answers/071614/whats-difference-between-binary-options-and-day-trading.asp). Day traders buy and sell a variety of instruments including stocks, currencies, futures, commodities, indices and ETFs. In this case we will be focusing on predicting stocks in a daily manner.\n",
    "\n",
    "**Related datasets or input data:** Some of the companies that provide information about stock prices are [Yahoo](http://finance.yahoo.com/), [Google](https://www.google.com/finance) and [Bloomberg](http://www.bloomberg.com/). For this project I have chosen to retrieve stocks data through [Yahoo Finance](http://finance.yahoo.com/stock-center/).\n",
    "\n",
    "For a *more* **detailed explanation** of what stocks are I recommend you to take a look at the following links:\n",
    "   * [History of Money](http://spectrum.ieee.org/at-work/innovation/a-brief-history-of-money)\n",
    "   * [History of Stock Market](https://www.gilderlehrman.org/history-by-era/economics/essays/rise-american-institution-stock-market)\n",
    "   * [25 Basic Stock Market Trading Terms You Should Know](http://www.timothysykes.com/2013/06/trading-terms-you-need-to-know/)\n",
    "   * [Glossary of Stock Market terms](http://www.nasdaq.com/investing/glossary/)\n",
    "   * [Day Trading Strategies](http://smallbusiness.chron.com/predict-daily-stock-market-activity-3391.html)\n",
    "   * [Day Trading strategies](http://www.daytradingcoach.com/day-trading-strategies.html)"
   ]
  },
  
  {
   "cell_type": "code",
   "execution_count": 1,
   "metadata": {
    "collapsed": false
   },
   "outputs": [

    {
     "data": {
      "text/plain": []
     },
     "execution_count": 1,
     "metadata": {},
     "output_type": "execute_result"
    },
    {
     "data": {
      "image/png": "\n",
      "text/plain": []
     },
     "metadata": {},
     "output_type": "display_data"
    }
    
    ],
   "source": [
    
    "#Image1\n",
    "\n",
    "#Citation: \n",
    "#Oxlade, Andrew. \"Time to 'sell Everything'? No, This Is When a 'hold Everything' Strategy Works.\"\n",
    "#   The Telegraph. Telegraph Media Group, 15 Jan. 2016. Web. 5 May 2016. \n",
    "#   <http://www.telegraph.co.uk/finance/personalfinance/investing/12101740/\n",
    "#   Time-to-sell-everything-No-this-is-when-a-hold-everything-strategy-works.html>."
   ]
  },
 
  {
   "cell_type": "markdown",
   "metadata": {},
   "source": [
    "### 2. Problem Statement\n",
    "In this section, you will want to clearly define the problem that you are trying to solve, including the strategy (outline of tasks) you will use to achieve the desired solution. You should also thoroughly discuss what the intended solution will be for this problem. Questions to ask yourself when writing this section:\n",
    "\n",
    "   * Is the problem statement clearly defined? Will the reader understand what you are expecting to solve?\n",
    "   * Have you thoroughly discussed how you will attempt to solve the problem?\n",
    "   * Is an anticipated solution clearly defined? Will the reader understand what results you are looking for?\n",
    "\n",
    "Considering the volatility of the stock market but knowing the stock prices of previous days the problem is to choose and correctly train a model to predict the stock price of the following day. The solution consists of using an ANN (Artificial Neural Network) of 3 neurons that receives a set of 10 stock prices in total (from the 20 previous dates starting from the given date) to predict the opening price of the stock for the following day."
   ]
  },
  
  
  {
   "cell_type": "code",
   "execution_count": 2,
   "metadata": {
    "collapsed": false
   },
   "outputs": [

    {
     "data": {
      "text/plain": []
     },
     "execution_count": 2,
     "metadata": {},
     "output_type": "execute_result"
    },
    {
     "data": {
      "image/png": "\n",
      "text/plain": []
     },
     "metadata": {},
     "output_type": "display_data"
    }
    
    ],
   "source": [
    
    "#Image2\n",
    "\n",
    "#Citation:\n",
    "#Fahey, Rob. \"Stock Ticker: 2011 In Review.\"\n",
    "#   Gamesindustry.biz. Gamer Network, 09 Jan. 2012. Web. 7 May 2016. \n",
    "#   <http://www.gamesindustry.biz/articles/2012-01-09-stock-ticker-2011-in-review?page=1>."
   ]
  },   
  
  {
   "cell_type": "markdown",
   "metadata": {},
   "source": [
    "### 3. Metrics\n",
    "In this section, you will need to clearly define the metrics or calculations you will use to measure performance of a model or result in your project. These calculations and metrics should be justified based on the characteristics of the problem and problem domain. Questions to ask yourself when writing this section:\n",
    "\n",
    "   * Are the metrics you’ve chosen to measure the performance of your models clearly discussed and defined?\n",
    "   * Have you provided reasonable justification for the metrics chosen based on the problem and solution?\n",
    "\n",
    "To measure the performance of the model mainly I compared two arrays of values. The real values against the predictions from the model. Some of the metrics that I chose are: \n",
    "\n",
    "   1. **Mean Absolute Error**: The absolute error is the absolute value of the difference between the forecasted value and the actual value. MAE tells us how big of an error we can expect from the forecast on average.[More](http://scikit-learn.org/stable/modules/generated/sklearn.metrics.mean_absolute_error.html)\n",
    "\n",
    "   2. **Mean Absolute Percent Error**: One problem with the MAE is that the relative size of the error is not always obvious. Sometimes it is hard to tell a big error from a small error. To deal with this problem, we can find the mean absolute error in percentage terms. [More](http://homepage.univie.ac.at/robert.kunst/prognos7.pdf).\n",
    "\n",
    "   3. **Mean Absolute Deviation**: The Mean Absolute Deviation (MAD) of a set of data is the average distance between each data value and the mean. Helps to get a sense of how \"spread out\" a data set is. [More](http://mathbits.com/MathBits/TISection/Statistics1/MAD.html)\n",
    "\n",
    "   4. **r2-score**: R^2 (coefficient of determination) is a statistical measure of how well the regression line approximates the real data points. Best possible score is 1.0 and it can be negative (because the model can be arbitrarily worse). A constant model that always predicts the expected value of y, disregarding the input features, would get a R^2 score of 0.0.[More](http://scikit-learn.org/stable/modules/generated/sklearn.metrics.r2_score.html)\n",
    "\n",
    "   5. **Spearman correlation**: Spearman's correlation coefficient, measures the strength of association between two ranked variables. If there are no repeated data values (which is the case), a perfect Spearman correlation of +1 or −1 occurs when each of the variables is a perfect monotone function of the other.[More](https://en.wikipedia.org/wiki/Spearman's_rank_correlation_coefficient)\n",
    "\n",
    "   6. **metric#6**: It is the sum of the negative errors from the error list. The errors are the difference between the real values and the predicted values. [More](https://www.kaggle.com/forums/f/15/kaggle-forum/t/6270/what-s-the-best-way-to-measure-accuracy-significance-of-a-stock-prediction)\n",
    "\n",
    "   7. **complement of metric#6**: It is the sum of the positive errors from the error list. The errors are the difference between the real values and the predicted values.[More](https://www.kaggle.com/forums/f/15/kaggle-forum/t/6270/what-s-the-best-way-to-measure-accuracy-significance-of-a-stock-prediction)\n",
    "\n",
    "   8. **Cumulative Forecast Error**: Cumulative gain/loss through the error. It is the sum of all the errors [More](http://www.threadpunter.com/supply-chain-management/demand-planning/measures-of-forecast-error/)\n",
    "\n",
    "   10. **average gain through error per stock price**: The average gain through the error in every prediction. It is the sum of the positive errors divided by the number of predictions made.\n",
    "\n",
    "   11. **average loss through error per stock price**: The average loss through the error in every prediction. It is the sum of the negative errors divided by the number of predictions made.\n",
    "\n",
    "   12. **average total gain/loss per stock price**: The average error in every prediction. It is the cumulative forecast error divided by the number of predictions made.\n",
    "\n",
    "   13. **Maximum loss (negative error)**: It is the lowest negative error, the lowest value from the error list.\n",
    "\n",
    "   14. **Maximun gain (positive error)**: It is the greatest positive error.\n",
    "\n",
    "   15. **Probability of negative error**: It is the probability of having negative errors.\n",
    "\n",
    "   16. **Probability of positive error**: It is the probability of having positive errors."
   ]
  },
  
  {
   "cell_type": "code",
   "execution_count": 3,
   "metadata": {
    "collapsed": false
   },
   "outputs": [

    {
     "data": {
      "text/plain": []
     },
     "execution_count": 3,
     "metadata": {},
     "output_type": "execute_result"
    },
    {
     "data": {
      "image/png": "\n",
      "text/plain": []
     },
     "metadata": {},
     "output_type": "display_data"
    }
    
    ],
   "source": [
    
    "#Image3\n",
    "\n",
    "#Citation: \n",
    "#Shams, Rushdi. \"Natural Language Processing: Parsing.\" \n",
    "#   SlideShare. LinkedIn, 23 Oct. 2013. Web. 9 May 2016.\n",
    "#   <http://www.slideshare.net/rushdishams/syntax-27514305>."
    
   ]
  },   
  
  {
   "cell_type": "markdown",
   "metadata": {},
   "source": [
    "## Analysis"
   ]
  }, 
  {
   "cell_type": "markdown",
   "metadata": {},
   "source": [
    "### 4. Data Exploration\n",
    "In this section, you will be expected to analyze the data you are using for the problem. This data can either be in the form of a dataset (or datasets), input data (or input files), or even an environment. The type of data should be thoroughly described and, if possible, have basic statistics and information presented (such as discussion of input features or defining characteristics about the input or environment). Any abnormalities or interesting qualities about the data that may need to be addressed have been identified (such as features that need to be transformed or the possibility of outliers). Questions to ask yourself when writing this section:\n",
    "\n",
    "   * If a dataset is present for this problem, have you thoroughly discussed certain features about the dataset? Has a data sample been provided to the reader?\n",
    "   * If a dataset is present for this problem, are statistics about the dataset calculated and reported? Have any relevant results from this calculation been discussed?\n",
    "   * If a dataset is not present for this problem, has discussion been made about the input space or input data for your problem?\n",
    "   * Are there any abnormalities or characteristics about the input space or dataset that need to be addressed? (categorical variables, missing values, outliers, etc.)\n",
    "\n",
    "After choosing a [company ticker symbol](http://finance.yahoo.com/lookup) and a date (the previous day of the day that you want to predict), the data is retrieved. The **input data** is a set of 10 stock prices in total (from the 20 previous dates starting from the given date) to predict the opening price of the stock for the following day.\n",
    "\n",
    "Some **abnormalities** about the input data are that whenever the date is a *holiday*, an *observance day* or a *weekend day* there is no stock price value for that day because those days the [New York Stock Exchange](https://www.nyse.com/markets/hours-calendars) does not operate. So, the stock prices for those days are omitted."

   ]
  },


  {
   "cell_type": "code",
   "execution_count": 4,
   "metadata": {
    "collapsed": false
   },
   "outputs": [
    {
     "data": {
      "text/plain": [
       "url\n",
        "http://ichart.yahoo.com/table.csv?s=GOOG&d=4&e=27&f=2016&g=d&a=4&b=17&c=2016&ignore=.csv\n",
        "[['Date', 'Open', 'High', 'Low', 'Close', 'Volume', 'Adj Clos'], \n",
        " ['2016-05-27', '724.01001', '733.935974', '724.00', '732.659973', '1974000', '732.65997'], \n",
        " ['2016-05-26', '722.869995', '728.330017', '720.280029', '724.119995', '1542900', '724.11999'], \n",
        " ['2016-05-25', '720.76001', '727.51001', '719.705017', '725.27002', '1629200', '725.2700'], \n",
        " ['2016-05-24', '706.859985', '720.969971', '706.859985', '720.090027', '1920400', '720.09002'], \n",
        " ['2016-05-23', '706.530029', '711.478027', '704.179993', '704.23999', '1320900', '704.2399'], \n",
        " ['2016-05-20', '701.619995', '714.580017', '700.52002', '709.73999', '1816000', '709.7399'], \n",
        " ['2016-05-19', '702.359985', '706.00', '696.799988', '700.320007', '1656300', '700.32000'], \n",
        " ['2016-05-18', '703.669983', '711.599976', '700.630005', '706.630005', '1763400', '706.63000'],\n", 
        " ['2016-05-17', '715.98999', '721.52002', '704.109985', '706.22998', '1999500', '706.2299']]"
      ]
     },
     "execution_count": 4,
     "metadata": {},
     "output_type": "execute_result"
    }
   ],
   "source": [
    "from __future__ import division #import must be at the beginning of the file\n",
    "import urllib\n",
    "\n",
    "#This is the \"ystockquote\" module.\n",
    "#This module provides a Python API for retrieving stock data from Yahoo Finance.\n",
    "#Adjusted to receive two inputs:\n",
    "#  symbol and chosen_date instead of symbol, start_date, end_date\n",
    "def initial_get_historical_prices(symbol, chosen_date):\n",
    "\n",
    "    #Get historical prices for the given ticker symbol.\n",
    "    #Date format is 'YYYY-MM-DD'\n",
    "    #Returns a nested list.\n",
    "\n",
    "    import datetime\n",
    "    from datetime import date\n",
    "    from datetime import timedelta\n",
    "    #Test\n",
    "    # >>> chosen_date = '2016-05-10'\n",
    "    # >>> year = int(chosen_date[:4])\n",
    "    # >>> month = int(chosen_date[5:7])\n",
    "    # >>> day = int(chosen_date[8:])\n",
    "    # >>> end_date = datetime.date(year, month, day)\n",
    "    # >>> start_date = str(end_date - datetime.timedelta(days=2))\n",
    "\n",
    "    past_n_days = 10 #fixed\n",
    "    year = int(chosen_date[:4])\n",
    "    month = int(chosen_date[5:7])\n",
    "    day = int(chosen_date[8:])\n",
    "\n",
    "    end_date = datetime.date(year, month, day)\n",
    "\n",
    "    if end_date > datetime.date.today():\n",
    "        statement = \"Choose any date before today: \" + str(datetime.date.today())\n",
    "        d0 = end_date\n",
    "        d1 = datetime.date.today()\n",
    "        delta = d0 - d1\n",
    "        past_n_days += delta.days\n",
    "        # from datetime import date\n",
    "        # d0 = date(2008, 8, 18)\n",
    "        # d1 = date(2008, 9, 26)\n",
    "        # delta = d0 - d1\n",
    "        # print delta.days\n",
    "    if end_date == datetime.date.today():\n",
    "        past_n_days += 1\n",
    "\n",
    "    #assert end_date < datetime.date.today(), \n",
    "    #\"chosen date must be any previous day from today: %r\" % end_date\n",
    "    #assert num == 4, \"len of set is not 4: %r\" % num #example\n",
    "\n",
    "    #List of dates:\n",
    "    date_list = [end_date - datetime.timedelta(days=x) for x in range(0, 3)]\n",
    "\n",
    "    # >>> date_list = [end_date - datetime.timedelta(days=x) for x in range(0, 3)]\n",
    "    # >>> print date_list\n",
    "    # [datetime.date(2016, 5, 10), datetime.date(2016, 5, 9), datetime.date(2016, 5, 8)]\n",
    "\n",
    "    #start_date = str(end_date - datetime.timedelta(days=past_n_days))\n",
    "    #previous code doesn't work when we previously put from datetime import datetime\n",
    "    start_date = str(end_date - timedelta(days=past_n_days)) #code is always functional\n",
    "    end_date = chosen_date\n",
    "\n",
    "    #month, day and year\n",
    "    url = 'http://ichart.yahoo.com/table.csv?s=%s&' % symbol + \\\n",
    "          'd=%s&' % str(int(end_date[5:7]) - 1) + \\\n",
    "          'e=%s&' % str(int(end_date[8:10])) + \\\n",
    "          'f=%s&' % str(int(end_date[0:4])) + \\\n",
    "          'g=d&' + \\\n",
    "          'a=%s&' % str(int(start_date[5:7]) - 1) + \\\n",
    "          'b=%s&' % str(int(start_date[8:10])) + \\\n",
    "          'c=%s&' % str(int(start_date[0:4])) + \\\n",
    "          'ignore=.csv'\n",
    "\n",
    "    print \"url\"\n",
    "    print url\n",
    "    days = urllib.urlopen(url).readlines()\n",
    "    data = [day[:-2].split(',') for day in days]\n",
    "    return data\n",
    "\n",
    "\n",
    "#Expecting 10 stock prices, but only get 9\n",
    "print initial_get_historical_prices('GOOG', '2016-05-27')"

   ]
  },  

  {
   "cell_type": "code",
   "execution_count": 4,
   "metadata": {
    "collapsed": false
   },
   "outputs": [

    {
     "data": {
      "text/plain": []
     },
     "execution_count": 4,
     "metadata": {},
     "output_type": "execute_result"
    },
    {
     "data": {
      "image/png": "\n",
      "text/plain": []
     },
     "metadata": {},
     "output_type": "display_data"
    }
    
    ],
   "source": [
    
    "#Image4\n",
    "\n",
    "#Citation: \n",
    "#Khan, Samir. \"A List of All Yahoo Finance Stock Tickers.\"\n",
    "#   Invest Excel. Samir Khan, 07 Jan. 2015. Web. 09 May 2016.\n",
    "#   <http://investexcel.net/all-yahoo-finance-stock-tickers/>."
    
   ]
  },  
  
  {
   "cell_type": "markdown",
   "metadata": {},
   "source": [
    "### 5. Exploratory Visualization\n",
    "In this section, you will need to provide some form of visualization that summarizes or extracts a relevant characteristic or feature about the data. The visualization should adequately support the data being used. Discuss why this visualization was chosen and how it is relevant. Questions to ask yourself when writing this section:\n",
    "\n",
    "   * Have you visualized a relevant characteristic or feature about the dataset or input data?\n",
    "   * Is the visualization thoroughly analyzed and discussed?\n",
    "   * If a plot is provided, are the axes, title, and datum clearly defined?\n",
    "\n",
    "Some **relevant characteristic** about the **input data** that I visualized is that there is **less input data** (stock prices) when there is a *weekend*, *holiday* or *observance day* between two dates, the start date and the end date (the end date is the current day) Why? Because those days the [New York Stock Exchange](https://www.nyse.com/markets/hours-calendars) does not operate. This is important because whenever that happens the ANN model receives less input, the missing weights (wi) are substituted by the *default* values and the output (the prediction) is less accurate."
   ]
  },
  
  {
   "cell_type": "code",
   "execution_count": 5,
   "metadata": {
    "collapsed": false
   },
   "outputs": [
    {
     "data": {
      "text/plain": [
       "url\n",
       "http://ichart.yahoo.com/table.csv?s=GOOG&d=4&e=30&f=2016&g=d&a=4&b=19&c=2016&ignore=.csv\n",
       "[['Date', 'Open', 'High', 'Low', 'Close', 'Volume', 'Adj Clos'], \n",
       " ['2016-05-27', '724.01001', '733.935974', '724.00', '732.659973', '1974000', '732.65997'],\n", 
       " ['2016-05-26', '722.869995', '728.330017', '720.280029', '724.119995', '1542900', '724.11999'],\n", 
       " ['2016-05-25', '720.76001', '727.51001', '719.705017', '725.27002', '1629200', '725.2700'],\n", 
       " ['2016-05-24', '706.859985', '720.969971', '706.859985', '720.090027', '1920400', '720.09002'],\n", 
       " ['2016-05-23', '706.530029', '711.478027', '704.179993', '704.23999', '1320900', '704.2399'], \n",
       " ['2016-05-20', '701.619995', '714.580017', '700.52002', '709.73999', '1816000', '709.7399'],\n", 
       " ['2016-05-19', '702.359985', '706.00', '696.799988', '700.320007', '1656300', '700.32000']]"

      ]
     },
     "execution_count": 5,
     "metadata": {},
     "output_type": "execute_result"
    }
   ],
   "source": [
    "#Expecting 10 stock prices but only get 7\n",
    "print initial_get_historical_prices('GOOG', '2016-05-30')"
   ]
  },  

  {
   "cell_type": "code",
   "execution_count": 5,
   "metadata": {
    "collapsed": false
   },
   "outputs": [

    {
     "data": {
      "text/plain": []
     },
     "execution_count": 5,
     "metadata": {},
     "output_type": "execute_result"
    },
    {
     "data": {
      "image/png": "\n",
      "text/plain": []
     },
     "metadata": {},
     "output_type": "display_data"
    }
    
    ],
   "source": [
    
    "#Image5\n",
    "\n",
    "#Citation: \n",
    "#\"NYSE 2014 and 2015 Holiday Hours.\"\n",
    "#   StreetInsider.com. StreetInsider.com, 30 Dec. 2013. Web. 9 May 2016.\n",
    "#   <http://www.streetinsider.com/Insiders+Blog/NYSE+2014+and+2015+Holiday+Hours/8999575.html>."
    
   ]
  },  
 
  {
   "cell_type": "markdown",
   "metadata": {},
   "source": [
    "### 6. Algorithms and Techniques\n",
    "In this section, you will need to discuss the algorithms and techniques you intend to use for solving the problem. You should justify the use of each one based on the characteristics of the problem and the problem domain. Questions to ask yourself when writing this section:\n",
    "\n",
    "   * Are the algorithms you will use, including any default variables/parameters in the project clearly defined?\n",
    "   * Are the techniques to be used thoroughly discussed and justified?\n",
    "   * Is it made clear how the input data or datasets will be handled by the algorithms and techniques chosen?\n",
    "\n",
    "Artificial Neural Networks (ANN) have many different coefficients, which it can optimize. Hence, it can handle much more variability as compared to traditional models. Because of this they are commonly used in cases of image recognition and voice recognition. In cases of prediction ANNs tend to overfit. Still, when the training sets and testing sets are correctly distributed, the right activation functions are chosen as well as the number of neurons, Neural Networks are a powerful tool. Neural networks have been touted as all-powerful tools in stock-market prediction. Companies such as MJ Futures claim amazing 199.2% returns over a 2-year period using their neural network prediction methods.[Neural Networks](http://cs.stanford.edu/people/eroberts/courses/soco/projects/neural-networks/Applications/stocks.html)\n",
    "\n",
    "In the algorithms that I implement, the variables/parameters are weights. The input weights are the stock prices between two given dates, the start date and the end date (the end date is the current day).\n",
    "\n",
    "The ANN (Artificial Neural Network) learns from the input data and does multiple re-calibrations for each linkage weights. [How ANNs works](http://www.analyticsvidhya.com/blog/2014/10/ann-work-simplified/).\n",
    "\n",
    "The process of re-calibrating each linkage weights depends on the following functions: \n",
    "   * [Activating function](https://en.wikibooks.org/wiki/Artificial_Neural_Networks/Activation_Functions)\n",
    "   * [Error function](https://theclevermachine.wordpress.com/2014/09/06/derivation-error-backpropagation-gradient-descent-for-neural-networks/)"
   ]
  }, 

  {
   "cell_type": "code",
   "execution_count": 6,
   "metadata": {
    "collapsed": false
   },
   "outputs": [
    {
     "data": {
      "text/plain": [
       "Artificial Neural Network test\n",
       "ANN_test:  <__main__.NeuralNetwork instance at 0x101b91f80>\n",
       "input Nodes:  4\n",
       "hidden Nodes:  3\n",
       "output Nodes:  1\n",
       "input Activation:  [1.0, 1.0, 1.0, 1.0]\n",
       "hidden Activation:  [1.0, 1.0, 1.0]\n",
       "output Activation:  [1.0]\n",
       "input Weight:  [[0.13776874061001926, 0.10318176117612099, -0.031771367667662004],\n",
       " [-0.09643329988281467, 0.004509888547443414, -0.03802634501983429],\n",
       " [0.11351943561390904, -0.07867490956842903, -0.009361218339057675],\n",
       " [0.03335281578201249, 0.16324515407813406, 0.0018747423269561136]]\n",
       "output Weight:  [[-0.8726486224011847], [1.0232168166288957], [0.4734759867013265]]\n",
       "last change in weight for momentum, input-and-hidden:  \n",
       "[[0.0, 0.0, 0.0], [0.0, 0.0, 0.0], [0.0, 0.0, 0.0], [0.0, 0.0, 0.0]]\n",
       "last change in weight for momentum, hidden-and-output:  [[0.0], [0.0], [0.0]]"
      ]
     },
     "execution_count": 6,
     "metadata": {},
     "output_type": "execute_result"
    }
   ],
   "source": [
    "#!/usr/bin/env python\n",
    "#\n",
    "#  Copyright (c) 2012, Jake Marsh  (http://jakemmarsh.com)\n",
    "#\n",
    "#  license: GNU LGPL\n",
    "#\n",
    "#  This library is free software; you can redistribute it and/or\n",
    "#  modify it under the terms of the GNU Lesser General Public\n",
    "#  License as published by the Free Software Foundation; either\n",
    "#  version 2.1 of the License, or (at your option) any later version.\n",
    "\n",
    "#  As a guide I took the following code: http://iamtrask.github.io/2015/07/12/basic-python-network/\n",
    "#  Add visualization of neural network :) \n",
    "\n",
    "import math, random, string\n",
    "\n",
    "random.seed(0)\n",
    "\n",
    "#2nd Change: Lines 365, 368\n",
    "#3rd Change: Lines 366, 377, 368\n",
    "\n",
    "## ================================================================\n",
    "\n",
    "# calculate a random number a <= rand < b\n",
    "def rand(a, b):\n",
    "    return (b-a)*random.random() + a\n",
    "\n",
    "def makeMatrix(I, J, fill = 0.0):\n",
    "    m = []\n",
    "    for i in range(I): #loops 4 times\n",
    "        m.append([fill]*J) #[0.0, 0.0, 0.0]\n",
    "    return m\n",
    "\n",
    "# m = [[0.0, 0.0, 0.0], [0.0, 0.0, 0.0], [0.0, 0.0, 0.0], [0.0, 0.0, 0.0]]\n",
    "\n",
    "####Value of the activation function parameter: 0.5\n",
    "def sigmoid(x):\n",
    "    # tanh is a little nicer than the standard 1/(1+e^-x)\n",
    "    return math.tanh(x)\n",
    "\n",
    "# derivative of our sigmoid function, in terms of the output (i.e. y)\n",
    "def dsigmoid(y):\n",
    "    return 1.0 - y**2\n",
    "\n",
    "## ================================================================\n",
    "\n",
    "class NeuralNetwork:\n",
    "    def __init__(self, inputNodes, hiddenNodes, outputNodes):\n",
    "        # number of input, hidden, and output nodes\n",
    "        self.inputNodes = inputNodes + 1 # +1 for bias node\n",
    "        self.hiddenNodes = hiddenNodes\n",
    "        self.outputNodes = outputNodes\n",
    "\n",
    "        # activations for nodes\n",
    "        self.inputActivation = [1.0]*self.inputNodes\n",
    "        #>>> len(c) is 4; c = [1.0]*4 gives c = [1.0, 1.0, 1.0, 1.0]\n",
    "        self.hiddenActivation = [1.0]*self.hiddenNodes\n",
    "        #>>> len(d) is 3; d = [1.0]*3 gives d = [1.0, 1.0, 1.0]\n",
    "        self.outputActivation = [1.0]*self.outputNodes\n",
    "        #>>> len(e) is 1; e = [1.0]*1 gives e = [1.0]\n",
    "\n",
    "        # create weights\n",
    "        self.inputWeight = makeMatrix(self.inputNodes, self.hiddenNodes)\n", 
    "        #len(m) is 4; m = [[0.0, 0.0, 0.0], [0.0, 0.0, 0.0], [0.0, 0.0, 0.0], [0.0, 0.0, 0.0]]\n",
    "        self.outputWeight = makeMatrix(self.hiddenNodes, self.outputNodes)\n",
    "        #len(n) is 1; n = [[0.0], [0.0], [0.0]]\n",
    "        # set them to random vaules\n",
    "        for i in range(self.inputNodes): #loops 4 times\n",
    "            for j in range(self.hiddenNodes): #loops 3 times\n",
    "                self.inputWeight[i][j] = rand(-0.2, 0.2) #it's m but with rand(-0.2, 0.2)\n",
    "\n",
    "        #print \"self.inputWeight fed with rand(-0.2, 0.2): \", self.inputWeight #len(m) is 4\n",
    "\n",
    "        #self.inputWeight fed with rand(-0.2, 0.2):\n",  
    "        #[[0.13776874061001926, 0.10318176117612099, -0.031771367667662004], \n",
    "        # [-0.09643329988281467, 0.004509888547443414, -0.03802634501983429], \n",
    "        # [0.11351943561390904, -0.07867490956842903, -0.009361218339057675], \n",
    "        # [0.03335281578201249, 0.16324515407813406, 0.0018747423269561136]]\n",
    "\n",
    "        for j in range(self.hiddenNodes): #loops 3 times \n",
    "            for k in range(self.outputNodes): #loops 1 time\n",
    "                self.outputWeight[j][k] = rand(-2.0, 2.0) #it's m but with rand(-0.2, 0.2)\n",
    "        #print \"self.outputWeight fed with rand(-0.2, 0.2): \", self.outputWeight #len(n) is 1\n",
    "        # self.outputWeight fed with rand(-0.2, 0.2):\n",  
    "        #[[-0.8726486224011847], [1.0232168166288957], [0.4734759867013265]]\n",
    "\n",
    "        # last change in weights for momentum \n",  
    "        self.ci = makeMatrix(self.inputNodes, self.hiddenNodes) \n",
    "        #m = [[0.0, 0.0, 0.0], [0.0, 0.0, 0.0], [0.0, 0.0, 0.0], [0.0, 0.0, 0.0]]\n",
    "        #print \"self.ci last change for momentum: \", self.ci\n",
    "        # self.ci last change for momentum: \n",
    "        #[[0.0, 0.0, 0.0], [0.0, 0.0, 0.0], [0.0, 0.0, 0.0], [0.0, 0.0, 0.0]]\n",
    "\n",
    "        self.co = makeMatrix(self.hiddenNodes, self.outputNodes)\n",
    "        #n = [[0.0], [0.0], [0.0]]\n",
    "        #print \"self.co last change for momentum: \", self.co\n",
    "        # self.co last change for momentum:\n",  
    "        #[[0.0], [0.0], [0.0]]\n",
    "\n",
    "# Results: \n",
    "# self.inputWeight fed with rand(-0.2, 0.2):  \n",
    "# [[0.13776874061001926, 0.10318176117612099, -0.031771367667662004],\n",
    "#  [-0.09643329988281467, 0.004509888547443414, -0.03802634501983429], \n",
    "#  [0.11351943561390904, -0.07867490956842903, -0.009361218339057675], \n",
    "#  [0.03335281578201249, 0.16324515407813406, 0.0018747423269561136]] \n",
    "# self.outputWeight fed with rand(-0.2, 0.2): \n",
    "# [[-0.8726486224011847], [1.0232168166288957], [0.4734759867013265]]\n",
    "# self.ci last change for momentum:  [[0.0, 0.0, 0.0], [0.0, 0.0, 0.0], \n",
    "#                                    [0.0, 0.0, 0.0], [0.0, 0.0, 0.0]]\n",
    "# self.co last change for momentum:  [[0.0], [0.0], [0.0]]\n",
    "\n",
    "#[Link](http://cs231n.github.io/neural-networks-1/)\n",
    "\n",
    "#Analysis: train calls update(Line 290)\n",
    "#          update uses self.inputWeight and self.outputWeightchanges \n",
    "#          update changes self.inputActivation, self.hiddenActivation, self.outputActivation\n",
    "#          update returns self.outputActivation (as an array)\n",
    "#          train calls backPropagate\n",
    "#          backPropagate modifies self.inputWeight and self.outputWeight\n",
    "#          self.inputWeight and self.outputWeight are used in update \n",
    "#          repeats itself 1000 times. Then in the analyzer code we call test \n",
    "#          test calls update (Line 260)\n",
    "#          update uses self.inputWeight and self.outputWeightchanges (self.inputWeight and \n",
    "#          self.outputWeight were modified by backpropagate)\n",
    "#          update changes self.inputActivation, self.hiddenActivation, self.outputActivation\n",
    "#          update returns self.outputActivation (as an array) \n",
    "#That is how train and test relate to each other, through self.inputWeight and self.outputWeight\n",
    "#because backpropagate inside train modifies self.inputWeight and self.outputWeight\n",
    "#and then self.inputWeight and self.outputWeight are used by update which is called inside test\n",
    "\n",
    "    def update(self, inputs):\n", 
    "        #input is [531.9904153999998, 524.052386, 539.172466]\n",
    "        if len(inputs) != self.inputNodes-1: #if len(inputs) != 3\n",
    "            raise ValueError('wrong number of inputs')\n",
    "\n",
    "        # input activations\n",
    "        for i in range(self.inputNodes-1): #loops 3 times (4-1 = 3 times)\n",
    "            self.inputActivation[i] = inputs[i] \n",
    "            #we modify all the values except the default value of the bias input node\n",
    "        #print \"self.inputActivation inside update function: \", self.inputActivation[:]\n",
    "        #self.inputActivation inside update function:\n",
    "        #[531.9904153999998, 524.052386, 539.172466, 1.0]\n",
    "        #before, self.inputActivation was [1.0, 1.0, 1.0, 1.0]\n",
    "\n",
    "        # hidden activations\n",
    "        for j in range(self.hiddenNodes): #loops 3 times\n",
    "            sum = 0.0\n",
    "            for i in range(self.inputNodes): #loops 4 times\n",
    "                sum = sum + self.inputActivation[i] * self.inputWeight[i][j] \n",
    "                #len(m) is 4; \n",
    "                #m = [[0.0, 0.0, 0.0], [0.0, 0.0, 0.0], \n",
    "                #     [0.0, 0.0, 0.0], [0.0, 0.0, 0.0]]\n",
    "                #self.inputActivation inside update function:  \n",
    "                #[531.9904153999998, 524.052386, 539.172466, 1.0]\n",
    "\n",
    "                #self.inputWeight fed with rand(-0.2, 0.2):\n",
    "                #[[0.13776874061001926, 0.10318176117612099, -0.031771367667662004],\n",
    "                # [-0.09643329988281467, 0.004509888547443414, -0.03802634501983429],\n",
    "                # [0.11351943561390904, -0.07867490956842903, -0.009361218339057675],\n", 
    "                # [0.03335281578201249, 0.16324515407813406, 0.0018747423269561136]]\n",
    "                #Extract (summary)\n",
    "                #j, loops 3 times\n",
    "                #i, loops 4 times\n",
    "                ##j=0\n",
    "                # Then: \n",
    "                #self.inputActivation = sia #len(sia) is 4\n",
    "                # sia[0], sia[1], sia[2], sia[3] \n",
    "                #   m[0][0], m[1][0], m[2][0], m[3][0]\n",
    "                #self.hiddenActivation[0] = sigmoid(sum) #part of the result\n",
    "                ##j=1\n",
    "                # Then: \n",
    "                #self.inputActivation = sia #len(sia) is 4\n",
    "                # sia[0], sia[1], sia[2], sia[3] \n",
    "                #   m[0][1], m[1][1], m[2][1], m[3][1]\n",
    "                #self.hiddenActivation[1] = sigmoid(sum) #part of the result \n",
    "                ##j=2\n",
    "                # Then: \n",
    "                #self.inputActivation = sia #len(sia) is 4\n",
    "                # sia[0], sia[1], sia[2], sia[3] \n",
    "                #   m[0][2], m[1][2], m[2][2], m[3][2]\n",
    "                #self.hiddenActivation[2] = sigmoid(sum) #part of the result\n", 
    "\n",
    "            self.hiddenActivation[j] = sigmoid(sum) \n",
    "            #>>> len(d) is 3; d = [1.0]*3 gives d = [1.0, 1.0, 1.0]\n",
    "            #before, self.inputActivation was [1.0, 1.0, 1.0]\n",
    "        #print \"self.hiddenActivation inside update function: \", self.hiddenActivation[:]\n",
    "        #self.hiddenActivation inside update function:  \n",
    "        #[1.0, 0.9999999999998125, -1.0]\n",
    "\n",
    "        # output activations\n",
    "        #print \"range(self.outputNodes): \", range(self.outputNodes) \n",
    "        #range(self.outputNodes):  [0]\n",
    "        for k in range(self.outputNodes): #loops 1 time, k=0\n",
    "            sum = 0.0\n",
    "            for j in range(self.hiddenNodes): #loops 3 times\n",
    "                sum = sum + self.hiddenActivation[j] * self.outputWeight[j][k] \n",
    "            self.outputActivation[k] = sigmoid(sum) \n",
    "            #>>> len(e) is 1; e = [1.0]*1 gives e = [1.0]\n",
    "\n",
    "        #print \"This is full self.outputWeight: \", self.outputWeight[:]\n",
    "        #This is full self.outputWeight:  \n",
    "        #[[-0.8726486224011847], [1.0232168166288957], [0.4734759867013265]]\n",
    "        #before the update self.outputWeight was [[0.0], [0.0], [0.0]]\n",
    "        # range(self.outputNodes):  [0], k is always [0], loops 1 time\n",
    "        # This is [j][k]:  0 0 #k from the outer loop, j from the inner loop\n",
    "        # This is [j][k]:  1 0\n",
    "        # This is [j][k]:  2 0\n",
    "        # n[0][0], n[1][0], n[2][0]  #len(n) is 1; n = [[0.0], [0.0], [0.0]]\n",
    "\n",
    "        #print \"self.outputActivation inside update function: \", self.outputActivation[:]\n",
    "        #self.outputActivation inside update function:  [0.9606026038505812]\n",
    "        #before update self.outputActivation was [1.0]\n",
    "        return self.outputActivation[:] #len(self.outputActivation) is 1;\n",
    "        #self.outputActivation = e, e = [1.0]*1 gives e = [1.0]\n",
    "\n",
    "    #Note: self.inputWeight and self.outputWeight are \n",
    "    #modified in backPropagate (also self.co and self.ci)\n",
    "    def backPropagate(self, targets, N, M):\n",
    "        if len(targets) != self.outputNodes: \n",
    "        #len(targets) is 1, self.outputNodes = 1\n",
    "            raise ValueError('wrong number of target values')\n",
    "\n",
    "        # calculate error terms for output\n",
    "        output_deltas = [0.0] * self.outputNodes \n",
    "        #output_deltas = [0.0]*1 or [0.0]\n",
    "        for k in range(self.outputNodes): \n",
    "        #loops 1 time, k is always [0] \n",
    "            error = targets[k]-self.outputActivation[k] \n",
    "            #self.outputActivation[0] is [1.0]\n",
    "            output_deltas[k] = dsigmoid(self.outputActivation[k]) * error \n",
    "            #output_deltas = [0.0] with a different value rather than 0.0\n",
    "        #print \"output deltas from backPropagate function: \", output_deltas \n",
    "        #because of the loop with 1000 iterations\n",
    "        #output deltas appears 1000 times with different values\n",
    "        #example\n",
    "        #output deltas from backPropagate function:  [0.0025952033592540847]\n",
    "\n",
    "        # calculate error terms for hidden\n",
    "        hidden_deltas = [0.0] * self.hiddenNodes \n",
    "        #hidden_deltas = [0.0]*3 or [0.0, 0.0, 0.0]\n",
    "        for j in range(self.hiddenNodes): #loops 3 times\n",
    "            error = 0.0\n",
    "            for k in range(self.outputNodes): #loops 1 time, k is always [0] \n",
    "                error = error + output_deltas[k]*self.outputWeight[j][k] \n",
    "                #self.outputWeight is [[0.0], [0.0], [0.0]]\n",
    "                #of course as update function is called it gives \n",
    "                #self.outputWeight different values rather than 0.0 \n",
    "            hidden_deltas[j] = dsigmoid(self.hiddenActivation[j]) * error \n",
    "            #hidden_deltas = [0.0, 0.0, 0.0] (result from [0.0]*3) \n",
    "            #with different values rather than 0.0\n",
    "        #hidden_Activation is [1.0, 1.0, 1.0] but with different values, \n",
    "        # from [1.0]*3 gives [1.0, 1.0, 1.0]\n",
    "        #print \"hidden deltas from backPropagate function: \", hidden_deltas \n",
    "        #because of the loop with 1000 iterations\n",
    "        #hidden deltas appears 1000 times with different values\n",
    "        #example\n",
    "        #hidden deltas from backPropagate function:  [-0.0, 1.7789468019844285e-15, -0.0]\n",
    "\n",
    "        # update output weights\n",
    "        for j in range(self.hiddenNodes): #loops 3 times\n",
    "            for k in range(self.outputNodes): #loops 1 time, k is always [0] \n",
    "                change = output_deltas[k]*self.hiddenActivation[j] \n",
    "                #output_deltas = [0.0] with a different value rather than 0.0\n",
    "                #print \"change for self.co :\", change\n",
    "                self.outputWeight[j][k] = self.outputWeight[j][k] + N*change + M*self.co[j][k] \n",
    "                #self.outputWeight is [[0.0], [0.0], [0.0]] \n",
    "                #of course as update function is called it gives\n",
    "                #self.outputWeight different values rather than 0.0\n",
    "                self.co[j][k] = change #self.co is [[0.0], [0.0], [0.0]]\n",
    "                #and the float type zeros are substituted by new values, change\n",
    "        #print \"self.co from backPropagate function: \", self.co \n",
    "        #because of the loop with 1000 iterations\n",
    "        #self.co appears 1000 times with different values\n",
    "        #example\n",
    "        #self.co from backPropagate function:\n",
    "        #[[0.00013728964264772642], [0.00013728964264770067], [-0.00013728964264772642]]\n",
    "\n",
    "        # update input weights\n",
    "        for i in range(self.inputNodes): #loops 4 times (3+1=4)\n",
    "            for j in range(self.hiddenNodes): #loops 3 times\n",
    "                change = hidden_deltas[j]*self.inputActivation[i]\n",
    "                #hidden_deltas = [0.0, 0.0, 0.0] \n",
    "                #(result from [0.0]*3) with different values rather than 0.0\n",
    "                #print \"change for self.ci: \", change\n",
    "                self.inputWeight[i][j] = self.inputWeight[i][j] + N*change + M*self.ci[i][j] \n",
    "                #self.inputWeight has length 4 and is:\n",
    "                # [[0.0, 0.0, 0.0], [0.0, 0.0, 0.0],\n",
    "                # [0.0, 0.0, 0.0], [0.0, 0.0, 0.0]].\n",
    "                #The float type zeros are substituted by new values\n",
    "                self.ci[i][j] = change \n",
    "                #self.ci has length 4 and is: \n",
    "                #[[0.0, 0.0, 0.0], [0.0, 0.0, 0.0],\n",
    "                # [0.0, 0.0, 0.0], [0.0, 0.0, 0.0]]. \n",
    "                #The float type zeros are substituted by new values, change\n",
    "        #print \"self.ci from backPropagate function: \", self.ci \n",
    "        #because of the loop with 1000 iterations\n",
    "        #self.ci appears 1000 times with different values\n",
    "        #example\n",
    "        #self.ci from backPropagate function:  \n",
    "        #[[0.0, 5.599362764540085e-14, -0.0], \n",
    "        # [0.0, 5.515812563334366e-14, -0.0], \n",
    "        # [0.0, 5.674956056333596e-14, -0.0], \n",
    "        # [0.0, 1.0525307604141634e-16, -0.0]]\n",
    "\n",
    "        # calculate error\n",
    "        error = 0.0\n",
    "        for k in range(len(targets)): #loops 1 time, k is always [0] \n",
    "            error = error + 0.5*(targets[k] - self.outputActivation[k])**2\n",
    "        #print \"error, return value from backPropagate function: \", error\n",
    "        return error #because of the loop with 1000 iterations\n",
    "        #error appears 1000 times with different values\n",
    "        #example (last value, 1000th value)\n",
    "        #error, return value from backPropagate function:  3.42294633473e-05 \n",
    "\n",
    "    def test(self, inputNodes):\n",
    "        #print \"This is self from input from test from NeuralNetwork: \", self\n",
    "        #print \"This is the input from test from NeuralNetwork: \", inputNodes\n",
    "        print(inputNodes, '->', self.update(inputNodes))\n",
    "        #print \"test1 (self.update(inputNodes): \", self.update(inputNodes) \n",
    "        #prints an array with only one value\n",
    "        #print \"test2 (self.update(inputNodes)[0])\", self.update(inputNodes)[0]\n",
    "        #prints the value (only) without being inside the array\n",
    "        return self.update(inputNodes)[0] \n",
    "        #returns the value (only) without being inside the array\n",
    "        #example: -0.3763290104856086\n",
    "\n",
    "        #from function **test** from neuralNetwork.py. Line 134\n",
    "        # ([699.7640014000001, 692.359985, 711.119995], '->', [-0.3763290104856086])\n",
    "\n",
    "    def weights(self):\n",
    "        print('Input weights:')\n",
    "        for i in range(self.inputNodes):\n",
    "            print(self.inputWeight[i])\n",
    "        print()\n",
    "        print('Output weights:')\n",
    "        for j in range(self.hiddenNodes):\n",
    "            print(self.outputWeight[j])\n",
    "\n",
    "# Momentum factor:\n",
    "# To avoid oscillating weight changes the momentum factor is defined. \n",
    "# Therefore the calculated weight change would not be the same always. \n",
    "# alpha (Greek letter) is called the momentum factor, and \n",
    "# typically take values in the range [0.7, 0.95]: 0.1 #change it \n",
    "\n",
    "# #Momentum\n",
    "# Momentum basically allows a change to the weights to persist \n",
    "# for a number of adjustment cycles.\n", 
    "# The magnitude of the persistence is controlled by the momentum factor. \n",
    "# If the momentum factor is set to 0, then the equation reduces to that of Equation 3. \n",
    "# If the momentum factor is increased from 0, then increasingly greater persistence of \n",
    "# previous adjustments is allowed in modifying the current adjustment. \n",
    "# This can improve the learning rate in some situations, \n",
    "# by helping to smooth out unusual conditions \n",
    "# in the training set. [Link](http://www.cheshireeng.com/Neuralyst/nnbg.htm)\n",
    "# Another technique that can help the network out of local minima is the use of a momentum term. \n",
    "# This is probably the most popular extension of the backprop algorithm; \n",
    "# it is hard to find cases where this is not used. \n",
    "# With momentum m, the weight update at a given time t becomes \n",
    "#(the equation where M is included. Check the link below)\n",
    "# where 0 < m < 1 is a new global parameter which must be determined by trial and error. \n",
    "# Momentum simply adds a fraction m of the previous weight update to the current one.\n", 
    "# When the gradient keeps pointing in the same direction, \n",
    "# this will increase the size of the steps taken towards the minimum. \n",
    "# It is otherefore often necessary to reduce the global learning rate mu (Greek letter)\n",
    "# when using a lot of momentum (m close to 1). \n",
    "# If you combine a high learning rate with a lot of momentum, \n",
    "# you will rush past the minimum with huge steps!\n",
    "\n",
    "# When the gradient keeps changing direction, momentum will smooth out the variations. \n",
    "# This is particularly useful when the network is not well-conditioned. \n",
    "# In such cases the error surface has substantially different curvature along different directions, \n",
    "# leading to the formation of long narrow valleys. For most points on the surface, \n",
    "# the gradient does not point towards the minimum, \n",
    "# and successive steps of gradient descent can oscillate from one side to the other,\n",
    "# progressing only very slowly to the minimum (Fig. 2a). \n",
    "# Fig. 2b shows how the addition of momentum helps to speed up convergence to the minimum \n",
    "# by damping these oscillations. Link: https://www.willamette.edu/~gorr/classes/cs449/momrate.html\n",
    "\n",
    "#Learning rate\n",
    "# With momentum m, the weight update at a given time t becomes \n",
    "#(the equation where M is included. Check the link below)\n",
    "# where 0 < m < 1 is a new global parameter which must be determined by trial and error. \n",
    "# Momentum simply adds a fraction m of the previous weight update to the current one.\n", 
    "# When the gradient keeps pointing in the same direction, \n",
    "# this will increase the size of the steps taken towards the minimum. \n",
    "# It is otherefore often necessary to reduce the global learning rate mu (Greek letter)\n",
    "# when using a lot of momentum (m close to 1). \n",
    "# If you combine a high learning rate with a lot of momentum, \n",
    "# you will rush past the minimum with huge steps!\n",
    "# [Link](https://www.willamette.edu/~gorr/classes/cs449/momrate.html)\n",
    "\n",
    "#Iterations\n",
    "#Ya! \n",
    "# Minimum performance gradient: #1e-7 [Link](http://www.mathworks.com/help/nnet/ref/trainlm.html)\n",
    "# The network training terminates when either the maximum number of iterations is reached or\n",
    "# the performance gradient falls below 10-6. \n",
    "# Furthermore, the generalization performance is evaluated using \n",
    "# classification accuracy for the classification problem.\n",
    "# Example:\n",
    "# *the maximum number of training iterations is: 500\n",
    "# *the minimum performance gradient is 10-6;and\n",
    "# *the learning rate is 0.01\n",
    "# [Link](https://books.google.com.mx/books?id=rD2FCwAAQBAJ&pg=PA79&lpg=PA79&dq=artificial+neural+network+minimum+performance+gradient&source=bl&ots=Dhj2ag-SMv&sig=oUeCenJ4zbYU5YBMMgjdK0d1ZvA&hl=en&sa=X&ved=0ahUKEwioodKS7fPMAhUSE1IKHaJ3BXYQ6AEIQzAF#v=onepage&q=artificial%20neural%20network%20minimum%20performance%20gradient&f=false)\n",
    "\n",
    "    def initial_train(self, patterns, iterations = 1000, N = 0.5, M = 0.1):\n",
    "        # N: learning rate, M: momentum factor\n",
    "        #print \"Test1 This is patterns: \", patterns\n",
    "        #This is patterns (input of train function from NeuralNetwork):\n",
    "        #[[[531.9904153999998, 524.052386, 539.172466], [1.0000000000000075]]]\n",
    "        for i in range(iterations):\n",
    "            error = 0.0\n",
    "            #print \"Test2 This is patterns: \", patterns\n",
    "            for p in patterns: #an array of 5 arrays (each array has two arrays)\n",
    "                #print \"Test3 This is patterns: \", patterns\n",
    "                #print \"This is p from patterns: \", p \n",
    "                inputs = p[0] #three items\n",
    "                #print \"This is p[0]: \", inputs\n",
    "                targets = p[1] #one item\n",
    "                #print \"This is targets: \", targets\n",
    "                self.update(inputs)\n",
    "                error = error + self.backPropagate(targets, N, M)\n",
    "            if i % 100 == 0:\n",
    "                print('error %-.5f' % error)\n",
    "\n",
    "print \"Artificial Neural Network test\"\n",
    "ANN_test = NeuralNetwork(3,3,1)\n",
    "print \"ANN_test: \", ANN_test\n",
    "print \"input Nodes: \", ANN_test.inputNodes\n",
    "print \"hidden Nodes: \", ANN_test.hiddenNodes\n",
    "print \"output Nodes: \", ANN_test.outputNodes\n",
    "print \"input Activation: \", ANN_test.inputActivation\n",
    "print \"hidden Activation: \", ANN_test.hiddenActivation\n",
    "print \"output Activation: \", ANN_test.outputActivation\n",
    "print \"input Weight: \", ANN_test.inputWeight\n",
    "print \"output Weight: \", ANN_test.outputWeight\n",
    "print \"last change in weight for momentum, input-and-hidden: \", ANN_test.ci\n",
    "print \"last change in weight for momentum, hidden-and-output: \", ANN_test.co"
   ]
  },  

  {
   "cell_type": "code",
   "execution_count": 6,
   "metadata": {
    "collapsed": false
   },
   "outputs": [

    {
     "data": {
      "text/plain": []
     },
     "execution_count": 6,
     "metadata": {},
     "output_type": "execute_result"
    },
    {
     "data": {
      "image/png": "\n",
      "text/plain": []
     },
     "metadata": {},
     "output_type": "display_data"
    }
    
    ],
   "source": [
    
    "#Image6-a\n",
    "\n",
    "#Citation: \n",
    "#Jeerge, Gururaj. \"Artificial Neural Networks Technology.\"\n",
    "#   Sasta Servers. Sasta Servers, 25 May 2015. Web. 10 May 2016.\n",
    "#   <http://www.sastaservers.com/blog/artificial-neural-networks-technology/>."
    
   ]
  },

  {
   "cell_type": "code",
   "execution_count": 6,
   "metadata": {
    "collapsed": false
   },
   "outputs": [

    {
     "data": {
      "text/plain": []
     },
     "execution_count": 6,
     "metadata": {},
     "output_type": "execute_result"
    },
    {
     "data": {
      "image/png": "\n",
      "text/plain": []
     },
     "metadata": {},
     "output_type": "display_data"
    }
    
    ],
   "source": [
    
    "#Image6-b\n",
    "\n",
    "#Citation: \n",
    "#\"McCaffrey, James. \"Neural Network Dropout Training.\"\n",
    "#   Visual Studio Magazine. Media, Inc., 13 May 2014. Web. 9 May 2016.\n",
    "#   <https://visualstudiomagazine.com/articles/2014/05/01/neural-network-dropout-training.aspx>."
    
   ]
  },  
  
 {
   "cell_type": "code",
   "execution_count": 6,
   "metadata": {
    "collapsed": false
   },
   "outputs": [

    {
     "data": {
      "text/plain": []
     },
     "execution_count": 6,
     "metadata": {},
     "output_type": "execute_result"
    },
    {
     "data": {
      "image/png": "\n",
      "text/plain": []
     },
     "metadata": {},
     "output_type": "display_data"
    }
    
    ],
   "source": [
    
    "#Image6-c\n",
    "\n",
    "#Citation: \n",
    "#Dejan Tanikić and Vladimir Despotovic (2012). Artificial Intelligence Techniques\n",
    "#for Modelling of Temperature in the Metal Cutting Process, Metallurgy - Advances in Materials\n",
    "#and Processes, \n",
    "#Dr. Yogiraj Pardhi (Ed.), InTech, DOI: 10.5772/47850.\n",
    "#Available from: http://www.intechopen.com/books/metallurgy-advances-in-materials-and-processes/\n",
    "#artificial-intelligence-techniques-for-modelling-of-temperature-in-the-metal-cutting-process"
    
   ]
  },  
  
  {
   "cell_type": "markdown",
   "metadata": {},
   "source": [
    "### 7. Benchmark\n",
    "In this section, you will need to provide a clearly defined benchmark result or threshold for comparing across performances obtained by your solution. The reasoning behind the benchmark (in the case where it is not an established result) should be discussed. Questions to ask yourself when writing this section:\n",
    "\n",
    "   * Has some result or value been provided that acts as a benchmark for measuring performance?\n",
    "   * Is it clear how this result or value was obtained (whether by data or by hypothesis)?\n",
    "\n",
    "The metrics that I chose to establish benchmarks are: \n",
    "\n",
    "    a) metric#6\n",
    "\n",
    "    b) complement of metric#6\n",
    "\n",
    "    c) cumulative forecast error\n",
    "\n",
    "    d) average gain per prediction\n",
    "\n",
    "    e) average loss per prediction\n",
    "\n",
    "    f) cumulative forecast error (average total gain per prediction)\n",
    "\n",
    "*Note*: Those metrics were chosen because those are easier to interpret by the user/reader and in general **give preference** to the **seller** in *daily trading*."
   ]
  },
 
  {
   "cell_type": "code",
   "execution_count": 7,
   "metadata": {
    "collapsed": false
   },
   "outputs": [
    {
     "data": {
      "text/plain": [
       "length of y_true (expect):  92\n",
       "length of y_pred (predict):  92\n",
       "y_true (expect) list:  [563.390015, 538.412447, 538.412447, 528.702406, 538.382457, 538.08244, 529.902414, 542.292472, 1115.461873, 1160.932041, 1201.412007, 536.1024, 556.002496, 583.76265, 571.852606, 540.622426, 528.772422, 723.409973, 743.0, 703.299988, 692.97998, 736.789978, 712.0, 711.929993, 709.130005, 529.012399, 511.002313, 507.252283, 521.482349, 531.732383, 529.2424, 559.392531, 561.652513, 533.762426, 550.99248, 555.152509, 565.192556, 583.352651, 746.450012, 721.679993, 730.849976, 743.0, 703.299988, 703.299988, 702.179993, 522.782362, 511.002313, 560.432554, 570.50259, 540.852427, 532.222436, 532.222436, 538.530029, 583.352651, 583.76265, 590.722655, 582.602608, 569.042592, 569.042592, 569.042592, 576.11258, 784.5, 770.219971, 722.809998, 703.869995, 667.849976, 672.320007, 686.859985, 532.929993, 539.909973, 537.76001, 528.0, 525.01001, 659.23999, 607.200012, 711.059998, 585.742628, 569.992585, 564.522567, 577.862619, 586.602653, 572.94257, 531.012391, 531.442404, 714.98999, 698.469971, 720.0, 750.059998, 750.059998, 697.630005, 723.409973, 711.929993]\n",
       "y_pred (predict) list:  [530.054901, 540.8036665045757, 537.0647657024133, 537.9888224641802, 547.8729210791032, 546.06248575, 537.9887763098276, 547.8727578378831, 1114.51690625, 1134.8919155000008, 1181.9294925, 551.13748475, 526.7889995402862, 568.1594741587471, 579.1946674272501, 536.33991375, 509.83731425, 699.975006, 756.25, 713.89248675, 682.3424985, 731.798800421629, 703.8250568223617, 699.975006, 702.6275664711771, 527.1811356660272, 496.6722495, 496.4671613124617, 496.46728296133534, 529.68488275, 528.858503001139, 563.4250297350113, 563.440658010558, 527.05990125, 556.0425517491253, 556.4509260653349, 550.3599775, 568.2950892570228, 760.86500575, 735.442505, 735.442505, 755.5087109215558, 735.8125, 719.8787378515841, 713.14501925, 515.2340114639744, 515.2292568423221, 551.3000095, 555.0575065, 559.04003225, 559.04003225, 564.6843476895696, 541.8100126891477, 568.2950892607474, 568.2950892628403, 579.242624, 580.12514075, 593.62269825, 593.3684956072775, 591.4016090749457, 566.06457625, 720.3625030000001, 716.569992, 716.5699920000001, 716.569992, 719.5174865, 738.38002, 738.0550077500001, 538.0966063032863, 534.1349942500182, 534.1349942500385, 536.37500025, 530.68060047818, 528.35501125, 629.5230259964808, 667.2069686357872, 579.4393196926891, 570.357585, 567.1650525, 570.6845884598359, 575.6796350882104, 580.4552932462278, 569.0682641504072, 538.544951, 703.7853776820485, 703.0838435967796, 703.081516580661, 739.95001225, 740.0450135, 745.7034035142151, 699.975006, 699.975006]\n",
       "mean absolute error 16.3373050484\n",
       "mean absolute percent error:  2.56467188276\n",
       "mean absolute deviation:  16.3373050484\n",
       "r2 score:  0.96262513743\n",
       "Spearman correlation:  0.908459279805\n",
       "negative error list:  [-2.3912195045757016, -9.286416464180206, -9.490464079103162, -7.980045749999931, -8.086362309827564, -5.580285837883139, -15.03508475000001, -7.342061427250087, -13.25, -10.592498750000004, -4.032498735011359, -1.7881450105579688, -5.050071749125323, -1.2984170653348883, -14.414993750000008, -13.762512000000015, -4.592529000000013, -12.508710921555803, -32.512512000000015, -16.57874985158412, -10.96502625000005, -4.2269438423221, -18.187605249999933, -26.81759624999995, -32.46191168956955, -3.2799836891476843, -24.58010624999997, -24.325903607277496, -22.359017074945655, -12.69999699999994, -51.66751050000005, -66.06001299999991, -51.19502275000002, -5.16661330328634, -8.375000249999971, -5.670590478180088, -22.323013996480768, -0.3650000000000091, -2.6424855000000207, -7.512723246227779, -38.05587315040725, -7.102546999999959, -4.613872596779629, -48.073398514215114]\n",
       "positive error list:  [33.335113999999976, 1.347681297586746, 0.9449667500000487, 26.04012549999925, 19.48251449999998, 29.213496459713724, 15.603175841252892, 4.282512249999968, 18.935107749999986, 23.43496700000003, 10.637481499999922, 4.99117757837098, 8.174943177638283, 11.95498699999996, 6.502438528822836, 1.8312633339727427, 14.330063499999994, 10.785121687538265, 25.015066038664656, 2.0475002499999846, 0.3838969988610188, 6.702524749999952, 14.832578499999954, 15.057561742977214, 7.548350536025623, 9.132544499999995, 15.44508350000001, 15.057561739252606, 15.467560737159715, 11.480031000000054, 2.477467250000018, 10.04800375000002, 64.13749699999994, 53.64997900000003, 6.24000599999988, 5.774978749981869, 3.625015749961449, 130.88497875000007, 43.853029364212716, 6.3033083073108855, 7.178030540164059, 10.923017911789657, 11.2046123179515, 16.918483419339054, 10.109985749999964, 10.014984499999969, 23.43496700000003, 11.95498699999996]\n",
       "length is right!\n",
       "length of negative error list:  44\n",
       "percetage of negative errors:  47.8260869565\n",
       "length of positive error list:  48\n",
       "percentage of positive errors:  52.1739130435\n",
       "metric#6:  -694.301334145\n",
       "complement of metric#6:  808.730730309\n",
       "cumulative forecast error:  114.429396164\n",
       "Now it is time to check if this Stock Predictor for daily stock prices is good enough for you\n",
       "You gained (using the given data):  808.730730309\n",
       "You lost (using the given data):  -694.301334145\n",
       "Your final gain or Cumulative forecast error:  114.429396164\n",
       "Average gain per stock price:  8.7905514164\n",
       "Average loss per stock price:  -7.54675363201\n",
       "Average total gain per stock price:  1.24379778439\n",
       "maximum loss:  -66.060013\n",
       "maximum gain:  130.88497875\n",
       "total probability of loss (negative values): 47.8260869565\n",
       "total probability of gain (positive_values):  52.1739130435\n",
       "probability of three min values:  0\n",
       "probability of three max values:  0.0326086956522"
      ]
     },
     "execution_count": 7,
     "metadata": {},
     "output_type": "execute_result"
    }
   ],
   "source": [
    "# ================================================================\n",
    "def mean_abs_percent_error(y_true, y_pred):\n",
    "    #Mean Absolute Percent Error\n",
    "    #formula\n",
    "    #i = 0\n",
    "    total = 0\n",
    "    for i in range(len(y_true)):\n",
    "    #while i < len(y_true):\n",
    "        total += abs(y_true[i] - y_pred[i])/abs(y_true[i])\n",
    "        i += 1\n",
    "\n",
    "    val = total/len(y_true)\n",
    "    mean_abs_percent_val = val * 100\n",
    "    return mean_abs_percent_val\n",
    "\n",
    "def mean_abs_deviation(y_true, y_pred):\n",
    "    #Mean Absolute Deviation\n",
    "    #formula\n",
    "    #i = 0\n",
    "    total = 0\n",
    "    #while i < len(y_true):\n",
    "    for i in range(len(y_true)):\n",
    "        total += abs(y_true[i] - y_pred[i])\n",
    "        i += 1\n",
    "    dev = total/len(y_true)\n",
    "    return dev\n",
    "\n",
    "def spearman_correlation(y_true, y_pred):\n",
    "    #Calculate Spearman's rank correlation coefficient between\n", 
    "    #y_true and y_pred\n",
    "    #param y_true: The true/actual/gold labels for the data.\n",
    "    #type y_true: array-like of float\n",
    "    #param y_pred: The predicted/observed labels for the data.\n",
    "    #type y_pred: array-like of float\n",
    "    #returns: Spearman's rank correlation coefficient if well-defined, else 0\n",
    "\n",
    "    ret_score = spearmanr(y_true, y_pred)[0]\n",
    "    return ret_score if not np.isnan(ret_score) else 0.0\n",
    "\n",
    "def cumulative_forecast_error(y_true, y_pred):\n",
    "    #Cumulative Forecast Error\n",
    "    #formula\n",
    "    #i = 0\n",
    "    total = 0\n",
    "    #while i < len(y_true):\n",
    "    for i in range(len(y_true)):\n",
    "        total += y_true[i] - y_pred[i]\n",
    "        i += 1\n",
    "    return total \n",
    "\n",
    "#6 This is my metric, the loss (total negative error)\n",
    "#len(y_true)\n",
    "#List the negative_values and show len(negative_values)\n",
    "#add the negative_values and that is our metric, how much we have lost\n",
    "#List the positive_values and show the len(positive_values)\n",
    "#add the positive_values and that is the complement of our metric, how much we have lost \n",
    "#Check the difference between what we have gained and lost and \n",
    "#find if this stock predictor is good enough for you\n",
    "def metric_six(y_true, y_pred):\n",
    "    negative_vals = []\n",
    "    positive_vals = []\n",
    "    errors_list = []\n",
    "    #i = 0\n",
    "    m6 = 0\n",
    "    complement_m6 = 0\n",
    "    #while i < len(y_true):\n",
    "    for i in range(len(y_true)):\n",
    "        error = y_true[i] - y_pred[i]\n",
    "        if error < 0:\n",
    "            negative_vals.append(error)\n",
    "            m6 += error\n",
    "        else: \n",
    "            positive_vals.append(error)\n",
    "            complement_m6 += error\n",
    "        errors_list.append(error)\n",
    "        i += 1\n",
    "    my_metric = [errors_list, negative_vals, positive_vals, m6, complement_m6]\n",
    "    return my_metric\n",
    "\n",
    "#Metrics:\n",
    "#1. Mean Absolute Error\n",
    "#2. Mean Absolute Percent Error\n",
    "#3. Mean Absolute Deviation\n",
    "#4. r2-score\n",
    "#5. Spearman Correlation\n",
    "#6. metric6\n",
    "#7. complement of metric6\n",
    "#8. Cumulative Forecast Error\n",
    "#9. Average gain per stock price prediction\n",
    "#10. Average loss per stock price prediction\n",
    "#11. Average total gain per stock price prediction\n",
    "#12. Maximum loss (minimum error)\n",
    "#13. Maximum gain (maximum error)\n",
    "#14. Total probability of loss (negative values)\n",
    "#15. Total probability of gain (positive_values)\n",
    "\n",
    "#[Important Source of Information](https://www.kaggle.com/forums/f/15/kaggle-forum/t/6270/what-s-the-best-way-to-measure-accuracy-significance-of-a-stock-prediction)\n",
    "\n",
    "#Mean Absolute Error\n",
    "from sklearn.metrics import mean_absolute_error\n",
    "\n",
    "expect_test = [563.390015, 538.412447, 538.412447, 528.702406, 538.382457, 538.08244, 529.902414, 542.292472, 1115.461873, 1160.932041, 1201.412007, 536.1024, 556.002496, 583.76265, 571.852606, 540.622426, 528.772422, 723.409973, 743.0, 703.299988, 692.97998, 736.789978, 712.0, 711.929993, 709.130005, 529.012399, 511.002313, 507.252283, 521.482349, 531.732383, 529.2424, 559.392531, 561.652513, 533.762426, 550.99248, 555.152509, 565.192556, 583.352651, 746.450012, 721.679993, 730.849976, 743.0, 703.299988, 703.299988, 702.179993, 522.782362, 511.002313, 560.432554, 570.50259, 540.852427, 532.222436, 532.222436, 538.530029, 583.352651, 583.76265, 590.722655, 582.602608, 569.042592, 569.042592, 569.042592, 576.11258, 784.5, 770.219971, 722.809998, 703.869995, 667.849976, 672.320007, 686.859985, 532.929993, 539.909973, 537.76001, 528.0, 525.01001, 659.23999, 607.200012, 711.059998, 585.742628, 569.992585, 564.522567, 577.862619, 586.602653, 572.94257, 531.012391, 531.442404, 714.98999, 698.469971, 720.0, 750.059998, 750.059998, 697.630005, 723.409973, 711.929993]\n",
    "predict_test = [530.054901, 540.8036665045757, 537.0647657024133, 537.9888224641802, 547.8729210791032, 546.06248575, 537.9887763098276, 547.8727578378831, 1114.51690625, 1134.8919155000008, 1181.9294925, 551.13748475, 526.7889995402862, 568.1594741587471, 579.1946674272501, 536.33991375, 509.83731425, 699.975006, 756.25, 713.89248675, 682.3424985, 731.798800421629, 703.8250568223617, 699.975006, 702.6275664711771, 527.1811356660272, 496.6722495, 496.4671613124617, 496.46728296133534, 529.68488275, 528.858503001139, 563.4250297350113, 563.440658010558, 527.05990125, 556.0425517491253, 556.4509260653349, 550.3599775, 568.2950892570228, 760.86500575, 735.442505, 735.442505, 755.5087109215558, 735.8125, 719.8787378515841, 713.14501925, 515.2340114639744, 515.2292568423221, 551.3000095, 555.0575065, 559.04003225, 559.04003225, 564.6843476895696, 541.8100126891477, 568.2950892607474, 568.2950892628403, 579.242624, 580.12514075, 593.62269825, 593.3684956072775, 591.4016090749457, 566.06457625, 720.3625030000001, 716.569992, 716.5699920000001, 716.569992, 719.5174865, 738.38002, 738.0550077500001, 538.0966063032863, 534.1349942500182, 534.1349942500385, 536.37500025, 530.68060047818, 528.35501125, 629.5230259964808, 667.2069686357872, 579.4393196926891, 570.357585, 567.1650525, 570.6845884598359, 575.6796350882104, 580.4552932462278, 569.0682641504072, 538.544951, 703.7853776820485, 703.0838435967796, 703.081516580661, 739.95001225, 740.0450135, 745.7034035142151, 699.975006, 699.975006]\n",
    "\n",
    "y_true = expect_test\n",
    "y_pred = predict_test\n",
    "print \"length of y_true (expect): \", len(y_true)\n",
    "print \"length of y_pred (predict): \", len(y_pred)\n",
    "\n",
    "print \"y_true (expect) list: \", y_true \n",
    "print \"y_pred (predict) list: \", y_pred\n",
    "\n",
    "#1. Mean Absolute Error \n",
    "mean_abs_value = mean_absolute_error(y_true, y_pred)\n",
    "print \"mean absolute error\", mean_abs_value\n",
    "#mean absolute error 20.2985884596\n",
    "\n",
    "#2. Mean Absolute Percent Error\n",
    "mean_abs_perc_value = mean_abs_percent_error(y_true, y_pred)\n",
    "print \"mean absolute percent error: \", mean_abs_perc_value\n",
    "\n",
    "#3. Mean Absolute Deviation\n",
    "mean_abs_dev = mean_abs_deviation(y_true, y_pred)\n",
    "print \"mean absolute deviation: \", mean_abs_dev\n",
    "\n",
    "#4. R-Squared\n",
    "from sklearn.metrics import r2_score\n",
    "r2_score_val = r2_score(y_true, y_pred)\n",
    "print \"r2 score: \", r2_score_val\n",
    "\n",
    "#5. Spearman Correlation\n",
    "corr = spearman_correlation(y_true, y_pred)\n",
    "print \"Spearman correlation: \", corr\n",
    "\n",
    "#6 This is my metric, the loss (total negative error)\n",
    "#len(y_true)\n",
    "#List the negative_values and show len(negative_values)\n",
    "#add the negative_values and that is our metric, how much we have lost\n",
    "#List the positive_values and show the len(positive_values)\n",
    "#add the positive_values and that is the complement of our metric, how much we have lost \n",
    "#Check the difference between what we have gained and lost and find if this stock predictor is good enough for you\n",
    "list_of_errors, negative_values, positive_values, metric6, complement_metric6 = metric_six(y_true, y_pred)\n",
    "\n",
    "print \"negative error list: \", negative_values\n",
    "print \"positive error list: \", positive_values\n",
    "num_neg = len(negative_values)\n",
    "num_pos = len(positive_values)\n",
    "num_neg_percent = num_neg / len(y_true) * 100 \n",
    "num_pos_percent = num_pos / len(y_true) * 100\n",
    "#test length\n",
    "test = num_neg + num_pos\n",
    "if test == len(y_true):\n",
    "    print \"length is right!\"\n",
    "    print \"length of negative error list: \", num_neg\n",
    "    print \"percetage of negative errors: \", num_neg_percent\n",
    "    print \"length of positive error list: \", num_pos\n",
    "    print \"percentage of positive errors: \", num_pos_percent\n",
    "#6. metric6\n",
    "print \"metric#6: \", metric6\n",
    "#7. complement of metric6\n",
    "print \"complement of metric#6: \", complement_metric6\n",
    "#Check if this is good enough for you\n",
    "#8. Cumulative Forecast Error\n",
    "cum_forecast_err = cumulative_forecast_error(y_true, y_pred)\n",
    "print \"cumulative forecast error: \", cum_forecast_err \n",  
    "your_gain = complement_metric6\n",
    "your_loss = metric6\n",
    "average_gain_per_stock_price = your_gain / len(y_true)\n",
    "average_loss_per_stock_price = your_loss / len(y_true)\n",
    "average_total_gain_per_stock_price = average_gain_per_stock_price + average_loss_per_stock_price\n",
    "print \"Now it is time to check if this Stock Predictor for daily stock prices is good enough for you\"\n",
    "print \"You gained (using the given data): \", your_gain\n",
    "print \"You lost (using the given data): \", your_loss\n",
    "gain_loss_difference = your_gain + your_loss\n", 
    "#equivalent to #5. Cumulative forecast error\n",
    "print \"Your final gain or Cumulative forecast error: \", gain_loss_difference \n",
    "#equivalent to #5. Cumulative forecast error\n",
    "#9. Average gain per stock price prediction\n",
    "print \"Average gain per stock price: \", average_gain_per_stock_price\n",
    "#10. Average loss per stock price prediction\n",
    "print \"Average loss per stock price: \", average_loss_per_stock_price\n",
    "#11. Average total gain per stock price prediction\n",
    "print \"Average total gain per stock price: \", average_total_gain_per_stock_price\n",
    "#12. Maximum loss (minimum error)\n",
    "maximum_loss = min(list_of_errors)\n",
    "print \"maximum loss: \", maximum_loss\n",
    "#13. Maximum gain (maximum error)\n",
    "maximum_gain = max(list_of_errors)\n",
    "print \"maximum gain: \", maximum_gain\n",
    "#14. Total probability of loss (negative values)\n",
    "print \"total probability of loss (negative values):\", num_neg_percent\n",
    "#15. Total probability of gain (positive_values)\n",
    "print \"total probability of gain (positive_values): \", num_pos_percent\n",
    "probability_3_min_vals, probability_3_max_vals = 0, 0 \n",
    "#probability 3 min values\n",
    "if num_neg >= 3:\n",
    "    #Just curiosity:\n",
    "    print \"probability of three min values: \", probability_3_min_vals\n",
    "    probability_3_min_vals = float(3/len(y_true))\n",
    "else:\n",
    "    print \"There are less than 3 negative errors in the error list!\"\n",
    "#probability 3 max values\n",
    "if num_pos >= 3:\n",
    "    probability_3_max_vals = float(3/len(y_true))\n",
    "    #Just curiosity:\n",
    "    print \"probability of three max values: \", probability_3_max_vals\n",
    "else:\n",
        "print \"There are less than 3 positive errors in the error list!\""
   ]
  },  

  {
   "cell_type": "code",
   "execution_count": 7,
   "metadata": {
    "collapsed": false
   },
   "outputs": [

    {
     "data": {
      "text/plain": []
     },
     "execution_count": 7,
     "metadata": {},
     "output_type": "execute_result"
    },
    {
     "data": {
      "image/png": "\n",
      "text/plain": []
     },
     "metadata": {},
     "output_type": "display_data"
    }
    
    ],
   "source": [
    
    "#Image7\n",
    "\n",
    "#Citation: \n",
    "#Arbelaez, Pablo. \"Notes on the Evaluation Methodology.\" \n",
    "#Research Projects. University of California, Berkeley, 7 Feb. 2015. Web. 9 May 2016.\n",
    "#<http://www.cs.berkeley.edu/~arbelaez/Notes.html>."
    
   ]
  },   

  {
   "cell_type": "markdown",
   "metadata": {},
   "source": [
    "## Methodology"
   ]
  },
  
  {
   "cell_type": "markdown",
   "metadata": {},
   "source": [
    "### 8. Data Preprocessing\n",
    "In this section, all of your preprocessing steps will need to be clearly documented, if any were necessary. From the previous section, any of the abnormalities or characteristics that you identified about the dataset will be addressed and corrected here. Questions to ask yourself when writing this section:\n",
    "\n",
    "   * If the algorithms chosen require preprocessing steps like feature selection or feature transformations, have they been properly documented?\n",
    "   * Based on the Data Exploration section, if there were abnormalities or characteristics that needed to be addressed, have they been properly corrected?\n",
    "   * If no preprocessing is needed, has it been made clear why?\n",
    "\n",
    "The algorithms chosen only require us to select a company and day. But based on the Data Exploration, the only abnormalities that need to be addressed and properly corrected are the **size of the dataset**. When the stock prices are pulled from *Yahoo Finance*, a smaller set can be received because there are stock prices registered only for work days. It means that without any modification, the predictions are based on sets of input data with different sizes because there are no stock prices registered during the weekends and also during holidays. [Market Holidays](http://www.thestreet.com/stock-market-news/11771386/market-holidays-2015.html) and [Why the Stock Market is closed on the weekend](http://money.stackexchange.com/questions/8950/why-is-the-stock-market-closed-on-the-weekend)."
   ]
  },  
  
  {
   "cell_type": "code",
   "execution_count": 8,
   "metadata": {
    "collapsed": false
   },
   "outputs": [
    {
     "data": {
      "text/plain": [
       "url\n",
       "http://ichart.yahoo.com/table.csv?s=GOOG&d=4&e=27&f=2016&g=d&a=4&b=7&c=2016&ignore=.csv\n",
       "[['Date', 'Open', 'High', 'Low', 'Close', 'Volume', 'Adj Clos'], \n",
       " ['2016-05-27', '724.01001', '733.935974', '724.00', '732.659973', '1974000', '732.65997'], \n",
       " ['2016-05-26', '722.869995', '728.330017', '720.280029', '724.119995', '1542900', '724.11999'], \n",
       " ['2016-05-25', '720.76001', '727.51001', '719.705017', '725.27002', '1629200', '725.2700'], \n",
       " ['2016-05-24', '706.859985', '720.969971', '706.859985', '720.090027', '1920400', '720.09002'], \n",
       " ['2016-05-23', '706.530029', '711.478027', '704.179993', '704.23999', '1320900', '704.2399'],\n", 
       " ['2016-05-20', '701.619995', '714.580017', '700.52002', '709.73999', '1816000', '709.7399'], \n",
       " ['2016-05-19', '702.359985', '706.00', '696.799988', '700.320007', '1656300', '700.32000'],\n", 
       " ['2016-05-18', '703.669983', '711.599976', '700.630005', '706.630005', '1763400', '706.63000'], \n",
       " ['2016-05-17', '715.98999', '721.52002', '704.109985', '706.22998', '1999500', '706.2299'], \n",
       " ['2016-05-16', '709.130005', '718.47998', '705.650024', '716.48999', '1316200', '716.4899']]\n",
       "Choose any date before today: 2016-05-30"
      ]
     },
     "execution_count": 8,
     "metadata": {},
     "output_type": "execute_result"
    }
   ],
   "source": [
    "#Improved function to retrieve the data \n",
    "def get_historical_prices(symbol, chosen_date):\n",
    "    #Get historical prices for the given ticker symbol.\n",
    "    #Date format is 'YYYY-MM-DD'\n",
    "    #Returns a nested list.\n",
    "\n",
    "    import datetime\n",
    "    from datetime import date\n",
    "    from datetime import timedelta\n",
    "\n",
    "    #Test\n",
    "    # >>> chosen_date = '2016-05-10'\n",
    "    # >>> year = int(chosen_date[:4])\n",
    "    # >>> month = int(chosen_date[5:7])\n",
    "    # >>> day = int(chosen_date[8:])\n",
    "    # >>> end_date = datetime.date(year, month, day)\n",
    "    # >>> start_date = str(end_date - datetime.timedelta(days=2))\n",
    "\n",
    "    past_n_days = 20 #fixed \n",
    "\n",
    "    year = int(chosen_date[:4])\n",
    "    month = int(chosen_date[5:7])\n",
    "    day = int(chosen_date[8:])\n",
    "\n",
    "    end_date = datetime.date(year, month, day)\n",
    "\n",
    "    if end_date >= datetime.date.today():\n",
    "        statement = \"Choose any date before today: \" + str(datetime.date.today())\n",
    "        return statement\n",
    "\n",
    "    #assert end_date < datetime.date.today(), \n",
    "    #\"chosen date must be any previous day from today: %r\" % end_date\n",
    "    #assert num == 4, \"len of set is not 4: %r\" % num #example\n",
    "\n",
    "    #start_date = str(end_date - datetime.timedelta(days=past_n_days))\n",
    "    #previous code doesn't work when we previously put from datetime import datetime \n",
    "    start_date = str(end_date - timedelta(days=past_n_days)) #code always functional\n",
    "    end_date = chosen_date\n",
    "\n",
    "    # #month, day and year\n",
    "    url = 'http://ichart.yahoo.com/table.csv?s=%s&' % symbol + \\\n",
    "          'd=%s&' % str(int(end_date[5:7]) - 1) + \\\n",
    "          'e=%s&' % str(int(end_date[8:10])) + \\\n",
    "          'f=%s&' % str(int(end_date[0:4])) + \\\n",
    "          'g=d&' + \\n",
    "          'a=%s&' % str(int(start_date[5:7]) - 1) + \\\n",
    "          'b=%s&' % str(int(start_date[8:10])) + \\\n",
    "          'c=%s&' % str(int(start_date[0:4])) + \\\n",
    "          'ignore=.csv'\n",
    "    print \"url\"\n",
    "    print url\n",
    "    days = urllib.urlopen(url).readlines()\n",
    "    data = [day[:-2].split(',') for day in days]\n",
    "    return data[0:11] #returns a set of 10 stock prices\n",
    "\n",
    "#Returns the 10 stock prices that we expect\n",
    "print get_historical_prices('GOOG', '2016-05-27')\n",
    "\n",
    "#Returns the statement that we expect (consider that today is May 30th, 2016)\n",
    "print get_historical_prices('GOOG', '2016-05-30')"
   ]
  },  

  {
   "cell_type": "code",
   "execution_count": 8,
   "metadata": {
    "collapsed": false
   },
   "outputs": [

    {
     "data": {
      "text/plain": []
     },
     "execution_count": 8,
     "metadata": {},
     "output_type": "execute_result"
    },
    {
     "data": {
      "image/png": "\n",
      "text/plain": []
     },
     "metadata": {},
     "output_type": "display_data"
    }
    
    ],
   "source": [
    
    "#Image8\n",
    "\n",
    "#Citation: \n",
    "#\"NYSE 2014 and 2015 Holiday Hours.\"\n",
    "#   StreetInsider.com. StreetInsider.com, 30 Dec. 2013. Web. 9 May 2016.\n",
    "#   <http://www.streetinsider.com/Insiders+Blog/NYSE+2014+and+2015+Holiday+Hours/8999575.html>."
    
   ]
  },  
  
  {
   "cell_type": "markdown",
   "metadata": {},
   "source": [
    "### 9. Implementation\n",
    "In this section, the process for which metrics, algorithms, and techniques that you implemented for the given data will need to be clearly documented. It should be abundantly clear how the implementation was carried out, and discussion should be made regarding any complications that occurred during this process. Questions to ask yourself when writing this section:\n",
    "\n",
    "   * Is it made clear how the algorithms and techniques were implemented with the given datasets or input data?\n",
    "   * Were there any complications with the original metrics or techniques that required changing prior to acquiring a solution?\n",
    "   * Was there any part of the coding process (e.g., writing complicated functions) that should be documented?\n",
    "\n",
    "Talking about the implementation of the algorithms and techniques given the input data, the Neural Network with three input neurons depends on 10 arrays of values passed per every prediction that we want to make (10 stock prices, previous days to the day that we want to predict). 5 of the values are preserved and the rest gets deleted; we use the most recent data first (check the function rollingWindow from optimized_analyzer.py. The input values substitute the default weights (wi) of the 3 input neurons; the 4th input neuron, the bias input neuron preserves the default weight. These 4 input neurons connect with 3 hidden neurons that were created when we created an object from the neuralNetwork class. The default weights of the hidden neurons are replaced with new values. This is called forward propagation. We forward propagate to get the output and compare it with the real value to get the error. Then, to minimize the error, we backward propagate by using a form of gradient descent (derivative of the sigmoid function) to update new values of weights (finding the derivative of the error with respect to each weight and then subtracting this value from the weight value. Check Line 255 from optimized_neuralNetwork.py). Then we forward propagate to see how well these weights are performing and backward propagate to update the weights. This iterative process will go on until we reach some minima for error value (or we can use the metrics to choose an optimal fixed number of iterations). In the end we get the last value to activate the output node of the Neural Network. Finally we denormalize the price using the minimum and maximum values from the 5 arrays of data (Line 131, 43, 261 from optimized_analyzer.py). It gives us the predicted stock price of the chosen date.\n",
    "\n",
    "*Note*: I choose an Artificial Neural Network with three neurons because it is suggested.[Stock Prediction using Artificial Neural Networks](http://www.cs.berkeley.edu/~akar/IITK_website/EE671/report_stock.pdf)."
   ]
  },
  
  {
   "cell_type": "code",
   "execution_count": 9,
   "metadata": {
    "collapsed": false
   },
   "outputs": [
    {
     "data": {
      "text/plain": [
       "Student data read successfully!"
      ]
     },
     "execution_count": 9,
     "metadata": {},
     "output_type": "execute_result"
    }
   ],
   "source": [
    "# Read student data\n",

   ]
  },  

  {
   "cell_type": "code",
   "execution_count": 9,
   "metadata": {
    "collapsed": false
   },
   "outputs": [

    {
     "data": {
      "text/plain": []
     },
     "execution_count": 9,
     "metadata": {},
     "output_type": "execute_result"
    },
    {
     "data": {
      "image/png": "\n",
      "text/plain": []
     },
     "metadata": {},
     "output_type": "display_data"
    }
    
    ],
   "source": [
    
    "#Image9\n",
    "\n",
    "#Citation: \n",
    "#Røe, Kathrine, Manish Kakar, Therese Seierstad, Anne H. Ree, and Dag R. Olsen.\n",
    "#Illustration of the Architecture of the Back Propagation Neural Network (BPNN).\n",
    "#Digital image. Yale Image Finder. Krauthammer Lab, Yale University, 8 June 2011. Web. 9 May 2016.\n",
    "#<http://krauthammerlab.med.yale.edu/imagefinder/Figure.external?sp=SPMC3130663%2F1748-717X-6-65-3\n",
    "#&state:Figure=BrO0ABXcRAAAAAQAACmRvY3VtZW50SWRzcgARamF2YS5sYW5nLkludGVnZXIS4qCk94GHOAIAAUkABXZhbH\n",
    "#VleHIAEGphdmEubGFuZy5OdW1iZXKGrJUdC5TgiwIAAHhwAAryyg%3D%3D>."
    
   ]
  },  
  
  {
   "cell_type": "markdown",
   "metadata": {},
   "source": [
    "### 10. Refinement\n",
    "In this section, you will need to discuss the process of improvement you made upon the algorithms and techniques you used in your implementation. For example, adjusting parameters for certain models to acquire improved solutions would fall under the refinement category. Your initial and final solutions should be reported, as well as any significant intermediate results as necessary. Questions to ask yourself when writing this section:\n",
    "\n",
    "   * Has an initial solution been found and clearly reported?\n",
    "   * Is the process of improvement clearly documented, such as what techniques were used?\n",
    "   * Are intermediate and final solutions clearly reported as the process is improved.\n",
    "\n",
    "The initial solution to this problem was prediciting the stock price of the following day using a neural Network with 3 input neurons (plus 1 bias input neuron), 3 hidden neurons and 3 output neurons. The code is found in the files: my_first_analyzer.py and my_first_neuralNetwork.py\n",
    "\n",
    "The improvements that I made were the following:\n",
    "\n",
    "1) **The process of extracting the data from Yahoo Finance**: I modified the main function in the file analyzer.py and using other helper functions I made sure to \"always\" (no matter if the previous dates are holidays or weekends or observed days) return a set of 10 stock prices. The outcome from this improvement can be seen mainly by comparing the cumulative forecast error of the previous prediction with this new prediction set.\n",
    "\n",
    "    * Previous mean absolute percent error is: 2.56467188276\n",
    "    * Previous cumulative forecast error: 114.429396164\n",
    "    * New mean absolute percent error is: 3.07061480364\n",
    "    * New cumulative forecast error: 98.222619522\n",
    "\n",
    "2) **Momentum factor, Iterations and Learning Rate**: I changed the Momentum factor (M), the Learning Rate (N) and the number of Iterations in the file neuralNetwork.py. The new number of Iterations was 2500. And the Momentum Factor and the Learning rate were the same than in the previous model, but in the loop (iterations: 2500) I decreased the Learning Rater and increased the Momentum factor. The outcome from this improvement can be seen by comparing the mean absolute percent error is and the cumulative forecast error of the previous prediction with this new prediction set.\n",
    "\n",
    "    * Previous mean absolute percent error is: 3.07061480364\n",
    "    * Previous cumulative forecast error: 98.222619522\n",
    "    * New mean absolute percent error is: 3.07427704404\n",
    "    * New cumulative forecast error: 93.1659690816\n",
    "\n",
    "3) **Momentum Factor**: I modified the Momentum factor's value inside the loop. Instead of  increasing it by a constant value, I chose random constant values in a specific range. The outcome from this improvement can be seen by comparing the mean absolute percent error is and the cumulative forecast error of the previous prediction with this new prediction set.\n",
    "\n",
    "    * Previous mean absolute percent error is: 3.07427704404\n",
    "    * Previous cumulative forecast error: 93.1659690816\n",
    "    * New mean absolute percent error is: 3.06091931524\n",
    "    * New cumulative forecast error: 91.5888261064"
   ]
  },

  {
   "cell_type": "code",
   "execution_count": 10,
   "metadata": {
    "collapsed": false
   },
   "outputs": [
    {
     "data": {
      "text/plain": [
       "Student data read successfully!"
      ]
     },
     "execution_count": 10,
     "metadata": {},
     "output_type": "execute_result"
    }
   ],
   "source": [
    "# Read student data\n",
    "student_data = pd.read_csv(\"student-data.csv\")\n",
    "print \"Student data read successfully!\"\n",
    "# Note: The last column 'passed' is the target/label, all other are feature columns"
   ]
  },  

  {
   "cell_type": "code",
   "execution_count": 10,
   "metadata": {
    "collapsed": false
   },
   "outputs": [

    {
     "data": {
      "text/plain": []
     },
     "execution_count": 10,
     "metadata": {},
     "output_type": "execute_result"
    },
    {
     "data": {
      "image/png": "\n",
      "text/plain": []
     },
     "metadata": {},
     "output_type": "display_data"
    }
    
    ],
   "source": [
    
    "#Show table of F1-scores' improvements after different changes"
    
   ]
  },  

  {
   "cell_type": "markdown",
   "metadata": {},
   "source": [
    "## Results "
   ]
  },

  {
   "cell_type": "markdown",
   "metadata": {},
   "source": [
    "### 11. Model Evaluation and Validation\n",
    "In this section, the final model and any supporting qualities should be evaluated in detail. It should be clear how the final model was derived and why this model was chosen. In addition, some type of analysis should be used to validate the robustness of this model and its solution, such as manipulating the input data or environment to see how the model’s solution is affected (this is called sensitivity analysis). Questions to ask yourself when writing this section:\n",
    "\n",
    "   * Is the final model reasonable and aligning with solution expectations? Are the final parameters of the model appropriate?\n",
    "   * Has the final model been tested with various inputs to evaluate whether the model generalizes well to unseen data?\n",
    "   * Is the model robust enough for the problem? Do small perturbations (changes) in training data or the input space greatly affect the results?\n",
    "   * Can results found from the model be trusted?\n",
    "\n",
    "The final model is more reasonable than the non-optimized version. Now, the final parameters of the model are a set of inputs with uniform size (always three stock prices), which gives more validity to the model's predictions. The model has been tested with various inputs, one hundred times to evaluate the accuracy of the results (3 outliers were identified and removed). The main benchmarks are mean absolute percent error and cumulative forecast error.\n",
    "\n",
    "    * The current model's mean absolute percent error is: 3.06091931524\n",
    "    * And the current model's cumulative forecast error is: 91.5888261064\n",
    "\n",
    "In general this model outputs reasonable predictions for calculating the stock price of the following day. It is reliable if you are the seller in the stocks trading. But if you are the buyer then before using this model to make decisions related to daily training, you should take into account more variables. Some other stock metrics from optimized_ystockquote.py could play a decisive role in greatly improving the predictions. For example:\n",
    "\n",
    "   * get_price_earnings_ratio(symbol)\n",
    "\n",
    "   * get_price_earnings_growth_ratio(symbol)\n", 
    "\n",
    "   * get_price_book_ratio(symbol)\n",
    "\n",
    "   * D/E ratio, [Debt to Equity](http://www.investopedia.com/terms/d/debtequityratio.asp) also called Gearing ratio\n",
    "\n",
    "   * FCE, [Free Cashflow](http://www.investopedia.com/terms/f/freecashflow.asp)\n",
    "\n",
    "*Note:* Taken from [Fundamental stock metrics](http://www.investopedia.com/articles/active-trading/051214/fundamental-investment-metrics-buying-stocks-and-bonds.asp) and [Yahoo finance ticker symbols](https://greenido.wordpress.com/2009/12/22/yahoo-finance-hidden-api/)"
   ]
  },

  {
   "cell_type": "code",
   "execution_count": 11,
   "metadata": {
    "collapsed": false
   },
   "outputs": [
    {
     "data": {
      "text/plain": [
       "Student data read successfully!"
      ]
     },
     "execution_count": 11,
     "metadata": {},
     "output_type": "execute_result"
    }
   ],
   "source": [
    "# Read student data\n",
    "student_data = pd.read_csv(\"student-data.csv\")\n",
    "print \"Student data read successfully!\"\n",
    "# Note: The last column 'passed' is the target/label, all other are feature columns"
   ]
  },  

  {
   "cell_type": "code",
   "execution_count": 11,
   "metadata": {
    "collapsed": false
   },
   "outputs": [

    {
     "data": {
      "text/plain": []
     },
     "execution_count": 11,
     "metadata": {},
     "output_type": "execute_result"
    },
    {
     "data": {
      "image/png": "\n",
      "text/plain": []
     },
     "metadata": {},
     "output_type": "display_data"
    }
    
    ],
   "source": [
    
    "#Binary.com Tick Trade. Digital image. Binary.com Tick Trade.\n",
    "#Google Play, 24 May 2016. Web. 24 May 2016.\n",
    "#<https://play.google.com/store/apps/details?id=com.binary.ticktrade>."
    
   ]
  },  

  {
   "cell_type": "markdown",
   "metadata": {},
   "source": [
    "### 12. Justification\n",
    "In this section, your model’s final solution and its results should be compared to the benchmark you established earlier in the project using some type of statistical analysis. You should also justify whether these results and the solution are significant enough to have solved the problem posed in the project. Questions to ask yourself when writing this section:\n",
    "\n",
    "   * Are the final results found stronger than the benchmark result reported earlier?\n",
    "   * Have you thoroughly analyzed and discussed the final solution?\n",
    "   * Is the final solution significant enough to have solved the problem?\n",
    "\n",
    "After the model improvements (making sure that we count with a uniform set of input data and using an Artificial Neural Network with three input neurons) and choosing an optimal value for the Momentum factor (M) and Iterations, the final results found became stronger than the first benchmark.\n",
    "\n",
    "**First Benchmark:**\n",
    "\n",
    "    * First model's mean absolute percent error is:  2.56467188276\n",
    "    * First model's cumulative forecast error is: 114.429396164\n",
    "\n",
    "*Details*:\n\n",
    "length of y_true (expect):  92\n\n",
    "length of y_pred (predict):  92\n\n",
    "y_true (expect) list:  [563.390015, 538.412447, 538.412447, 528.702406, 538.382457, 538.08244, 529.902414, 542.292472, 1115.461873, 1160.932041, 1201.412007, 536.1024, 556.002496, 583.76265, 571.852606, 540.622426, 528.772422, 723.409973, 743.0, 703.299988, 692.97998, 736.789978, 712.0, 711.929993, 709.130005, 529.012399, 511.002313, 507.252283, 521.482349, 531.732383, 529.2424, 559.392531, 561.652513, 533.762426, 550.99248, 555.152509, 565.192556, 583.352651, 746.450012, 721.679993, 730.849976, 743.0, 703.299988, 703.299988, 702.179993, 522.782362, 511.002313, 560.432554, 570.50259, 540.852427, 532.222436, 532.222436, 538.530029, 583.352651, 583.76265, 590.722655, 582.602608, 569.042592, 569.042592, 569.042592, 576.11258, 784.5, 770.219971, 722.809998, 703.869995, 667.849976, 672.320007, 686.859985, 532.929993, 539.909973, 537.76001, 528.0, 525.01001, 659.23999, 607.200012, 711.059998, 585.742628, 569.992585, 564.522567, 577.862619, 586.602653, 572.94257, 531.012391, 531.442404, 714.98999, 698.469971, 720.0, 750.059998, 750.059998, 697.630005, 723.409973, 711.929993]\n\n",
    "y_pred (predict) list:  [530.054901, 540.8036665045757, 537.0647657024133, 537.9888224641802, 547.8729210791032, 546.06248575, 537.9887763098276, 547.8727578378831, 1114.51690625, 1134.8919155000008, 1181.9294925, 551.13748475, 526.7889995402862, 568.1594741587471, 579.1946674272501, 536.33991375, 509.83731425, 699.975006, 756.25, 713.89248675, 682.3424985, 731.798800421629, 703.8250568223617, 699.975006, 702.6275664711771, 527.1811356660272, 496.6722495, 496.4671613124617, 496.46728296133534, 529.68488275, 528.858503001139, 563.4250297350113, 563.440658010558, 527.05990125, 556.0425517491253, 556.4509260653349, 550.3599775, 568.2950892570228, 760.86500575, 735.442505, 735.442505, 755.5087109215558, 735.8125, 719.8787378515841, 713.14501925, 515.2340114639744, 515.2292568423221, 551.3000095, 555.0575065, 559.04003225, 559.04003225, 564.6843476895696, 541.8100126891477, 568.2950892607474, 568.2950892628403, 579.242624, 580.12514075, 593.62269825, 593.3684956072775, 591.4016090749457, 566.06457625, 720.3625030000001, 716.569992, 716.5699920000001, 716.569992, 719.5174865, 738.38002, 738.0550077500001, 538.0966063032863, 534.1349942500182, 534.1349942500385, 536.37500025, 530.68060047818, 528.35501125, 629.5230259964808, 667.2069686357872, 579.4393196926891, 570.357585, 567.1650525, 570.6845884598359, 575.6796350882104, 580.4552932462278, 569.0682641504072, 538.544951, 703.7853776820485, 703.0838435967796, 703.081516580661, 739.95001225, 740.0450135, 745.7034035142151, 699.975006, 699.975006]\n\n",
    "mean absolute error 16.3373050484\n\n",
    "mean absolute percent error:  2.56467188276\n\n",
    "mean absolute deviation:  16.3373050484\n\n",
    "r2 score:  0.96262513743\n\n",
    "Spearman correlation:  0.908459279805\n\n",
    "negative error list:  [-2.3912195045757016, -9.286416464180206, -9.490464079103162, -7.980045749999931, -8.086362309827564, -5.580285837883139, -15.03508475000001, -7.342061427250087, -13.25, -10.592498750000004, -4.032498735011359, -1.7881450105579688, -5.050071749125323, -1.2984170653348883, -14.414993750000008, -13.762512000000015, -4.592529000000013, -12.508710921555803, -32.512512000000015, -16.57874985158412, -10.96502625000005, -4.2269438423221, -18.187605249999933, -26.81759624999995, -32.46191168956955, -3.2799836891476843, -24.58010624999997, -24.325903607277496, -22.359017074945655, -12.69999699999994, -51.66751050000005, -66.06001299999991, -51.19502275000002, -5.16661330328634, -8.375000249999971, -5.670590478180088, -22.323013996480768, -0.3650000000000091, -2.6424855000000207, -7.512723246227779, -38.05587315040725, -7.102546999999959, -4.613872596779629, -48.073398514215114]\n\n",
    "positive error list:  [33.335113999999976, 1.347681297586746, 0.9449667500000487, 26.04012549999925, 19.48251449999998, 29.213496459713724, 15.603175841252892, 4.282512249999968, 18.935107749999986, 23.43496700000003, 10.637481499999922, 4.99117757837098, 8.174943177638283, 11.95498699999996, 6.502438528822836, 1.8312633339727427, 14.330063499999994, 10.785121687538265, 25.015066038664656, 2.0475002499999846, 0.3838969988610188, 6.702524749999952, 14.832578499999954, 15.057561742977214, 7.548350536025623, 9.132544499999995, 15.44508350000001, 15.057561739252606, 15.467560737159715, 11.480031000000054, 2.477467250000018, 10.04800375000002, 64.13749699999994, 53.64997900000003, 6.24000599999988, 5.774978749981869, 3.625015749961449, 130.88497875000007, 43.853029364212716, 6.3033083073108855, 7.178030540164059, 10.923017911789657, 11.2046123179515, 16.918483419339054, 10.109985749999964, 10.014984499999969, 23.43496700000003, 11.95498699999996]\n\n",
    "length is right!\n\n",
    "length of negative error list:  44\n\n",
    "percetage of negative errors:  47.8260869565\n\n",
    "length of positive error list:  48\n\n",
    "percentage of positive errors:  52.1739130435\n\n",
    "metric#6:  -694.301334145\n\n",
    "complement of metric#6:  808.730730309\n\n",
    "cumulative forecast error:  114.429396164\n\n",
    "Now it is time to check if this Stock Predictor for daily stock prices is good enough for you\n\n",
    "You gained (using the given data):  808.730730309\n\n",
    "You lost (using the given data):  -694.301334145\n\n",
    "Your final gain or Cumulative forecast error:  114.429396164\n\n",
    "Average gain per stock price:  8.7905514164\n\n",
    "Average loss per stock price:  -7.54675363201\n\n",
    "Average total gain per stock price:  1.24379778439\n\n",
    "maximum loss:  -66.060013\n\n",
    "maximum gain:  130.88497875\n\n",
    "total probability of loss (negative values): 47.8260869565\n\n",
    "total probability of gain (positive_values):  52.1739130435\n\n",
    "probability of three min values:  0\n\n",
    "probability of three max values:  0.0326086956522\n\n",
    "\n",
    "\n",
    "**New Benchmark:**\n",
    "\n",
    "    * Current model's mean absolute percent error is: 3.06091931524\n",
    "    * Current model's cumulative forecast error is: 91.5888261064\n",
    "\n",
    "*Details:*\n\n",
    "length of y_true (expect):  92\n\n",
    "length of y_pred (predict):  92\n\n",
    "y_true (expect) list:  [563.390015, 538.412447, 538.412447, 528.702406, 538.382457, 538.08244, 529.902414, 542.292472, 1115.461873, 1160.932041, 1201.412007, 536.1024, 556.002496, 583.76265, 571.852606, 540.622426, 528.772422, 723.409973, 743.0, 703.299988, 692.97998, 736.789978, 712.0, 711.929993, 709.130005, 529.012399, 511.002313, 507.252283, 521.482349, 531.732383, 529.2424, 559.392531, 561.652513, 533.762426, 550.99248, 555.152509, 565.192556, 583.352651, 746.450012, 721.679993, 730.849976, 743.0, 703.299988, 703.299988, 702.179993, 522.782362, 511.002313, 560.432554, 570.50259, 540.852427, 532.222436, 532.222436, 538.530029, 583.352651, 583.76265, 590.722655, 582.602608, 569.042592, 569.042592, 569.042592, 576.11258, 784.5, 770.219971, 722.809998, 703.869995, 667.849976, 672.320007, 686.859985, 532.929993, 539.909973, 537.76001, 528.0, 525.01001, 659.23999, 607.200012, 711.059998, 585.742628, 569.992585, 564.522567, 577.862619, 586.602653, 572.94257, 531.012391, 531.442404, 714.98999, 698.469971, 720.0, 750.059998, 750.059998, 697.630005, 723.409973, 711.929993]\n\n",
    "y_pred (predict) list:  [535.3577223713031, 546.06248575, 546.0624857500001, 544.8555750196442, 564.6791212222719, 559.04003225, 540.7885422113369, 551.991077564905, 1081.2775621164762, 1123.355067448681, 1144.5358783515794, 547.14498325, 528.22990375, 561.9870912482548, 583.3426646153603, 542.7707795249385, 520.0279611756256, 702.1005642443868, 747.1199955, 735.442505, 738.0550077500001, 729.5879537771928, 715.0423211406375, 694.9524994999999, 706.4289852651739, 511.3204584340706, 509.4057307850236, 499.789762, 499.359765, 515.7548267499999, 523.5702926022229, 569.2389485970049, 563.8525470000001, 533.3418841050542, 534.8754533559539, 559.4049884895982, 556.446967632184, 556.2936568244486, 742.0847619903545, 760.86500575, 767.8289390201475, 747.5459609874127, 735.442505, 735.442505, 736.2686664457985, 499.1577910503705, 505.2045158814911, 563.4197096781174, 551.3000095, 561.070908052147, 561.52254825, 561.52254825, 542.4499475, 560.8956305544232, 561.9863549588695, 574.5387885436389, 578.6251315, 590.7667145766507, 590.98766425, 590.98766425, 570.6822345364001, 706.819992, 705.2181789146699, 709.605011, 720.3625030000001, 716.569992, 716.569992, 716.3052884815005, 534.8763515933032, 537.3874967500001, 538.34251425, 535.40499875, 529.6046393824394, 523.1699980000001, 629.0749967500001, 669.20248425, 577.6663599583433, 584.4133281410021, 581.18011225, 567.1650525, 579.1942624549885, 575.2564094667246, 569.4100855, 536.04245175, 701.032486, 703.9250035, 706.6900025, 738.14749175, 738.14749175, 754.5402653121171, 702.1008905393807, 694.9524994999999]\n\n",
    "mean absolute error 19.8899256484\n\n",
    "mean absolute percent error:  3.06091931524\n\n",
    "mean absolute deviation:  19.8899256484\n\n",
    "r2 score:  0.952032983474\n\n",
    "Spearman correlation:  0.892164343445\n\n",
    "negative error list:  [-7.650038749999908, -7.6500387500000215, -16.153169019644224, -26.29666422227183, -20.957592249999948, -10.886128211336882, -9.698605564905051, -11.042583250000007, -11.490058615360226, -2.148353524938443, -4.119995499999959, -32.142517, -45.07502775000012, -3.042321140637455, -9.846417597004915, -2.2000340000000733, -4.252479489598159, -39.185012750000055, -36.97896302014749, -4.545960987412741, -32.142517, -32.142517, -34.08867344579858, -2.9871556781174604, -20.218481052147013, -29.300112249999984, -29.300112249999984, -3.9199184999999943, -21.724122576650643, -21.945072249999953, -21.945072249999953, -16.492508000000043, -48.72001599999999, -44.249984999999924, -29.445303481500446, -1.9463585933032164, -0.5825042500000563, -7.404998750000004, -4.594629382439393, -21.874984750000067, -14.420743141002163, -16.65754525, -2.3138394667245166, -38.39769450000006, -4.600047750000044, -5.455032500000016, -56.91026031211709]\n\n",
    "positive error list:  [28.032292628696837, 34.18431088352372, 37.57697355131904, 56.87612864842049, 27.772592250000002, 21.775558751745166, 8.744460824374414, 21.309408755613276, 7.2020242228072675, 16.977493500000037, 2.7010197348261045, 17.69194056592937, 1.5965822149764222, 7.462520999999981, 22.122584000000018, 15.977556250000134, 5.67210739777704, 0.4205418949458135, 16.117026644046064, 8.745588367815913, 27.058994175551447, 4.365250009645479, 23.624570949629515, 5.7977971185089245, 19.202580500000067, 22.45702044557686, 21.77629504113054, 16.183866456361102, 3.97747650000008, 5.430345463599906, 77.68000800000004, 65.00179208533007, 13.20498699999996, 2.5224762499999542, 136.06999199999996, 41.85751374999995, 8.076268041656704, 10.697566499999994, 7.408390545011571, 13.957504000000085, 13.309997500000009, 11.912506249999979, 11.912506249999979, 21.30908246061938, 16.977493500000037]\n\n",
    "length is right!\n\n",
    "length of negative error list:  47\n\n",
    "percetage of negative errors:  51.0869565217\n\n",
    "length of positive error list:  45\n\n",
    "percentage of positive errors:  48.9130434783\n\n",
    "metric#6:  -869.142166773\n\n",
    "complement of metric#6:  960.730992879\n\n",
    "cumulative forecast error:  91.5888261064\n\n",
    "Now it is time to check if this Stock Predictor for daily stock prices is good enough for you\n\n",
    "You gained (using the given data):  960.730992879\n\n",
    "You lost (using the given data):  -869.142166773\n\n",
    "Your final gain or Cumulative forecast error:  91.5888261064\n\n",
    "Average gain per stock price:  10.4427281835\n\n",
    "Average loss per stock price:  -9.44719746492\n\n",
    "Average total gain per stock price:  0.995530718548\n\n",
    "maximum loss:  -56.9102603121\n\n",
    "maximum gain:  136.069992\n\n",
    "total probability of loss (negative values): 51.0869565217\n\n",
    "total probability of gain (positive_values):  48.9130434783\n\n",
    "probability of three min values:  0\n\n",
    "probability of three max values:  0.0326086956522\n\n",
    "Average gain per stock price:  8.7905514164\n\n",
    "Average loss per stock price:  -7.54675363201\n\n",
    "Average total gain per stock price:  1.24379778439\n\n",
    "maximum loss:  -66.060013\n\n",
    "maximum gain:  130.88497875\n\n",
    "total probability of loss (negative values): 47.8260869565\n\n",
    "total probability of gain (positive_values):  52.1739130435\n\n",
    "probability of three min values:  0\n\n",
    "probability of three max values:  0.0326086956522\n",
    "\n\n",
    "**The predictions from the final models are sufficiently reasonable to be trusted if one is the seller in daily trading. But if one is the buyer, then we must add the parameters mentioned in the previous section:**\n",
    "\n",
    "   **1)**  get_price_earnings_ratio(symbol)\n",
    "\n",
    "   **2)**  get_price_earnings_growth_ratio(symbol)\n", 
    "\n",
    "   **3)**  get_price_book_ratio(symbol)\n",
    "\n",
    "   **4)**  D/E ratio, [Debt to Equity](http://www.investopedia.com/terms/d/debtequityratio.asp) also called Gearing ratio\n",
    "\n",
    "   **5)**  FCE, [Free Cashflow](http://www.investopedia.com/terms/f/freecashflow.asp)\n",
    "\n",
    "*Note:* Taken from [Fundamental stock metrics](http://www.investopedia.com/articles/active-trading/051214/fundamental-investment-metrics-buying-stocks-and-bonds.asp) and [Yahoo finance ticker symbols](https://greenido.wordpress.com/2009/12/22/yahoo-finance-hidden-api/)"
   ]
  },
  
  {
   "cell_type": "code",
   "execution_count": 12,
   "metadata": {
    "collapsed": false
   },
   "outputs": [
    {
     "data": {
      "text/plain": [
       "Student data read successfully!"
      ]
     },
     "execution_count": 12,
     "metadata": {},
     "output_type": "execute_result"
    }
   ],
   "source": [
    "# Read student data\n",
    "student_data = pd.read_csv(\"student-data.csv\")\n",
    "print \"Student data read successfully!\"\n",
    "# Note: The last column 'passed' is the target/label, all other are feature columns"
   ]
  },  

  {
   "cell_type": "code",
   "execution_count": 12,
   "metadata": {
    "collapsed": false
   },
   "outputs": [

    {
     "data": {
      "text/plain": []
     },
     "execution_count": 12,
     "metadata": {},
     "output_type": "execute_result"
    },
    {
     "data": {
      "image/png": "\n",
      "text/plain": []
     },
     "metadata": {},
     "output_type": "display_data"
    }
    
    ],
   "source": [
    
    "#Show the previous F1-score (training and testing)\n",
    "#and\n",
    "#Show the new F1-scores (training and testing)"
    
   ]
  },  
  
  {
   "cell_type": "markdown",
   "metadata": {},
   "source": [
    "## Conclusion "
   ]
  },

  {
   "cell_type": "markdown",
   "metadata": {},
   "source": [
    "### 13. Free-Form Visualization\n",
    "In this section, you will need to provide some form of visualization that emphasizes an important quality about the project. It is much more free-form, but should reasonably support a significant result or characteristic about the problem that you want to discuss. Questions to ask yourself when writing this section:\n",
    "\n",
    "   * Have you visualized a relevant or important quality about the problem, dataset, input data, or results?\n",
    "   * Is the visualization thoroughly analyzed and discussed?\n",
    "   * If a plot is provided, are the axes, title, and datum clearly defined?\n",
    "\n",
    "Beyond focusing only in the activity of the New York Stock Exchange, some relevant or important qualities about the problem that involve the input data and the results are the time zones and the trading times. Although the trading hours of the New York Stock Exchange market go from 9:30 in the morning to 4 in the afternoon (Eastern Time), there are stocks that happen before 9:30 a.m. and after 4 p.m. There are other exchanges across the globe, in other countries, other US cities, and even in New York itself. \n",
    "\n",
    "While in New York (USA - New York)  it is Thursday, May 5, 2016 at 9:30:00 AM EDT UTC-4 hours, in Saint-Petersburg (Russia - Saint Petersburg) it is Thursday, May 5, 2016 at 4:30:00 PM. It is clear to notice how the time zones play a special role in daily traiding. For this reason additional data can be selected and included as input data if one wishes to be more accurate predicting the stock price of the following day. Let's recall that a better prediction of the stock price for the following day prevents traders from paying more for stocks than they should. Normally morning time is when daily traders lose most money. [Why Morning Is the Worst Time to Trade Stocks](http://www.wsj.com/articles/early-birds-suffer-in-market-1442273794)."
   ]
  },

  {
   "cell_type": "code",
   "execution_count": 13,
   "metadata": {
    "collapsed": false
   },
   "outputs": [
    {
     "data": {
      "text/plain": [
       "Student data read successfully!"
      ]
     },
     "execution_count": 13,
     "metadata": {},
     "output_type": "execute_result"
    }
   ],
   "source": [
    "# Read student data\n",
    "student_data = pd.read_csv(\"student-data.csv\")\n",
    "print \"Student data read successfully!\"\n",
    "# Note: The last column 'passed' is the target/label, all other are feature columns"
   ]
  },  

  {
   "cell_type": "code",
   "execution_count": 13,
   "metadata": {
    "collapsed": false
   },
   "outputs": [

    {
     "data": {
      "text/plain": []
     },
     "execution_count": 13,
     "metadata": {},
     "output_type": "execute_result"
    },
    {
     "data": {
      "image/png": "\n",
      "text/plain": []
     },
     "metadata": {},
     "output_type": "display_data"
    }
    
    ],
   "source": [
    
    "#Image13\n",
    "\n",
    "#Citation: \n",
    "#\"Forex Hours.\"\n",
    "#   Forex-Internet. Forex-Internet, n.d. Web. 9 May 2016.\n",
    "#   <http://www.forex-internet.com/forexhours.htm>."
    
   ]
  },  

  
  {
   "cell_type": "markdown",
   "metadata": {},
   "source": [
    "### 14. Reflection\n",
    "In this section, you will summarize the entire end-to-end problem solution and discuss one or two particular aspects of the project you found interesting or difficult. You are expected to reflect on the project as a whole to show that you have a firm understanding of the entire process employed in your work. Questions to ask yourself when writing this section:\n",
    "\n",
    "   * Have you thoroughly summarized the entire process you used for this project?\n",
    "   * Were there any interesting aspects of the project?\n",
    "   * Were there any difficult aspects of the project?\n",
    "   * Does the final model and solution fit your expectations for the problem, and should it be used in a general setting to solve these types of problems?\n",
    "\n",
    "This project was about predicting stock prices. I did it by creating an Artificial Neural Network. The ANN (Artificial Neural Network) learns from the input data and does multiple re-calibrations for each linkage weights.  The input weights of the ANN are the stock prices of the current day and the two previous days. The main functions used by the ANN are the activation function and the error function (this function helps to re-calibrate the weights). And of course the output of the ANN is the predicted stock price for the following day [How ANNs works](http://www.analyticsvidhya.com/blog/2014/10/ann-work-simplified/).\n",
    "\n",
    "Some interesting aspects of the project were realizing that Stock trading is a global matter and that predicting stock prices is a truly important matter for traders. It was amazing to find out that because of Time Zones, with the exception of the weekends, the Stock Marker never stops operating. Also, after studying the behavior of the Stock Market, I identified the volatility of the Stock Market as challenge in the task of predicting future daily stock prices. With this I mean that besides all metrics and numbers there are other big and important factors that are decisive in the future value of stocks. New technology can replace the current technology, which means that some companies will dissapear and new ones will be be brought to the market. For example: *Apple Inc., Google Inc., Samsung() and *other companies* that virtually(software) or physically(electronics) developed and improved Android and iOS platform technologies in the cellphones* replaced and took a big chunk of money from the digital camera and video camera companies like *Kodak* and others. Another example is how virtual streaming companies like *Netflix* replaced the service provided by *Blockbuster*, the physical rent of movies. More variables should be taken into account to predict stock prices with more accuracy. Doing that this model can be used in a general setting to predict daily stock prices."
   ]
  },
 
  {
   "cell_type": "code",
   "execution_count": 14,
   "metadata": {
    "collapsed": false
   },
   "outputs": [
    {
     "data": {
      "text/plain": [
       "Student data read successfully!"
      ]
     },
     "execution_count": 14,
     "metadata": {},
     "output_type": "execute_result"
    }
   ],
   "source": [
    "# Read student data\n",
    "student_data = pd.read_csv(\"student-data.csv\")\n",
    "print \"Student data read successfully!\"\n",
    "# Note: The last column 'passed' is the target/label, all other are feature columns"
   ]
  },  

  {
   "cell_type": "code",
   "execution_count": 14,
   "metadata": {
    "collapsed": false
   },
   "outputs": [

    {
     "data": {
      "text/plain": []
     },
     "execution_count": 14,
     "metadata": {},
     "output_type": "execute_result"
    },
    {
     "data": {
      "image/png": "\n",
      "text/plain": []
     },
     "metadata": {},
     "output_type": "display_data"
    }
    
    ],
   "source": [
    
    "#Image14-a\n",
    "\n",
    "#Citation: \n",
    "#Rijo, Dahiana. \"MENSAJE DETRÁS DE STAY HUNGRY, STAY FOOLISH.\"\n", 
    "#   DR. Dahiana Rijo, 28 Feb. 2015. Web. 9 May 2016.\n",
    "#   <http://dahianarijo.com/mensaje-detras-de-stay-hungry-stay-foolish/>."
   ]
  },  

  {
   "cell_type": "code",
   "execution_count": 14,
   "metadata": {
    "collapsed": false
   },
   "outputs": [

    {
     "data": {
      "text/plain": []
     },
     "execution_count": 14,
     "metadata": {},
     "output_type": "execute_result"
    },
    {
     "data": {
      "image/png": "\n",
      "text/plain": []
     },
     "metadata": {},
     "output_type": "display_data"
    }
    
    ],
   "source": [
    
    "#Image14-b\n",
    "\n",
    "#Citation: \n",
    "#\"Stock Market HD: Stocks & Shares.\" ITunes Preview.\n",
    "#Apple Inc, n.d. Web. 10 May 2016.\n",
    "#<https://itunes.apple.com/us/app/stock-market-hd-stocks-shares/id469405092?mt=8>."
   ]
  }, 

  {
   "cell_type": "code",
   "execution_count": 14,
   "metadata": {
    "collapsed": false
   },
   "outputs": [

    {
     "data": {
      "text/plain": []
     },
     "execution_count": 14,
     "metadata": {},
     "output_type": "execute_result"
    },
    {
     "data": {
      "image/png": "\n",
      "text/plain": []
     },
     "metadata": {},
     "output_type": "display_data"
    }
    
    ],
   "source": [
    
    "#Image14-c\n",
    "\n",
    "#Citation: \n",
    "#The Best Way to Predict the Future Is to Invent It. - Alan Kay.\n",
    "#   Digital image. Pixteller. Pixteller, n.d. Web. 9 May 2016.\n",
    "#   <http://www.pixteller.com/img/3079>."
   ]
  }, 
 
  {
   "cell_type": "markdown",
   "metadata": {},
   "source": [
    "### 15. Improvement\n",
    "In this section, you will need to provide discussion as to how one aspect of the implementation you designed could be improved. As an example, consider ways your implementation can be made more general, and what would need to be modified. You do not need to make this improvement, but the potential solutions resulting from these changes are considered and compared/contrasted to your current solution. Questions to ask yourself when writing this section:\n",
    "\n",
    "   * Are there further improvements that could be made on the algorithms or techniques you used in this project?\n",
    "   * Were there algorithms or techniques you researched that you did not know how to implement, but would consider using if you knew how?\n",
    "   * If you used your final solution as the new benchmark, do you think an even better solution exists?\n",
    "\n",
    "Some of the further improvements that could be made on the algorithms or techniques used in this project are decreasing having a number of activation functions implemented along with options for crossvalidation sets to achieve more accuracy on the dataset.[Stock Prediction using Artificial Neural Networks](http://www.cs.berkeley.edu/~akar/IITK_website/EE671/report_stock.pdf).\n",
    "\n",
    "Other algorithms that I did not implement but consider useful are: **Genetic algorithms**.\n",
    "\n",
    "For example, a trading rule may involve the use of parameters like Moving Average Convergence-Divergence (MACD), Exponential Moving Average (EMA) and Stochastics. A genetic algorithm would then input values into these parameters with the goal of maximizing net profit. Over time, small changes are introduced and those that make a desirably impact are retained for the next generation.\n",
    "\n",
    "There are three types of genetic operations that can then be performed:\n",
    "\n",
    "   * Crossovers represent the reproduction and biological crossover seen in biology, whereby a child takes on certain characteristics of its parents.\n",
    "\n",
    "   * Mutations represent biological mutation and are used to maintain genetic diversity from one generation of a population to the next by introducing random small changes.\n",
    "\n",
    "   * Selections are the stage at which individual genomes are chosen from a population for later breeding (recombination or crossover).\n",
    "\n",
    "*These three operators are then used in a five-step process*:\n",
    "\n",
    "   **1st** Initialize a random population, where each chromosome is n-length, with n being the number of parameters. That is, a random number of parameters are established with n elements each.\n",
    "\n",
    "   **2nd** Select the chromosomes, or parameters, that increase desirable results (presumably net profit).\n",
    "\n",
    "   **3rd** Apply mutation or crossover operators to the selected parents and generate an offspring.\n",
    "\n",
    "   **4th** Recombine the offspring and the current population to form a new population with the selection operator.\n",
    "\n",
    "   **5th** Repeat steps two to four.\n",
    "\n",
    "Over time, this process will result in increasingly favorable chromosomes (or, parameters) for use in a trading rule. The process is then terminated when a stopping criteria is met, which can include running time, fitness, number of generations or other criteria. For more on MACD (Moving average convergence divergence), read [Trading The MACD Divergence](http://www.investopedia.com/articles/forex/05/macddiverge.asp)\n",
    "\n",
    "Source: \n",
    "   * [Using Genetic Algorithms To Forecast Financial Markets] (http://www.investopedia.com/articles/financial-theory/11/using-genetic-algorithms-forecast-financial-markets.asp#ixzz473WOYOwV)\n",
    "\n",
    "A better solution can be adding more parameters to improve the model. Some parameters that can improve the accuracy of the model are [Eight Factors that Influence Day Trading](http://www.forbes.com/2007/08/29/market-timing-djia-pf-education-in_gc_0829investopedia_inl.html). Some ways to measure those eight factors that Influence Day Trading could be the following: \n",
    "\n",
    "   **Factor#1**, Overseas Market/Economic Action: Stock prices worldwide. [Find Information About Pre- And After-Hours Trading](http://www.investopedia.com/ask/answers/06/preaftermarket.asp?partner=forbes-pf). If you see major negative activity in a \"foreign\" market that affects your sector, the prices of a stocks in that sector could fall. We could assign Factor#1 binary values.\n",
    "\n",
    "   **Factor#2**, Economic Data: This is mostly expressed by \"interest rates\". For example, as interest rates in the U.K. rise, investors in that market may flee for better opportunities. Often, U.S. stocks will reap the benefit.[How Interest Rates affect the Stock Market](http://www.investopedia.com/articles/06/interestaffectsmarket.asp?partner=forbes-pf). Factor#2 can be measured using binary values.\n",
    "\n",
    "   **Factor#3**, Futures Data: [Index futures](http://www.investopedia.com/terms/i/indexfutures.asp?partner=forbes-pf) cover the major market indexes. They start trading before the stock market and are a very good indicator of what the stock market opening will look like. The reason for this is that index futures prices are closely linked with the actual level of the Dow Jones industrial average (DJIA). [\"Are ETF Futures The Wave of The Future\"](http://www.forbes.com/2007/08/29/market-timing-djia-pf-education-in_gc_0829investopedia_inl.html). In other words Factor#3 can be measured by using the DJIA (a negative/positive numeric value/percentage)\n",
    "\n",
    "   **Factor#4**, Buying At the Open: We can consider the difference between the opening stock prices and the average day stock price to estimate the maximum price of the stock. We can measure Factor#4 with a positive/negative percentage\n",
    "\n",
    "   **Factor#5**, Midday Trading Lull: When this happens, stocks can be purchased at a cheaper price at 1 p.m. than they could at, say, 11 a.m. Again, this is important to know, as this can affect both entry and exit points. Observing the stock price values at these hours of the day and compare it to the average day stock price can help us to better estimate the minimum value of the stock during the day. Factor#5 can be measured with a positive/negative percentage\n",
    "\n",
    "   **Factor#6**, Analyst Upgrades/Downgrades: We could classify the words from comments of top analysts. If an analyst mentions more words that backup Upgrades vs Downgrades we give the company a score of 1. In the opposite case we give it a score of 0. We count the sets of 1s and divide it by the number of analyst who reviewed the company. The highest score that could be achieved is 1. Then we will have to measure the correlation between the scores and the stock price value along different days. This way we can make it possible for the analysts to contribute in the prediction of stock prices. [What You Need to Know About Financial Analysts](http://www.investopedia.com/articles/basics/03/041703.asp?partner=forbes-pf). Factor#6 can be measured using binary values.\n",
    "\n",
    "   **Factor#7**, Web-Related Articles: We can do the same than what we did for Factor#6 but only if the websites are reliable. First we should search which websites have a significant (massive) number of readers/viewers who trade in the Stock Market. Fector#7 will be measuring using binary values.\n",
    "\n",
    "   **Factor#8**, Friday Trading: Factor#8 can be helpful if we find that there is a correlation between the closing prices of Friday (numeric values) and the Analyst Upgrades/Downgrades during the weekend (binary values). Factor#8 can be measured by using that correlation. The [correlation coefficient](http://www.alcula.com/calculators/statistics/correlation-coefficient/), or Pearson product-moment correlation coefficient (PMCC) is a numerical value between -1 and 1 that expresses the strength of the linear relationship between two variables. When r is closer to 1 it indicates a strong positive relationship. This might be helpful to predict the opening stock prices on Mondays."
   ]
  },
  
  {
   "cell_type": "code",
   "execution_count": 15,
   "metadata": {
    "collapsed": false
   },
   "outputs": [
    {
     "data": {
      "text/plain": [
       "Student data read successfully!"
      ]
     },
     "execution_count": 15,
     "metadata": {},
     "output_type": "execute_result"
    }
   ],
   "source": [
    "# Read student data\n",
    "student_data = pd.read_csv(\"student-data.csv\")\n",
    "print \"Student data read successfully!\"\n",
    "# Note: The last column 'passed' is the target/label, all other are feature columns"
   ]
  },  

  {
   "cell_type": "code",
   "execution_count": 15,
   "metadata": {
    "collapsed": false
   },
   "outputs": [

    {
     "data": {
      "text/plain": []
     },
     "execution_count": 15,
     "metadata": {},
     "output_type": "execute_result"
    },
    {
     "data": {
      "image/png": "\n",
      "text/plain": []
     },
     "metadata": {},
     "output_type": "display_data"
    }
    
    ],
   "source": [
    
    "#Image15\n",
    "\n",
    "#Citation: \n",
    "#Tief, Amr Abd Ella, Allam Sheahata Hassanien Allab, and Abdullah Shoukry Nagaty.\n",
    "#\"Stock Market Analysis Using Ga and Neural Network.\" SlideShare.\n",
    "#LinkedIn Corporation, 24 Feb. 2016. Web. 9 May 2016.\n",
    "#<http://www.slideshare.net/Amr_abd_ellatief/stock-market-analysis-using-ga-and-neural-network>."
    
   ]
  }  
  
 ],
 "metadata": {
  "kernelspec": {
   "display_name": "Python 2",
   "language": "python",
   "name": "python2"
  },
  "language_info": {
   "codemirror_mode": {
    "name": "ipython",
    "version": 2
   },
   "file_extension": ".py",
   "mimetype": "text/x-python",
   "name": "python",
   "nbconvert_exporter": "python",
   "pygments_lexer": "ipython2",
   "version": "2.7.11"
  }
 },
 "nbformat": 4,
 "nbformat_minor": 0
}
