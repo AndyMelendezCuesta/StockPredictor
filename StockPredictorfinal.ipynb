{
 "cells": [
  {
   "cell_type": "markdown",
   "metadata": {},
   "source": [
    "# Project 5: Capstone Project\n",
    "### Stock Predictor"
   ]
  },
  {
   "cell_type": "markdown",
   "metadata": {},
   "source": [
    "## Definition"
   ]
  },
  {
   "cell_type": "markdown",
   "metadata": {},
   "source": [
    "### 1. Project Overview\n",
    "In this section, look to provide a high-level overview of the project in layman’s terms. Questions to ask yourself when writing this section:\n",
    "\n",
    "   * Has an overview of the project been provided, such as the problem domain, project origin, and related datasets or input data?\n",
    "   * Has enough background information been given so that an uninformed reader would understand the problem domain and following problem statement?\n",
    "\n",
    "\n",
    "\n",
    "**Background information:** \"Stock\" is a general term used to describe the ownership certificates of any company, in general, and \"shares\" refers to a the ownership certificates of a particular company. When investors say they own stocks, they are generally referring to their overall ownership in one or more companies. The owners of [Stock and Shares](http://www.investopedia.com/ask/answers/140.asp) earn money through the process of buying and trading stocks (trading). In addition, many of the more established stocks pay out a dividend quarterly, which can also provide the stockholder with an income. [How to Buy Stocks for Beginners](http://www.wikihow.com/Buy-Stocks-%28for-Beginners%29)\n",
    "\n",
    "A stock predictor is a reliable barometer to measure the economic condition of companies as well as can help to assess the performance of the stock market. But, *how much should we worry when share prices fall? How does it impact on the average consumer?* and *how does it affect the economy?*\n",
    "\n",
    "**1.** Wealth effect\n",
    "\n",
    "The first impact is that people with shares will see a fall in their wealth. This can contribute to a fall in consumer spending. \n",
    "\n",
    "\n",
    "**2.** Effect on pensions\n",
    "\n",
    "Anybody with a private pension or investment trust will be affected by the stock market, at least indirectly. They could see a reduction in the value of pension funds and future payouts.\n",
    "\n",
    "\n",
    "**3.** Confidence\n",
    "\n",
    "The stock market itself can affect consumer confidence and consumer spending.\n",
    "\n",
    "\n",
    "**4.** Investment\n",
    "\n",
    "Falling share prices can hamper firms ability to raise finance (money) on the stock market. Firms who are expanding and wish to borrow often do so by issuing more shares – it provides a low cost way of borrowing more money. However, with falling share prices it becomes much more difficult.\n",
    "\n",
    "\n",
    "**5.** Bond market\n",
    "\n",
    "A fall in the stock market makes other investments more attractive. People may move out of shares and into government bonds or gold. These investments offer a better return in times of uncertainty.\n",
    "\n",
    "\n",
    "*How does the stock market effect ordinary people?*\n",
    "\n",
    "Most people, who do not own shares, will be largely unaffected by short term movements in the stock market. However, ordinary workers are not completely unaffected by the stock market.\n",
    "\n",
    "**a)** Pension funds. Many private pension funds will invest in the stock market. If the stock market does well, the value of pension funds could increase. Otherwise a substantial and prolonged fall in the stock market could lead to a fall in the value of their pension fund, and it could lead to lower pension payouts when they retire. \n",
    "\n",
    "\n",
    "**b)** Business investment. The stock market could be a source of business investment, e.g. firms offering new shares to finance investment. This could lead to more jobs and growth. The stock market can be a source of private finance when bank finance is limited. However, the stock market is not usually the first source of finance. Most investment is usually financed through bank loans rather than share options. The stock market only plays a limited role in determining investment and jobs.\n",
    "\n",
    "\n",
    "**c)** Short-termism. It could be argued workers and consumers can be adversely affected by the short-termism that the stock market encourages. Shareholders usually want bigger dividends. Therefore, firms listed on the stock market can feel under pressure to increase short-term profits. This can lead to cost cutting which affects workers or the firm may be more tempted to engage in collusive practises which push up prices for consumers.[Source](http://www.economicshelp.org/blog/221/stock-market/how-does-the-stock-market-effect-the-economy-2/)\n",
    "\n",
    "\n",
    "**Problem domain:** The problem domain of this project are the daily stock prices of companies.\n",
    "\n",
    "**Project origin:** In this case the project origin is the need to predict the stock prices to make brokers obtain more profit in [daily trading](http://www.investopedia.com/ask/answers/071614/whats-difference-between-binary-options-and-day-trading.asp). Day traders buy and sell a variety of instruments including stocks, currencies, futures, commodities, indices and ETFs. In this case we will be focusing on predicting stocks in a daily manner.\n",
    "\n",
    "**Goal:** Our goal is to help traders to negotiate (buy/sell their stocks) with confidence.\n",
    "\n",
    "**Related datasets or input data:** Some of the companies that provide information about stock prices are [Yahoo](http://finance.yahoo.com/), [Google](https://www.google.com/finance) and [Bloomberg](http://www.bloomberg.com/). For this project I have chosen to retrieve stocks data through [Yahoo Finance](http://finance.yahoo.com/stock-center/).\n",
    "\n",
    "For a *more* **detailed explanation** of what stocks are I recommend you to take a look at the following links:\n",
    "   * [History of Money](http://spectrum.ieee.org/at-work/innovation/a-brief-history-of-money)\n",
    "   * [History of Stock Market](https://www.gilderlehrman.org/history-by-era/economics/essays/rise-american-institution-stock-market)\n",
    "   * [25 Basic Stock Market Trading Terms You Should Know](http://www.timothysykes.com/2013/06/trading-terms-you-need-to-know/)\n",
    "   * [Glossary of Stock Market terms](http://www.nasdaq.com/investing/glossary/)\n",
    "   * [Day Trading Strategies](http://smallbusiness.chron.com/predict-daily-stock-market-activity-3391.html)\n",
    "   * [Day Trading strategies](http://www.daytradingcoach.com/day-trading-strategies.html)"
   ]
  },
  
  {
   "cell_type": "code",
   "execution_count": 1,
   "metadata": {
    "collapsed": false
   },
   "outputs": [

    {
     "data": {
      "text/plain": []
     },
     "execution_count": 1,
     "metadata": {},
     "output_type": "execute_result"
    },
    {
     "data": {
      "image/png": "[encoded data removed]",
      "text/plain": []
     },
     "metadata": {},
     "output_type": "display_data"
    }
    
    ],
   "source": [
    
    "#Image1\n",
    "\n",
    "#Citation: \n",
    "#Oxlade, Andrew.\"Time to 'sell Everything'? No, This Is When a 'hold Everything' Strategy Works.\"\n",
    "#   The Telegraph. Telegraph Media Group, 15 Jan. 2016. Web. 5 May 2016. \n",
    "#   <http://www.telegraph.co.uk/finance/personalfinance/investing/12101740/\n",
    "#   Time-to-sell-everything-No-this-is-when-a-hold-everything-strategy-works.html>."
   ]
  },
 
  {
   "cell_type": "markdown",
   "metadata": {},
   "source": [
    "### 2. Problem Statement\n",
    "In this section, you will want to clearly define the problem that you are trying to solve, including the strategy (outline of tasks) you will use to achieve the desired solution. You should also thoroughly discuss what the intended solution will be for this problem. Questions to ask yourself when writing this section:\n",
    "\n",
    "   * Is the problem statement clearly defined? Will the reader understand what you are expecting to solve?\n",
    "   * Have you thoroughly discussed how you will attempt to solve the problem?\n",
    "   * Is an anticipated solution clearly defined? Will the reader understand what results you are looking for?\n",
    "\n",
    "Considering the volatility of the stock market but knowing the stock prices of previous days the problem is to choose and correctly train a model to predict the stock price of the following day. The solution consists of using an ANN (Artificial Neural Network) of 3 inputNodes, 3 hiddenNodes and 1 outputNode that receives the result of trainingData (outcome from getTrainingData in optimized_analyzer.py). trainingData is an array composed of inputNode[array] and outputNode[array]. It consists on a set of 3 stock prices in total (averages, minimum value and maximum value from the most recent 10 previous dates starting from the given date; at first 20 dates in total are passed) to train the Neural Network, etc.(more details in the following sections) to predict the opening price of the stock for the following day."   ]
  },
  
  
  {
   "cell_type": "code",
   "execution_count": 2,
   "metadata": {
    "collapsed": false
   },
   "outputs": [

    {
     "data": {
      "text/plain": []
     },
     "execution_count": 2,
     "metadata": {},
     "output_type": "execute_result"
    },
    {
     "data": {
      "image/png": "[encoded data removed]",
      "text/plain": []
     },
     "metadata": {},
     "output_type": "display_data"
    }
    
    ],
   "source": [
    
    "#Image2\n",
    "\n",
    "#Citation:\n",
    "#Fahey, Rob. \"Stock Ticker: 2011 In Review.\"\n",
    "#   Gamesindustry.biz. Gamer Network, 09 Jan. 2012. Web. 7 May 2016. \n",
    "#   <http://www.gamesindustry.biz/articles/2012-01-09-stock-ticker-2011-in-review?page=1>."
   ]
  },   
  
  {
   "cell_type": "markdown",
   "metadata": {},
   "source": [
    "### 3. Metrics\n",
    "In this section, you will need to clearly define the metrics or calculations you will use to measure performance of a model or result in your project. These calculations and metrics should be justified based on the characteristics of the problem and problem domain. Questions to ask yourself when writing this section:\n",
    "\n",
    "   * Are the metrics you’ve chosen to measure the performance of your models clearly discussed and defined?\n",
    "   * Have you provided reasonable justification for the metrics chosen based on the problem and solution?\n",
    "\n",
    "\n",
    "To measure the performance of the model mainly I compared two arrays of values. The real values against the predictions from the model. Some of the metrics that I chose are: \n",
    "\n",
    "   A) **Mean Absolute Percent Error**: One problem with the MAE is that the relative size of the error is not always obvious. Sometimes it is hard to tell a big error from a small error. To deal with this problem, we can find the mean absolute error in percentage terms. [More](http://homepage.univie.ac.at/robert.kunst/prognos7.pdf).\n",
    "\n",
    "   B) **Cumulative Forecast Error**: Cumulative gain/loss through the error. It is the sum of all the errors [More](http://www.threadpunter.com/supply-chain-management/demand-planning/measures-of-forecast-error/)\n",
    "\n",
    "I included other metrics too:\n",
    "   1. **Mean Absolute Error**: The absolute error is the absolute value of the difference between the forecasted value and the actual value. MAE tells us how big of an error we can expect from the forecast on average.[More](http://scikit-learn.org/stable/modules/generated/sklearn.metrics.mean_absolute_error.html)\n",
    "   2. **Mean Absolute Deviation**: The Mean Absolute Deviation (MAD) of a set of data is the average distance between each data value and the mean. Helps to get a sense of how \"spread out\" a data set is. [More](http://mathbits.com/MathBits/TISection/Statistics1/MAD.html)"
   ]
  },
  
  {
   "cell_type": "code",
   "execution_count": 3,
   "metadata": {
    "collapsed": false
   },
   "outputs": [

    {
     "data": {
      "text/plain": []
     },
     "execution_count": 3,
     "metadata": {},
     "output_type": "execute_result"
    },
    {
     "data": {
      "image/png": "[encoded data removed]",
      "text/plain": []
     },
     "metadata": {},
     "output_type": "display_data"
    }
    
    ],
   "source": [
    
    "#Image3\n",
    "\n",
    "#Citation: \n",
    "#McGee, Andrea.  \"Forecasting. \" \n",
    "#SlideShare. SlidePlayer.com Inc.,\n",
    "#2015. Web. 21 June 2016.\n",
    "#<http://www.slideshare.net/rushdishams/syntax-27514305>."
    
   ]
  },   
  
  {
   "cell_type": "markdown",
   "metadata": {},
   "source": [
    "## Analysis"
   ]
  }, 
  {
   "cell_type": "markdown",
   "metadata": {},
   "source": [
    "### 4. Data Exploration\n",
    "In this section, you will be expected to analyze the data you are using for the problem. This data can either be in the form of a dataset (or datasets), input data (or input files), or even an environment. The type of data should be thoroughly described and, if possible, have basic statistics and information presented (such as discussion of input features or defining characteristics about the input or environment). Any abnormalities or interesting qualities about the data that may need to be addressed have been identified (such as features that need to be transformed or the possibility of outliers). Questions to ask yourself when writing this section:\n",
    "\n",
    "   * If a dataset is present for this problem, have you thoroughly discussed certain features about the dataset? Has a data sample been provided to the reader?\n",
    "   * If a dataset is present for this problem, are statistics about the dataset calculated and reported? Have any relevant results from this calculation been discussed?\n",
    "   * If a dataset is not present for this problem, has discussion been made about the input space or input data for your problem?\n",
    "   * Are there any abnormalities or characteristics about the input space or dataset that need to be addressed? (categorical variables, missing values, outliers, etc.)\n",
    "\n",
    "After choosing a [company ticker symbol](http://finance.yahoo.com/lookup) and a date (the previous day of the day that you want to predict), the data is retrieved. The **input data** is a set of 10 stock prices in total (from the 20 previous dates starting from the given date) to predict the opening price of the stock for the following day.\n",
    "\n",
    "Considering the volatility of the stock market but knowing the stock prices of previous days the problem is to choose and correctly train a model to predict the stock price of the following day. The solution consists of using an ANN (Artificial Neural Network) of 3 inputNodes, 3 hiddenNodes and 1 outputNode that receives the result of trainingData (outcome from getTrainingData in optimized_analyzer.py). trainingData is an array composed of inputNode[array] and outputNode[array]. It consists on a set of 3 stock prices in total (averages, minimum value and maximum value from the most recent 10 previous dates starting from the given date; at first 20 dates in total are passed) to train the Neural Network, etc.(*more details in the following sections*) to predict the opening price of the stock for the following day.\n",
    "\n",
    "**Details**: The retrieved data belongs to Google's stock prices. The stock ticker is **\"GOOG\"**. I chose random dates between **January 2014 and May 2016**. No really significant economic events such as the 2008 recession seem to have taken place during that period of time.\n",
    "\n", 
    "The data features related to each date are: Date, Open, High, Low, Close, Volume and Adj Close price. And considering all the **actual data** related to the chosen dates, these are the averages values for each feature:\n",
    "\n",
    "               Open  ==> 628.29845662\n",
    "               High  ==> 633.364585946\n",
    "                Low  ==> 621.75329838\n",
    "              Close  ==> 627.513138511\n",
    "             Volume  ==> 2135444\n",
    "    Adj Close price  ==> 608.539265326\n",
    "\n",
    "As you can see, referring to all the **actual data**, on average, the difference between the \"Low\" values and the \"High\" values is approximately 2% of the actual Closing price (1.9%) and the Adjacent Closing price (1.8%).\n",
    "\n",
    "Some **abnormalities** about the input data are that whenever the date is a *holiday*, an *observance day* or a *weekend day* there is no stock price value for that day because those days the [New York Stock Exchange](https://www.nyse.com/markets/hours-calendars) does not operate. So, the stock prices for those days are omitted. For this reason I just retrieved a larger dataset of stock prices, the 20 most recent previous dates to the date that we want to predict."

   ]
  },


  {
   "cell_type": "code",
   "execution_count": 4,
   "metadata": {
    "collapsed": false
   },
   "outputs": [
    {
     "data": {
      "text/plain": [
       "url\n",
        "http://ichart.yahoo.com/table.csv?s=GOOG&d=4&e=27&f=2016&g=d&a=4&b=17&c=2016&ignore=.csv\n",
        "[['Date', 'Open', 'High', 'Low', 'Close', 'Volume', 'Adj Clos'], \n",
        " ['2016-05-27', '724.01001', '733.935974', '724.00', '732.659973', '1974000', '732.65997'], \n",
        " ['2016-05-26', '722.869995', '728.330017', '720.280029', '724.119995', '1542900', '724.11999'], \n",
        " ['2016-05-25', '720.76001', '727.51001', '719.705017', '725.27002', '1629200', '725.2700'], \n",
        " ['2016-05-24', '706.859985', '720.969971', '706.859985', '720.090027', '1920400', '720.09002'], \n",
        " ['2016-05-23', '706.530029', '711.478027', '704.179993', '704.23999', '1320900', '704.2399'], \n",
        " ['2016-05-20', '701.619995', '714.580017', '700.52002', '709.73999', '1816000', '709.7399'], \n",
        " ['2016-05-19', '702.359985', '706.00', '696.799988', '700.320007', '1656300', '700.32000'], \n",
        " ['2016-05-18', '703.669983', '711.599976', '700.630005', '706.630005', '1763400', '706.63000'],\n", 
        " ['2016-05-17', '715.98999', '721.52002', '704.109985', '706.22998', '1999500', '706.2299']]"
      ]
     },
     "execution_count": 4,
     "metadata": {},
     "output_type": "execute_result"
    }
   ],
   "source": [
    "from __future__ import division #import must be at the beginning of the file\n",
    "import urllib\n",
    "\n",
    "#This is the \"ystockquote\" module.\n",
    "#This module provides a Python API for retrieving stock data from Yahoo Finance.\n",
    "#Adjusted to receive two inputs:\n",
    "#  symbol and chosen_date instead of symbol, start_date, end_date\n",
    "def initial_get_historical_prices(symbol, chosen_date):\n",
    "\n",
    "    #Get historical prices for the given ticker symbol.\n",
    "    #Date format is 'YYYY-MM-DD'\n",
    "    #Returns a nested list.\n",
    "\n",
    "    import datetime\n",
    "    from datetime import date\n",
    "    from datetime import timedelta\n",
    "    #Test\n",
    "    # >>> chosen_date = '2016-05-10'\n",
    "    # >>> year = int(chosen_date[:4])\n",
    "    # >>> month = int(chosen_date[5:7])\n",
    "    # >>> day = int(chosen_date[8:])\n",
    "    # >>> end_date = datetime.date(year, month, day)\n",
    "    # >>> start_date = str(end_date - datetime.timedelta(days=2))\n",
    "\n",
    "    past_n_days = 10 #fixed\n",
    "    year = int(chosen_date[:4])\n",
    "    month = int(chosen_date[5:7])\n",
    "    day = int(chosen_date[8:])\n",
    "\n",
    "    end_date = datetime.date(year, month, day)\n",
    "\n",
    "    if end_date > datetime.date.today():\n",
    "        statement = \"Choose any date before today: \" + str(datetime.date.today())\n",
    "        d0 = end_date\n",
    "        d1 = datetime.date.today()\n",
    "        delta = d0 - d1\n",
    "        past_n_days += delta.days\n",
    "        # from datetime import date\n",
    "        # d0 = date(2008, 8, 18)\n",
    "        # d1 = date(2008, 9, 26)\n",
    "        # delta = d0 - d1\n",
    "        # print delta.days\n",
    "    if end_date == datetime.date.today():\n",
    "        past_n_days += 1\n",
    "\n",
    "    #assert end_date < datetime.date.today(), \n",
    "    #\"chosen date must be any previous day from today: %r\" % end_date\n",
    "    #assert num == 4, \"len of set is not 4: %r\" % num #example\n",
    "\n",
    "    #List of dates:\n",
    "    date_list = [end_date - datetime.timedelta(days=x) for x in range(0, 3)]\n",
    "\n",
    "    # >>> date_list = [end_date - datetime.timedelta(days=x) for x in range(0, 3)]\n",
    "    # >>> print date_list\n",
    "    # [datetime.date(2016, 5, 10), datetime.date(2016, 5, 9), datetime.date(2016, 5, 8)]\n",
    "\n",
    "    #start_date = str(end_date - datetime.timedelta(days=past_n_days))\n",
    "    #previous code doesn't work when we previously put from datetime import datetime\n",
    "    start_date = str(end_date - timedelta(days=past_n_days)) #code is always functional\n",
    "    end_date = chosen_date\n",
    "\n",
    "    #month, day and year\n",
    "    url = 'http://ichart.yahoo.com/table.csv?s=%s&' % symbol + \\\n",
    "          'd=%s&' % str(int(end_date[5:7]) - 1) + \\\n",
    "          'e=%s&' % str(int(end_date[8:10])) + \\\n",
    "          'f=%s&' % str(int(end_date[0:4])) + \\\n",
    "          'g=d&' + \\\n",
    "          'a=%s&' % str(int(start_date[5:7]) - 1) + \\\n",
    "          'b=%s&' % str(int(start_date[8:10])) + \\\n",
    "          'c=%s&' % str(int(start_date[0:4])) + \\\n",
    "          'ignore=.csv'\n",
    "\n",
    "    print \"url\"\n",
    "    print url\n",
    "    days = urllib.urlopen(url).readlines()\n",
    "    data = [day[:-2].split(',') for day in days]\n",
    "    return data\n",
    "\n",
    "\n",
    "#Expecting 10 stock prices, but only get 9\n",
    "print initial_get_historical_prices('GOOG', '2016-05-27')"

   ]
  },  

  {
   "cell_type": "markdown",
   "metadata": {},
   "source": [
    "### 5. Exploratory Visualization\n",
    "In this section, you will need to provide some form of visualization that summarizes or extracts a relevant characteristic or feature about the data. The visualization should adequately support the data being used. Discuss why this visualization was chosen and how it is relevant. Questions to ask yourself when writing this section:\n",
    "\n",
    "   * Have you visualized a relevant characteristic or feature about the dataset or input data?\n",
    "   * Is the visualization thoroughly analyzed and discussed?\n",
    "   * If a plot is provided, are the axes, title, and datum clearly defined?\n",
    "\n",
    "Some **relevant characteristic** about the **input data** to visualize would be a *stock ticker*\n",
    "\n",
    "Once that we choose a stock ticker, for example: 'GOOG', and we choose a specific date (a date different from \"Today\"), then we obtain 20 arrays of stock prices. Later we keep the most recent 10 arrays. Each array has detailed information related to a date. As seen in the array of the labels, each array contains: **(1)** Date, **(2)** Open [opening price of the stock], **(3)** High [highest price of the stock], **(4)** Low [lowest price of the stock], **(5)** Close [closing price of the stock], **(6)** Volume [volume of stocks traded that day](http://www.investopedia.com/articles/01/070401.asp), **(7)** Adj Clos [adjusted closing price of the stock](http://www.investopedia.com/ask/answers/06/adjustedclosingprice.asp)."
    ]
  },
  
  {
   "cell_type": "code",
   "execution_count": 5,
   "metadata": {
    "collapsed": false
   },
   "outputs": [

    {
     "data": {
      "text/plain": []
     },
     "execution_count": 5,
     "metadata": {},
     "output_type": "execute_result"
    },
    {
     "data": {
      "image/png": "[encoded data removed]",
      "text/plain": []
     },
     "metadata": {},
     "output_type": "display_data"
    }
    
    ],
   "source": [
    
    "#Image5\n",
    "\n",
    "#Citation: \n",
    "#\"GOOGLE Inc. Stock Ticker, Historical Prices.\" Yahoo! Finance. Yahoo! Inc., \n",
    "#21 June 2016. Web. 21 June 2016. <http://finance.yahoo.com/q?s=goog&ql=1>."
    
   ]
  },  
  
  {
   "cell_type": "code",
   "execution_count": 5,
   "metadata": {
    "collapsed": false
   },
   "outputs": [
    {
     "data": {
      "text/plain": [
       "url\n",
       "http://ichart.yahoo.com/table.csv?s=GOOG&d=4&e=30&f=2016&g=d&a=4&b=19&c=2016&ignore=.csv\n",
       "[['Date', 'Open', 'High', 'Low', 'Close', 'Volume', 'Adj Clos'], \n",
       " ['2016-05-27', '724.01001', '733.935974', '724.00', '732.659973', '1974000', '732.65997'],\n", 
       " ['2016-05-26', '722.869995', '728.330017', '720.280029', '724.119995', '1542900', '724.11999'],\n", 
       " ['2016-05-25', '720.76001', '727.51001', '719.705017', '725.27002', '1629200', '725.2700'],\n", 
       " ['2016-05-24', '706.859985', '720.969971', '706.859985', '720.090027', '1920400', '720.09002'],\n", 
       " ['2016-05-23', '706.530029', '711.478027', '704.179993', '704.23999', '1320900', '704.2399'], \n",
       " ['2016-05-20', '701.619995', '714.580017', '700.52002', '709.73999', '1816000', '709.7399']"

      ]
     },
     "execution_count": 5,
     "metadata": {},
     "output_type": "execute_result"
    }
   ],
   "source": [
    "#Expecting 10 stock prices but only get 6\n",
    "print initial_get_historical_prices('GOOG', '2016-05-30')"
   ]
  },  

  {
   "cell_type": "markdown",
   "metadata": {},
   "source": [
    "### 6. Algorithms and Techniques\n",
    "In this section, you will need to discuss the algorithms and techniques you intend to use for solving the problem. You should justify the use of each one based on the characteristics of the problem and the problem domain. Questions to ask yourself when writing this section:\n",
    "\n",
    "   * Are the algorithms you will use, including any default variables/parameters in the project clearly defined?\n",
    "   * Are the techniques to be used thoroughly discussed and justified?\n",
    "   * Is it made clear how the input data or datasets will be handled by the algorithms and techniques chosen?\n",
    "\n",
    "I chose **Neural Network Forecasting** because of three reasons:\n",
    "\n",
    "**First**, as opposed to the traditional model-based methods, ANNs are data-driven self-adaptive methods in that there are few a priori assumptions about the models for problems under study. They learn from examples and capture subtle functional relationships among the data even if the underlying relationships are unknown or hard to describe. Thus ANNs are well suited for problems whose solutions require knowledge that is difﬁcult to specify but for which there are enough data or observations. In this sense they can be treated as one of the multivariate nonlinear nonparametric statistical methods (White, 1989; Ripley, 1993; Cheng and Titterington, 1994). This modeling approach with the ability to learn from experience is very useful for many practical problems since it is often easier to have data than to have good theoretical guesses about the underlying laws governing the systems from which data are generated. The problem with the data-driven modeling approach is that the underlying rules are not always evident and observations are often masked by noise. It nevertheless provides a practical and, in some situations, the only feasible way to solve real-world problems.\n",
    "\n",
    "\n",
    "**Second**, ANNs can generalize. After learning the data presented to them (a sample), ANNs can often correctly infer the unseen part of a population even if the sample data contain noisy information. As fore-casting is performed via prediction of future behavior (the unseen part) from examples of past behavior, it is an ideal application area for neural networks, at least in principle.\n",
    "\n",
    "\n",
    "**Third**, ANNs are universal functional approx-imators. It has been shown that a network can approximate any continuous function to any desired accuracy (Irie and Miyake, 1988; Hornik et al., 1989; Cybenko, 1989; Funahashi, 1989; Hornik, 1991, 1993). ANNs have more general and ﬂexible func-tional forms than the traditional statistical methods can effectively deal with. Any forecasting model assumes that there exists an underlying (known or unknown) relationship between the inputs (the past values of the time series and/or other relevant variables) and the outputs (the future values). Fre-quently, traditional statistical forecasting models have limitations in estimating this underlying func-tion due to the complexity of the real system. ANNs can be a good alternative method to identify this function.\n",
    "\n",
    "Finally, ANNs are nonlinear. Forecasting has long been the domain of linear statistics. The traditional approaches to time series prediction, such as the Box-Jenkins or ARIMA method (Box and Jenkins, 1976; Pankratz, 1983), assume that the time series under study are generated from linear processes. Linear models have advantages in that they can be understood and analyzed in great detail, and they are easy to explain and implement. However, they may be totally inappropriate if the underlying mechanism is nonlinear. It is unreasonable to assume a priori that a particular realization of a given time series is generated by a linear process. In fact, real world systems are often nonlinear (Granger and Terasvirta, 1993). During the last decade, several nonlinear time series models such as the bilinear model (Granger and Anderson, 1978), the threshold autoregressive (TAR) model (Tong and Lim, 1980), and the auto-regressive conditional heteroscedastic (ARCH) model (Engle, 1982) have been developed. (See De Gooijer and Kumar (1992) for a review of this ﬁeld.) However, these nonlinear models are still limited in that an explicit relationship for the data series at hand has to be hypothesized with little knowledge of the underlying law. In fact, the formulation of a nonlinear model to a particular data set is a very difﬁcult task since there are too many possible nonlinear patterns and a prespeciﬁed nonlinear model may not be general enough to capture all the important features. Artiﬁcial neural networks, which are nonlinear data-driven approaches as opposed to the above model-based nonlinear methods, are ca-pable of performing nonlinear modeling without a priori knowledge about the relationships between input and output variables. Thus they are a more general and ﬂexible modeling tool for forecasting. [International Journal of Forecasting](http://citeseerx.ist.psu.edu/viewdoc/download?doi=10.1.1.138.4828&rep=rep1&type=pdf)\n",
    "\n",
    "\n",
    "*Note:* The amount of data at hand that's relevant for the problem are 10 sets of stock prices, the most recent stock prices out of the 20 stock prices before the desired date."
   ]
  },
  
  {
   "cell_type": "code",
   "execution_count": 6,
   "metadata": {
    "collapsed": false
   },
   "outputs": [

    {
     "data": {
      "text/plain": []
     },
     "execution_count": 6,
     "metadata": {},
     "output_type": "execute_result"
    },
    {
     "data": {
      "image/png": "[encoded data removed]",
      "text/plain": []
     },
     "metadata": {},
     "output_type": "display_data"
    }
    
    ],
   "source": [
    
    "#Image6-a\n",
    "\n",
    "#Citation: \n",
    "#Jeerge, Gururaj. \"Artificial Neural Networks Technology.\"\n",
    "#   Sasta Servers. Sasta Servers, 25 May 2015. Web. 10 May 2016.\n",
    "#   <http://www.sastaservers.com/blog/artificial-neural-networks-technology/>."
    
   ]
  },
    
  {
   "cell_type": "markdown",
   "metadata": {},
   "source": [
    
    "This is how an **ANN** works: \n",
    "\n",
    "**1.** Initialize the network, with all weights set to random numbers between 1 and +1.\n",
    "\n",
    "**2.** Present the first training pattern, and obtain the output.\n",
    "\n",
    "**3.** Compare the network output with the target output.\n",
    "\n",
    "**4.** Propagate the error backwards.\n",
    "\n",
    "**5.** Calculate the error, by taking the average difference between the target and the output vector.\n",
    "\n",
    "**6.** Repeat from 2 for each pattern in the training set to complete one epoch.\n",
    "\n",
    "**7.** Repeat from step 2 for a specified number of epochs, or until the error ceases to change. [Details](http://www.ijettjournal.com/volume-3/issue-6/IJETT-V3I6P206.pdf)"
   ]
  }, 

  {
   "cell_type": "code",
   "execution_count": 6,
   "metadata": {
    "collapsed": false
   },
   "outputs": [

    {
     "data": {
      "text/plain": []
     },
     "execution_count": 6,
     "metadata": {},
     "output_type": "execute_result"
    },
    {
     "data": {
      "image/png": "[encoded data removed]",
      "text/plain": []
     },
     "metadata": {},
     "output_type": "display_data"
    }
    
    ],
   "source": [
    
    "#Image6-e\n",
    "\n",
    "#Citation: \n",
    "#\"McCaffrey, James. \"Neural Network Dropout Training.\"\n",
    "#   Visual Studio Magazine. Media, Inc., 13 May 2014. Web. 9 May 2016.\n",
    "#   <https://visualstudiomagazine.com/articles/2014/05/01/neural-network-dropout-training.aspx>."
    
   ]
  },  

  {
   "cell_type": "code",
   "execution_count": 6,
   "metadata": {
    "collapsed": false
   },
   "outputs": [
    {
     "data": {
      "text/plain": [
       "Artificial Neural Network test\n",
       "ANN_test:  <__main__.NeuralNetwork instance at 0x101b91f80>\n",
       "input Nodes:  4\n",
       "hidden Nodes:  3\n",
       "output Nodes:  1\n",
       "input Activation:  [1.0, 1.0, 1.0, 1.0]\n",
       "hidden Activation:  [1.0, 1.0, 1.0]\n",
       "output Activation:  [1.0]\n",
       "input Weight:  [[0.13776874061001926, 0.10318176117612099, -0.031771367667662004],\n",
       " [-0.09643329988281467, 0.004509888547443414, -0.03802634501983429],\n",
       " [0.11351943561390904, -0.07867490956842903, -0.009361218339057675],\n",
       " [0.03335281578201249, 0.16324515407813406, 0.0018747423269561136]]\n",
       "output Weight:  [[-0.8726486224011847], [1.0232168166288957], [0.4734759867013265]]\n",
       "last change in weight for momentum, input-and-hidden:  \n",
       "[[0.0, 0.0, 0.0], [0.0, 0.0, 0.0], [0.0, 0.0, 0.0], [0.0, 0.0, 0.0]]\n",
       "last change in weight for momentum, hidden-and-output:  [[0.0], [0.0], [0.0]]"
      ]
     },
     "execution_count": 6,
     "metadata": {},
     "output_type": "execute_result"
    }
   ],
   "source": [
    "#!/usr/bin/env python\n",
    "#\n",
    "#  Copyright (c) 2012, Jake Marsh  (http://jakemmarsh.com)\n",
    "#\n",
    "#  license: GNU LGPL\n",
    "#\n",
    "#  This library is free software; you can redistribute it and/or\n",
    "#  modify it under the terms of the GNU Lesser General Public\n",
    "#  License as published by the Free Software Foundation; either\n",
    "#  version 2.1 of the License, or (at your option) any later version.\n",
    "\n",
    "#  As a guide I took the following code:\n",
    "#  * http://iamtrask.github.io/2015/07/12/basic-python-network/\n",
    "#  Add visualization of neural network :) \n",
    "\n",
    "import math, random, string\n",
    "\n",
    "random.seed(0)\n",
    "\n",
    "#2nd Change: Lines 365, 368\n",
    "#3rd Change: Lines 366, 377, 368\n",
    "\n",
    "## ================================================================\n",
    "\n",
    "# calculate a random number a <= rand < b\n",
    "def rand(a, b):\n",
    "    return (b-a)*random.random() + a\n",
    "\n",
    "def makeMatrix(I, J, fill = 0.0):\n",
    "    m = []\n",
    "    for i in range(I): #loops 4 times\n",
    "        m.append([fill]*J) #[0.0, 0.0, 0.0]\n",
    "    return m\n",
    "\n",
    "\n",
    "####Value of the activation function parameter: 0.5\n",
    "def sigmoid(x):\n",
    "    # tanh is a little nicer than the standard 1/(1+e^-x)\n",
    "    return math.tanh(x)\n",
    "\n",
    "# derivative of our sigmoid function, in terms of the output (i.e. y)\n",
    "def dsigmoid(y):\n",
    "    return 1.0 - y**2\n",
    "\n",
    "## ================================================================\n",
    "\n",
    "class initial_NeuralNetwork:\n",
    "    def __init__(self, inputNodes, hiddenNodes, outputNodes):\n",
    "        # number of input, hidden, and output nodes\n",
    "        self.inputNodes = inputNodes + 1 # +1 for bias node\n",
    "        self.hiddenNodes = hiddenNodes\n",
    "        self.outputNodes = outputNodes\n",
    "\n",
    "        # activations for nodes\n",
    "        self.inputActivation = [1.0]*self.inputNodes\n",
    "        self.hiddenActivation = [1.0]*self.hiddenNodes\n",
    "        self.outputActivation = [1.0]*self.outputNodes\n",
    "\n",
    "        # create weights\n",
    "        self.inputWeight = makeMatrix(self.inputNodes, self.hiddenNodes)\n", 
    "        self.outputWeight = makeMatrix(self.hiddenNodes, self.outputNodes)\n",
    "        # set them to random values\n",
    "        for i in range(self.inputNodes): #loops 4 times\n",
    "            for j in range(self.hiddenNodes): #loops 3 times\n",
    "                self.inputWeight[i][j] = rand(-0.2, 0.2) #it's m but with rand(-0.2, 0.2)\n",
    "\n",
    "\n",
    "        for j in range(self.hiddenNodes): #loops 3 times \n",
    "            for k in range(self.outputNodes): #loops 1 time\n",
    "                self.outputWeight[j][k] = rand(-2.0, 2.0) #it's m but with rand(-0.2, 0.2)\n",
    "\n",
    "        # last change in weights for momentum \n",  
    "        self.ci = makeMatrix(self.inputNodes, self.hiddenNodes) \n",
    "\n",
    "        self.co = makeMatrix(self.hiddenNodes, self.outputNodes)\n",
    "\n",
    "\n",
    "#[Link](http://cs231n.github.io/neural-networks-1/)\n",
    "\n",
    "#Analysis: train calls update(Line 290)\n",
    "#          update uses self.inputWeight and self.outputWeightchanges \n",
    "#          update changes self.inputActivation, self.hiddenActivation, self.outputActivation\n",
    "#          update returns self.outputActivation (as an array)\n",
    "#          train calls backPropagate\n",
    "#          backPropagate modifies self.inputWeight and self.outputWeight\n",
    "#          self.inputWeight and self.outputWeight are used in update \n",
    "#          repeats itself 1000 times. Then in the analyzer code we call test \n",
    "#          test calls update (Line 260)\n",
    "#          update uses self.inputWeight and self.outputWeightchanges (self.inputWeight and \n",
    "#          self.outputWeight were modified by backpropagate)\n",
    "#          update changes self.inputActivation, self.hiddenActivation, self.outputActivation\n",
    "#          update returns self.outputActivation (as an array) \n",
    "#That is how train and test relate to each other, through self.inputWeight and \n",
    "# self.outputWeight\n",
    "#because backpropagate inside train modifies self.inputWeight and self.outputWeight\n",
    "#and then self.inputWeight and self.outputWeight are used by update which is called inside test\n",
    "\n",
    "    def update(self, inputs):\n", 
    "        #input is [531.9904153999998, 524.052386, 539.172466]\n",
    "        if len(inputs) != self.inputNodes-1: #if len(inputs) != 3\n",
    "            raise ValueError('wrong number of inputs')\n",
    "\n",
    "        # input activations\n",
    "        for i in range(self.inputNodes-1): #loops 3 times (4-1 = 3 times)\n",
    "            self.inputActivation[i] = inputs[i] \n",
    "\n",
    "        # hidden activations\n",
    "        for j in range(self.hiddenNodes): #loops 3 times\n",
    "            sum = 0.0\n",
    "            for i in range(self.inputNodes): #loops 4 times\n",
    "\n",
    "\n",
    "            self.hiddenActivation[j] = sigmoid(sum) \n",
    "\n",
    "        for k in range(self.outputNodes): #loops 1 time, k=0\n",
    "            sum = 0.0\n",
    "            for j in range(self.hiddenNodes): #loops 3 times\n",
    "                sum = sum + self.hiddenActivation[j] * self.outputWeight[j][k] \n",
    "            self.outputActivation[k] = sigmoid(sum) \n",
    "\n",
    "\n",
    "        return self.outputActivation[:] #len(self.outputActivation) is 1;\n",
    "\n",
    "    def backPropagate(self, targets, N, M):\n",
    "        if len(targets) != self.outputNodes: \n",
    "            raise ValueError('wrong number of target values')\n",
    "\n",
    "        # calculate error terms for output\n",
    "        output_deltas = [0.0] * self.outputNodes \n",
    "        for k in range(self.outputNodes): \n",
    "            error = targets[k]-self.outputActivation[k] \n",
    "            output_deltas[k] = dsigmoid(self.outputActivation[k]) * error \n",
    "\n",
    "        # calculate error terms for hidden\n",
    "        hidden_deltas = [0.0] * self.hiddenNodes \n",
    "        #hidden_deltas = [0.0]*3 or [0.0, 0.0, 0.0]\n",
    "        for j in range(self.hiddenNodes): #loops 3 times\n",
    "            error = 0.0\n",
    "            for k in range(self.outputNodes): #loops 1 time, k is always [0] \n",
    "                error = error + output_deltas[k]*self.outputWeight[j][k] \n",
    "            hidden_deltas[j] = dsigmoid(self.hiddenActivation[j]) * error \n",
    "\n",
    "        # update output weights\n",
    "        for j in range(self.hiddenNodes): #loops 3 times\n",
    "            for k in range(self.outputNodes): #loops 1 time, k is always [0] \n",
    "                change = output_deltas[k]*self.hiddenActivation[j] \n",
    "                self.outputWeight[j][k] = self.outputWeight[j][k] + N*change + M*self.co[j][k] \n",
    "                self.co[j][k] = change #self.co is [[0.0], [0.0], [0.0]]\n",
    "\n",
    "        # update input weights\n",
    "        for i in range(self.inputNodes): #loops 4 times (3+1=4)\n",
    "            for j in range(self.hiddenNodes): #loops 3 times\n",
    "                change = hidden_deltas[j]*self.inputActivation[i]\n",
    "                self.inputWeight[i][j] = self.inputWeight[i][j] + N*change + M*self.ci[i][j] \n",
    "                self.ci[i][j] = change \n",
    "\n",
    "        # calculate error\n",
    "        error = 0.0\n",
    "        for k in range(len(targets)): #loops 1 time, k is always [0] \n",
    "            error = error + 0.5*(targets[k] - self.outputActivation[k])**2\n",
    "        return error #because of the loop with 1000 iterations\n",
    "\n",
    "    def test(self, inputNodes):\n",
    "        return self.update(inputNodes)[0] \n",
    "\n",
    "    def weights(self):\n",
    "        print('Input weights:')\n",
    "        for i in range(self.inputNodes):\n",
    "            print(self.inputWeight[i])\n",
    "        print()\n",
    "        print('Output weights:')\n",
    "        for j in range(self.hiddenNodes):\n",
    "            print(self.outputWeight[j])\n",
    "\n",
    "# Momentum factor:\n",
    "# To avoid oscillating weight changes the momentum factor is defined. \n",
    "# Therefore the calculated weight change would not be the same always. \n",
    "# alpha (Greek letter) is called the momentum factor, and \n",
    "# typically take values in the range [0.7, 0.95]: 0.1 #change it \n",
    "\n",
    "# #Momentum\n",
    "# Momentum basically allows a change to the weights to persist \n",
    "# for a number of adjustment cycles.\n", 
    "# The magnitude of the persistence is controlled by the momentum factor. \n",
    "# If the momentum factor is set to 0, then the equation reduces to that of Equation 3. \n",
    "# If the momentum factor is increased from 0, then increasingly greater persistence of \n",
    "# previous adjustments is allowed in modifying the current adjustment. \n",
    "# This can improve the learning rate in some situations, \n",
    "# by helping to smooth out unusual conditions \n",
    "# in the training set. [Link](http://www.cheshireeng.com/Neuralyst/nnbg.htm)\n",
    "# Another technique that can help the network out of local minima is the use of a momentum term. \n",
    "# This is probably the most popular extension of the backprop algorithm; \n",
    "# it is hard to find cases where this is not used. \n",
    "# With momentum m, the weight update at a given time t becomes \n",
    "#(the equation where M is included. Check the link below)\n",
    "# where 0 < m < 1 is a new global parameter which must be determined by trial and error. \n",
    "# Momentum simply adds a fraction m of the previous weight update to the current one.\n", 
    "# When the gradient keeps pointing in the same direction, \n",
    "# this will increase the size of the steps taken towards the minimum. \n",
    "# It is otherefore often necessary to reduce the global learning rate mu (Greek letter)\n",
    "# when using a lot of momentum (m close to 1). \n",
    "# If you combine a high learning rate with a lot of momentum, \n",
    "# you will rush past the minimum with huge steps!\n",
    "\n",
    "# When the gradient keeps changing direction, momentum will smooth out the variations. \n",
    "# This is particularly useful when the network is not well-conditioned. \n",
    "# In such cases the error surface has substantially different curvature along different \n",
    "# directions, \n",
    "# leading to the formation of long narrow valleys. For most points on the surface, \n",
    "# the gradient does not point towards the minimum, \n",
    "# and successive steps of gradient descent can oscillate from one side to the other,\n",
    "# progressing only very slowly to the minimum (Fig. 2a). \n",
    "# Fig. 2b shows how the addition of momentum helps to speed up convergence to the minimum \n",
    "# by damping these oscillations.\n",
    "# Link: https://www.willamette.edu/~gorr/classes/cs449/momrate.html\n",
    "\n",
    "#Learning rate\n",
    "# With momentum m, the weight update at a given time t becomes \n",
    "#(the equation where M is included. Check the link below)\n",
    "# where 0 < m < 1 is a new global parameter which must be determined by trial and error. \n",
    "# Momentum simply adds a fraction m of the previous weight update to the current one.\n", 
    "# When the gradient keeps pointing in the same direction, \n",
    "# this will increase the size of the steps taken towards the minimum. \n",
    "# It is otherefore often necessary to reduce the global learning rate mu (Greek letter)\n",
    "# when using a lot of momentum (m close to 1). \n",
    "# If you combine a high learning rate with a lot of momentum, \n",
    "# you will rush past the minimum with huge steps!\n",
    "# [Link](https://www.willamette.edu/~gorr/classes/cs449/momrate.html)\n",
    "\n",
    "#Iterations\n",
    "\n",
    "# Minimum performance gradient: #1e-7 [Link]\n",
    "#  (http://www.mathworks.com/help/nnet/ref/trainlm.html)\n",
    "# The network training terminates when either the maximum number of iterations is reached or\n",
    "# the performance gradient falls below 10-6. \n",
    "# Furthermore, the generalization performance is evaluated using \n",
    "# classification accuracy for the classification problem.\n",
    "# Example:\n",
    "# *the maximum number of training iterations is: 500\n",
    "# *the minimum performance gradient is 10-6;and\n",
    "# *the learning rate is 0.01\n",
    "# [Link](https://books.google.com.mx/books?id=rD2FCwAAQBAJ&pg=PA79&lpg=\n",
    "# PA79&dq=artificial+neural+network+minimum+performance+gradient&source=\n",
    "# bl&ots=Dhj2ag-SMv&sig=oUeCenJ4zbYU5YBMMgjdK0d1ZvA&hl=en&sa=X&ved=0ahUKE\n",
    "# wioodKS7fPMAhUSE1IKHaJ3BXYQ6AEIQzAF#v=onepage&q=artificial%20neural%20\n",
    "# network%20minimum%20performance%20gradient&f=false)\n",
    "\n",
    "    def initial_train(self, patterns, iterations = 1000, N = 0.5, M = 0.1):\n",
    "        # N: learning rate, M: momentum factor\n",
    "        #print \"Test1 This is patterns: \", patterns\n",
    "        #This is patterns (input of train function from NeuralNetwork):\n",
    "        #[[[531.9904153999998, 524.052386, 539.172466], [1.0000000000000075]]]\n",
    "        for i in range(iterations):\n",
    "            error = 0.0\n",
    "            #print \"Test2 This is patterns: \", patterns\n",
    "            for p in patterns: #an array of 5 arrays (each array has two arrays)\n",
    "                #print \"Test3 This is patterns: \", patterns\n",
    "                #print \"This is p from patterns: \", p \n",
    "                inputs = p[0] #three items\n",
    "                #print \"This is p[0]: \", inputs\n",
    "                targets = p[1] #one item\n",
    "                #print \"This is targets: \", targets\n",
    "                self.update(inputs)\n",
    "                error = error + self.backPropagate(targets, N, M)\n",
    "            #if i % 100 == 0:\n",
    "                #print('error %-.5f' % error)\n",
    "\n",
    "print \"Artificial Neural Network test\"\n",
    "ANN_test = initial_NeuralNetwork(3,3,1)\n",
    "print \"ANN_test: \", ANN_test\n",
    "print \"input Nodes: \", ANN_test.inputNodes\n",
    "print \"hidden Nodes: \", ANN_test.hiddenNodes\n",
    "print \"output Nodes: \", ANN_test.outputNodes\n",
    "print \"input Activation: \", ANN_test.inputActivation\n",
    "print \"hidden Activation: \", ANN_test.hiddenActivation\n",
    "print \"output Activation: \", ANN_test.outputActivation\n",
    "print \"input Weight: \", ANN_test.inputWeight\n",
    "print \"output Weight: \", ANN_test.outputWeight\n",
    "print \"last change in weight for momentum, input-and-hidden: \", ANN_test.ci\n",
    "print \"last change in weight for momentum, hidden-and-output: \", ANN_test.co"
   ]
  },  
  
  
  {
   "cell_type": "markdown",
   "metadata": {},
   "source": [
    "### 7. Benchmark\n",
    "In this section, you will need to provide a clearly defined benchmark result or threshold for comparing across performances obtained by your solution. The reasoning behind the benchmark (in the case where it is not an established result) should be discussed. Questions to ask yourself when writing this section:\n",
    "\n",
    "   * Has some result or value been provided that acts as a benchmark for measuring performance?\n",
    "   * Is it clear how this result or value was obtained (whether by data or by hypothesis)?\n",
    "\n",
    "\n",
    "[Mean Absolute Percent Error](http://www.forecastpro.com/Trends/forecasting101August2011.html) allows us to compare forecasts of different series in different scales and gives me understanding about the accuracy or my predicitions, while [Cumulative Forecast Error](http://www.prenhall.com/divisions/bp/app/russellcd/PROTECT/CHAPTERS/CHAP10/HEAD04.HTM) is the sum of all the forecast errors and is a quick way to see whether my StockPredictor is overestimating the future stock prices or underestimating their value.\n",
    "\n",
    "**Benchmark**: If the mean difference in stock price from one day to the next is  5%, with a standard deviation of 10%,then achieving a mean absolute percentage error of 2.5% should allow us to fairly reliably predict the opening stock price of the following day. [Additional info](http://sites.insead.edu/facultyresearch/research/doc.cfm?did=46875)\n",
    "\n",
    "\n",
    "*Note*: A *positive* **Cumulative Forecast Error** gives **preference** to the **seller** in *daily trading*."
   ]
  },

  {
   "cell_type": "code",
   "execution_count": 7,
   "metadata": {
    "collapsed": false
   },
   "outputs": [

    {
     "data": {
      "text/plain": []
     },
     "execution_count": 7,
     "metadata": {},
     "output_type": "execute_result"
    },
    {
     "data": {
      "image/png": "[encoded data removed]",
      "text/plain": []
    },
     "metadata": {},
     "output_type": "display_data"
    }
    
    ],
   "source": [
    
    "#Image7-a\n",
    "\n",
    "#Citation: \n",
    "#\"Demand Management, Forecast Error & Tracking.\" \n",
    "#Apics Forum. ApicsForum.com, 7 Jan. 2012. Web. 6 June 2016. \n",
    "#<http://www.apicsforum.com/ebook/forecast_error_%2526_tracking>."
    
   ]
  },   

  {
   "cell_type": "code",
   "execution_count": 7,
   "metadata": {
    "collapsed": false
   },
   "outputs": [

    {
     "data": {
      "text/plain": []
     },
     "execution_count": 7,
     "metadata": {},
     "output_type": "execute_result"
    },
    {
     "data": {
      "image/png": "[encoded data removed]",
      "text/plain": []
    },
     "metadata": {},
     "output_type": "display_data"
    }
    
    ],
   "source": [
    
    "#Image7-b\n",
    "\n",
    "#Citation: \n",
    "#Almazrouei, Abdulrahman. \"Forecasting.\" SlideShare. \n",
    "#LinkedIn, 11 May 2014. Web. 21 June 2016. \n",
    "#<http://www.slideshare.net/abdulrahmanalmazrooei5/chapter-13-2>." 
   ]
  },   

  {
   "cell_type": "markdown",
   "metadata": {},
   "source": [
    "## Methodology"
   ]
  },
  
  {
   "cell_type": "markdown",
   "metadata": {},
   "source": [
    "### 8. Data Preprocessing\n",
    "In this section, all of your preprocessing steps will need to be clearly documented, if any were necessary. From the previous section, any of the abnormalities or characteristics that you identified about the dataset will be addressed and corrected here. Questions to ask yourself when writing this section:\n",
    "\n",
    "   * If the algorithms chosen require preprocessing steps like feature selection or feature transformations, have they been properly documented?\n",
    "   * Based on the Data Exploration section, if there were abnormalities or characteristics that needed to be addressed, have they been properly corrected?\n",
    "   * If no preprocessing is needed, has it been made clear why?\n",
    "\n",
    "The algorithms chosen only require us to select **one stock ticker** [Example:'GOOG'] and **one date** [Format:'2014-04-03'] (one day previous to the date that we want to predict). The date that is chosen as an input along with the ticker symbol must be different from \"today\" because based on the Data Exploration, I found that there is no closing stock price for \"today\" until the day has ended [Closing Stock Price](http://www.investopedia.com/terms/a/adjusted_closing_price.asp).\n",
    "\n",
    "Random information of only one company (**Google**) is being used because I preferred to do it like that. In the overall I care about Google's stocks.\n",
    "\n",
    "Some variables from the code are called outputs to make it more understandable for all the readers. Of course those local outputs are different from the \"final output\" of the program.\n",
    "\n",
    "The terms minimum and maximum are used instead of high, low and adjusted close price because those terms seem easier to digest by all the readers who are not exactly familiar with the stock market.\n",
    "\n",
    "Using those terms: minimum and maximum values allows to identify the limits easily. Also it's easier to collect and arrange the data that is used as input for the other methods.\n",
    "\n",
    "**More details about the data exploration phase**: Within the process of finding the best number of iterations, learning rate, momentum and exploring the graph, 3 outliers were found. Check the details in the file outputComparison. Outlier is defined to be any datapoint that is more than 2 standard deviation.\n", 
    "\n",   
    "**Tons of Detail**: getHistoricalData (from optimized_ystockquote.py) removes the array with the labels and returns the closing stock prices of the 10 most recent days. getTrainingData makes sure that we only use the closing prices of five days and then calls getTimeSeriesValues which calls getMovingAverage which calls rollingWindow; rollingWindow returns 6 arrays, each array containing 5 closing stock prices in different order. getMovingAverage returns 6 values, **the averages of the 5 closing prices in each of the 6 arrays**. getTimeSeriesValues also calls getMinimums and getMaximums. getMinimums returns 6 values, **the minimum values from each of the 6 arrays**. getMaximums returns 6 values, **the maximum values from each of the 6 arrays**. Then the values collected (minimus, maximums and averages) are normalized using normalizePrice function. In other words: The first minimum value, the first maximum value and the first average value are the input of normalizePrice function, the result is stored as an array of length 1 named outputNode (inside getTimeSeriesValues function). On the other hand the average, the minimum value, the maximum value are stored in an array (reassuring: it's an array of lenght 3) named inputNode. In the end we have 6 arrays of length 3 ordered by pairs (each pair is named tempItem): [inputNode, outputNode], [inputNode, outputNode], etc. All the tempItem arrays are stored in a variable named trainingData. trainingData is super important for it carries the data to train the Neural Network."
   ]
  },  
  
  {
   "cell_type": "code",
   "execution_count": 8,
   "metadata": {
    "collapsed": false
   },
   "outputs": [
    {
     "data": {
      "text/plain": [
       " [['Date', 'Open', 'High', 'Low', 'Close', 'Volume', 'Adj Clos'],\n",
       "  ['2016-05-27', '724.01001', '733.935974', '724.00', '732.659973', '1974000', '732.65997'], \n",
       "  ['2016-05-26', '722.869995', '728.330017', '720.280029', '724.119995', '1542900', '724.11999'], \n",
       "  ['2016-05-25', '720.76001', '727.51001', '719.705017', '725.27002', '1629200', '725.2700'], \n",
       "  ['2016-05-24', '706.859985', '720.969971', '706.859985', '720.090027', '1920400', '720.09002'], \n",
       "  ['2016-05-23', '706.530029', '711.478027', '704.179993', '704.23999', '1320900', '704.2399'], \n",
       "  ['2016-05-20', '701.619995', '714.580017', '700.52002', '709.73999', '1816000', '709.7399'], \n",
       "  ['2016-05-19', '702.359985', '706.00', '696.799988', '700.320007', '1656300', '700.32000'], \n",
       "  ['2016-05-18', '703.669983', '711.599976', '700.630005', '706.630005', '1763400', '706.63000'], \n",
       "  ['2016-05-17', '715.98999', '721.52002', '704.109985', '706.22998', '1999500', '706.2299'], \n",
       "  ['2016-05-16', '709.130005', '718.47998', '705.650024', '716.48999', '1316200', '716.4899']]"
      ]
     },
     "execution_count": 8,
     "metadata": {},
     "output_type": "execute_result"
    }
   ],
   "source": [
    "#Improved function to retrieve the data \n",
    "def get_historical_prices(symbol, chosen_date):\n",
    "    #Get historical prices for the given ticker symbol.\n",
    "    #Date format is 'YYYY-MM-DD'\n",
    "    #Returns a nested list.\n",
    "\n",
    "    import datetime\n",
    "    from datetime import date\n",
    "    from datetime import timedelta\n",
    "\n",
    "    #Test\n",
    "    # >>> chosen_date = '2016-05-10'\n",
    "    # >>> year = int(chosen_date[:4])\n",
    "    # >>> month = int(chosen_date[5:7])\n",
    "    # >>> day = int(chosen_date[8:])\n",
    "    # >>> end_date = datetime.date(year, month, day)\n",
    "    # >>> start_date = str(end_date - datetime.timedelta(days=2))\n",
    "\n",
    "    past_n_days = 20 #fixed \n",
    "\n",
    "    year = int(chosen_date[:4])\n",
    "    month = int(chosen_date[5:7])\n",
    "    day = int(chosen_date[8:])\n",
    "\n",
    "    end_date = datetime.date(year, month, day)\n",
    "\n",
    "    if end_date >= datetime.date.today():\n",
    "        statement = \"Choose any date before today: \" + str(datetime.date.today())\n",
    "        return statement\n",
    "\n",
    "    #assert end_date < datetime.date.today(), \n",
    "    #\"chosen date must be any previous day from today: %r\" % end_date\n",
    "    #assert num == 4, \"len of set is not 4: %r\" % num #example\n",
    "\n",
    "    #start_date = str(end_date - datetime.timedelta(days=past_n_days))\n",
    "    #previous code doesn't work when we previously put from datetime import datetime \n",
    "    start_date = str(end_date - timedelta(days=past_n_days)) #code always functional\n",
    "    end_date = chosen_date\n",
    "\n",
    "    # #month, day and year\n",
    "    url = 'http://ichart.yahoo.com/table.csv?s=%s&' % symbol + \\\n",
    "          'd=%s&' % str(int(end_date[5:7]) - 1) + \\\n",
    "          'e=%s&' % str(int(end_date[8:10])) + \\\n",
    "          'f=%s&' % str(int(end_date[0:4])) + \\\n",
    "          'g=d&' + \\\n",
    "          'a=%s&' % str(int(start_date[5:7]) - 1) + \\\n",
    "          'b=%s&' % str(int(start_date[8:10])) + \\\n",
    "          'c=%s&' % str(int(start_date[0:4])) + \\\n",
    "          'ignore=.csv'\n",
    "    #print \"url\"\n",
    "    #print url\n",
    "    days = urllib.urlopen(url).readlines()\n",
    "    data = [day[:-2].split(',') for day in days]\n",
    "    return data[0:11] #returns a set of 10 stock prices\n",
    "\n",
    "#Returns the 10 stock prices that we expect\n",
    "print get_historical_prices('GOOG', '2016-05-30')"
   ]
  },  

  {
   "cell_type": "code",
   "execution_count": 8,
   "metadata": {
    "collapsed": false
   },
   "outputs": [

    {
     "data": {
      "text/plain": []
     },
     "execution_count": 8,
     "metadata": {},
     "output_type": "execute_result"
    },
    {
     "data": {
      "image/png": "[encoded data removed]",
      "text/plain": []
    },
     "metadata": {},
     "output_type": "display_data"
    }
    
    ],
   "source": [
    
    "#Image8\n",
    "\n",
    "#Citation: \n",
    "#\"NYSE Holidays and Trading Hours (2016).\"\n",
    "#NYSE: Holidays and Trading Hours. Intercontinental Exchange, Inc., 2016. Web. 21 June 2016.\n",
    "#<https://www.nyse.com/markets/hours-calendars>."
    
   ]
  },  
  
  {
   "cell_type": "markdown",
   "metadata": {},
   "source": [
    "### 9. Implementation\n",
    "In this section, the process for which metrics, algorithms, and techniques that you implemented for the given data will need to be clearly documented. It should be abundantly clear how the implementation was carried out, and discussion should be made regarding any complications that occurred during this process. Questions to ask yourself when writing this section:\n",
    "\n",
    "   * Is it made clear how the algorithms and techniques were implemented with the given datasets or input data?\n",
    "   * Were there any complications with the original metrics or techniques that required changing prior to acquiring a solution?\n",
    "   * Was there any part of the coding process (e.g., writing complicated functions) that should be documented?\n",
    "\n",
    "The sources and links from the two templates that I used are found in the following files: **optimized_analyzer.py** and **optimized_ystockquote.py**. The template of the analyzer was a good template to start. I began by changing the source from where he retrieved data. I deleted code and modified functions so that the data was retrieved from Yahoo Finance. For the data retrieval refer to optimized_ystockquote.py. I adjusted the function to always retrieve 20 stock prices from the previous dates before the day that we desire to predict. Then I went back to adjust more details from the methods of the analyzer file. I made sure that the data was organized starting with the most recent stock prices before the day that one wants to predict. I included graphs of the Neural Network, a graph of the Actual data vs. the predictions and the graph of the residuals. I also made several adjustments in the Neural Network file to deal with the gradient challenges inside the ANN's backpropagation process (I adjusted it according to the number of cycles that I chose); I did this though trial and error. For more information explore the file **optimized_neuralNetwork.py**\n",
    "\n",
    "Continuing with the previous section, section 8, once that we have the trainingData values ready (inputNode[array] and outputNode[array] stored in an array), we are begin working with our Neural Network. We start by creating a new object of the NeuralNetwork class. To create it we must indicate the number of inputNodes, hiddenNodes and outputNodes. In this case 3 inputNodes, 3 hiddenNodes and 1 outputNode. Then, except for those attributes every attribute gets default values.\n",
    "\n",
    "\n",
    "The next step is **training the Neural Network** by calling the **train** function and feeding it with the trainingData (inputNode[array] and outputNode[array] stored in an array), to start the replacing of default values from the attributes of the Neural Network. Part of the process of training the Neural Network involves backpropagation. **backpropagate** calculates the error between the outputNode value and the outputActivation value from our neural network. Inside the train function, backpropagate function gets called 1500 times (the value that I chose for iterations).\n",
    "\n",
    "\n",
    "Going back to optimized_analyzer.py (inside **analyzeSymbol** function), after calling **getPedictionData**, which gives us an array with 3 values: (1) average value from the 6 inputNodes, (2) minimum value of the 6 inputNodes and (3) maximum value of the 6 inputNodes (the 6 arrays mentioned are of this type: [inputNodes, outputNode] and came from rollingWindow), **we proceed to test our Neural Network** by calling **test** (function from the NeuralNetwork class) and we feed it with the return value of getPredictionData. Inside test function, update function (also from NeuralNetwork) gets called. **Update receives the inputNode** (an array with 3 values), and using **the activation function**, sigmoid, calculates the new value of outputActivation (NeuralNetwork class attribute). The very initial value of outputActivation class attribute is 1.\n",
    "\n",
    "\n",
    "The output of calling test having fed it with predictionData is an **updated value of the outputActivation** which is stored in a variable **named returnPrice**. Next, inside analyzeSymbol (from optimized_analyzer.py), we use the **denormalize** function (we feed it with returnPrice and with the minimum and maximum value from predictionData). The **final result** is the **predictedStockPrice**.\n",
    "\n",
    "\n",
    "**analyzeSymbol** returns **the predictedStockPrice and processing time** (time that the program takes to perform the final prediction from the start)."
   ]
  },

  {
   "cell_type": "code",
   "execution_count": 9,
   "metadata": {
    "collapsed": false
   },
   "outputs": [

    {
     "data": {
      "text/plain": []
     },
     "execution_count": 9,
     "metadata": {},
     "output_type": "execute_result"
    },
    {
     "data": {
      "image/png": "[encoded data removed]",
      "text/plain": []
    },
     "metadata": {},
     "output_type": "display_data"
    }
    
    ],
   "source": [
    
    "#Image9\n",
    "\n",
    "#Citation: \n",
    "#Røe, Kathrine, Manish Kakar, Therese Seierstad, Anne H. Ree, and Dag R. Olsen.\n",
    "#Illustration of the Architecture of the Back Propagation Neural Network (BPNN).\n",
    "#Digital image. Yale Image Finder. Krauthammer Lab, Yale University, \n",
    "#8 June 2011. Web. 9 May 2016.\n",
    "#<http://krauthammerlab.med.yale.edu/imagefinder/Figure.\n",
    "# external?sp=SPMC3130663%2F1748-717X-6-65-3\n",
    "# &state:Figure=BrO0ABXcRAAAAAQAACmRvY3VtZW50SWR\n",
    "# zcgARamF2YS5sYW5nLkludGVnZXIS4qCk94GHOAIAAUkABXZhbH\n",
    "# VleHIAEGphdmEubGFuZy5OdW1iZXKGrJUdC5TgiwIAAHhwAAryyg%3D%3D>."
    
   ]
  },  
  
  {
   "cell_type": "markdown",
   "metadata": {},
   "source": [
    "### 10. Refinement\n",
    "In this section, you will need to discuss the process of improvement you made upon the algorithms and techniques you used in your implementation. For example, adjusting parameters for certain models to acquire improved solutions would fall under the refinement category. Your initial and final solutions should be reported, as well as any significant intermediate results as necessary. Questions to ask yourself when writing this section:\n",
    "\n",
    "   * Has an initial solution been found and clearly reported?\n",
    "   * Is the process of improvement clearly documented, such as what techniques were used?\n",
    "   * Are intermediate and final solutions clearly reported as the process is improved.\n",
    "\n",
    "The initial solution to this problem was prediciting the stock price of the following day using a neural Network with 3 input neurons (plus 1 bias input neuron), 3 hidden neurons and 3 output neurons. The code is found in the files: my_first_analyzer.py and my_first_neuralNetwork.py\n",
    "\n",
    "The improvements that I made were the following:\n",
    "\n",
    "1) **The process of extracting the data from Yahoo Finance**: I modified the main function in the file analyzer.py and using other helper functions I made sure to \"always\" (no matter if the previous dates are holidays or weekends or observed days) return a set of 10 stock prices. The outcome from this improvement can be seen mainly by comparing the cumulative forecast error of the previous prediction with this new prediction set.\n",
    "\n",
    "    * Previous mean absolute percent error is: 2.56467188276\n",
    "    * Previous cumulative forecast error: 114.429396164\n",
    "    * New mean absolute percent error is: 3.07061480364\n",
    "    * New cumulative forecast error: 98.222619522\n",
    "\n",
    "2) **Momentum factor, Iterations and Learning Rate**: I changed the Momentum factor (M), the Learning Rate (N) and the number of Iterations in the file neuralNetwork.py. The new number of Iterations was 2500. And the Momentum Factor and the Learning rate were the same than in the previous model, but in the loop (iterations: 2500) I decreased the Learning Rater and increased the Momentum factor. The outcome from this improvement can be seen by comparing the mean absolute percent error is and the cumulative forecast error of the previous prediction with this new prediction set.\n",
    "\n",
    "    * Previous mean absolute percent error is: 3.07061480364\n",
    "    * Previous cumulative forecast error: 98.222619522\n",
    "    * New mean absolute percent error is: 3.07427704404\n",
    "    * New cumulative forecast error: 93.1659690816\n",
    "\n",
    "3) **Momentum Factor**: I modified the Momentum factor's value inside the loop. Instead of  increasing it by a constant value, I chose random constant values in a specific range. The outcome from this improvement can be seen by comparing the mean absolute percent error is and the cumulative forecast error of the previous prediction with this new prediction set.\n",
    "\n",
    "    * Previous mean absolute percent error is: 3.07427704404\n",
    "    * Previous cumulative forecast error: 93.1659690816\n",
    "    * New mean absolute percent error is: 3.06091931524\n",
    "    * New cumulative forecast error: 91.5888261064\n",
    "\n",
    "\n",
    "As the *small value* of the **Mean Absolute Percent Error** indicates, my Stock Predictor tends to *overfit* the actual data.\n",
    "\n",
    "Through the **Cumulative Forecast Error** (*positive values*) we can observe that the predictions tends to be a bit larger compared to the actual values.\n",
    "\n",
    "I think that way more data (more and **random** stock tickers and dates) must be brought to play in order to choose better values for *number of iterations, learning rate and momentum factor*. This will give the client full confidence to use my Stock Predictor."
    
   ]
  },

  {
   "cell_type": "code",
   "execution_count": 10,
   "metadata": {
    "collapsed": false
   },
   "outputs": [

    {
     "data": {
      "text/plain": []
     },
     "execution_count": 10,
     "metadata": {},
     "output_type": "execute_result"
    },
    {
     "data": {
      "image/png": "[encoded data removed]",
      "text/plain": []
    },
     "metadata": {},
     "output_type": "display_data"
    }
    
    ],
   "source": [
    
    "#Image10-a\n",
    "\n",
    "#Citation: \n",
    "#\"Momentum and Learning Rate Adaptation (Momentum).\"\n",
    "#CS449. Willamette University, 2015. Web. 21 June 2016. \n",
    "#<https://www.willamette.edu/~gorr/classes/cs449/momrate.html>."
    
   ]
  },  

  {
   "cell_type": "code",
   "execution_count": 10,
   "metadata": {
    "collapsed": false
   },
   "outputs": [

    {
     "data": {
      "text/plain": []
     },
     "execution_count": 10,
     "metadata": {},
     "output_type": "execute_result"
    },
    {
     "data": {
      "image/png": "[encoded data removed]",
      "text/plain": []
    },
     "metadata": {},
     "output_type": "display_data"
    }
    
    ],
   "source": [
    
    "#Image10-b\n",
    "\n",
    "#Citation: \n",
    "#\"Momentum and Learning Rate Adaptation (Learning Rate Adaptation).\"\n",
    "#CS449. Willamette University, 2015. Web. 21 June 2016. \n",
    "#<https://www.willamette.edu/~gorr/classes/cs449/momrate.html>."
    
   ]
  }, 

  {
   "cell_type": "markdown",
   "metadata": {},
   "source": [
    "## Results "
   ]
  },

  {
   "cell_type": "markdown",
   "metadata": {},
   "source": [
    "### 11. Model Evaluation and Validation\n",
    "In this section, the final model and any supporting qualities should be evaluated in detail. It should be clear how the final model was derived and why this model was chosen. In addition, some type of analysis should be used to validate the robustness of this model and its solution, such as manipulating the input data or environment to see how the model’s solution is affected (this is called sensitivity analysis). Questions to ask yourself when writing this section:\n",
    "\n",
    "   * Is the final model reasonable and aligning with solution expectations? Are the final parameters of the model appropriate?\n",
    "   * Has the final model been tested with various inputs to evaluate whether the model generalizes well to unseen data?\n",
    "   * Is the model robust enough for the problem? Do small perturbations (changes) in training data or the input space greatly affect the results?\n",
    "   * Can results found from the model be trusted?\n",
    "\n",
    "\n",
    "Artiﬁcial neural networks, which are nonlinear data-driven approaches as opposed to the above model-based nonlinear methods, are ca-pable of performing nonlinear modeling without a priori knowledge about the relationships between input and output variables. Thus they are a more general and ﬂexible modeling tool for forecasting.\n",
    "\n",
    "A three layer neural network has been proved to be a universal function  approximator  and  finds  its  use  in  a  number  of  fields like sales forecasting, data validation, customer research, price forecasting, medicine etc. For this reason no changes have been made in the ANN's number in input nodes, hidden nodes and output nodes were made. Only the learning rate, momentum and the number of iterations have been adjusted. [Stock Prediction using Artificial Neural Networks](http://people.eecs.berkeley.edu/~akar/IITK_website/EE671/report_stock.pdf)\n",
    "\n",
    "The final model consists on an ANN with 3 inputNodes, 3 hiddenNodes and 1 outputNode.\n",
    "\n",
    "The ANN receives trainingData: inputNodes [3 values], outputNode [1 value].\n",
    "\n",
    "*The ANN's input layers are: 3 plus the bias, 4 in total.\n",
    "\n",
    "*The ANN's hidden layers are: 4 times 3, 12 in total, (it's like the information flows back and forward through the layers).\n",
    "\n",
    "*The ANN's output layers are: 3\n",
    "\n",
    "*The ANN's activation function is: Sigmoid function (found in optimized_neuralNetwork.py). It is the hyperbolic tangent function (tanh).\n",
    "\n",
    "*The number of Iterantions (epochs) are: 1500\n",
    "\n",
    "*The Learning rate is: 0.5 (decreases up to 0.0015, approx)\n",
    "\n",
    "*The Momentum Factor is: 0.1 (increases up to 0.945, approx)\n",
    "\n\n",
    "**Glance @ the Benchmark:**\n",
    "\n",
    "    * Current model's mean absolute percent error is: 2.58488413024\n",
    "    * Current model's cumulative forecast error is: 77.2415129785\n",
    "\n\n",
    "In general this model outputs reasonable predictions for calculating the stock price of the following day. But as it can be seen through the Cumulative Forecast Error values, always *positive* values, this Stock Predictor tends to benefit more the *seller* than the buyer in *daily trading*. So the predictions must be used with care."
   ]
  },

  {
   "cell_type": "code",
   "execution_count": 11,
   "metadata": {
    "collapsed": false
   },
   "outputs": [

    {
     "data": {
      "text/plain": []
     },
     "execution_count": 11,
     "metadata": {},
     "output_type": "execute_result"
    },
    {
     "data": {
      "image/png": "[encoded data removed]",
      "text/plain": []
    },
     "metadata": {},
     "output_type": "display_data"
    }
    
    ],
   "source": [
    
    "#Image11\n",
    "\n",
    "#Details found in ANN_diagram.py"
    
   ]
  },  

  {
   "cell_type": "markdown",
   "metadata": {},
   "source": [
    "### 12. Justification\n",
    "In this section, your model’s final solution and its results should be compared to the benchmark you established earlier in the project using some type of statistical analysis. You should also justify whether these results and the solution are significant enough to have solved the problem posed in the project. Questions to ask yourself when writing this section:\n",
    "\n",
    "   * Are the final results found stronger than the benchmark result reported earlier?\n",
    "   * Have you thoroughly analyzed and discussed the final solution?\n",
    "   * Is the final solution significant enough to have solved the problem?\n",
    "\n",
    "After the model improvements (making sure that we count with a uniform set of input data and using an Artificial Neural Network with three input neurons) and choosing an optimal value for the Momentum factor (M) and Iterations, the final results found became stronger than the first benchmark. We obtanied a larger value of **Mean Absolute Percent Error**, which indicates that the model is a little *less overfitting*. And the positive value of the **Cumulative Forecast Error** *decreased*, which says that the predictions became *fairer* for the stocks **buyer** in *daily trading*.\n",
    "\n",
    "**First Benchmark:**\n",
    "\n",
    "    * First model's mean absolute percent error is:  2.56467188276\n",
    "    * First model's cumulative forecast error is: 114.429396164\n",
    "\n\n",
    "**New Benchmark:**\n",
    "\n",
    "    * Current model's mean absolute percent error is: 2.58488413024\n",
    "    * Current model's cumulative forecast error is: 77.2415129785\n",
    "\n\n",
    "*Note*: For a more detailed report on the Benchmarks check the file *outputComparison.txt*\n",
    "\n\n",
    "**The predictions from the final models are sufficiently reasonable to be trusted if one is the seller in daily trading. But if one is the buyer, then you should take this into account before accepting any daily stock trading offer:**\n",
    "\n",
    "   **1)**  get_price_earnings_ratio(symbol)\n",
    "\n",
    "   **2)**  get_price_earnings_growth_ratio(symbol)\n", 
    "\n",
    "   **3)**  get_price_book_ratio(symbol)\n",
    "\n",
    "   **4)**  D/E ratio, [Debt to Equity](http://www.investopedia.com/terms/d/debtequityratio.asp) also called Gearing ratio\n",
    "\n",
    "   **5)**  FCE, [Free Cashflow](http://www.investopedia.com/terms/f/freecashflow.asp)\n",
    "\n",
    "*Sources:* Taken from [Fundamental stock metrics](http://www.investopedia.com/articles/active-trading/051214/fundamental-investment-metrics-buying-stocks-and-bonds.asp) and [Yahoo finance ticker symbols](https://greenido.wordpress.com/2009/12/22/yahoo-finance-hidden-api/)\n",
    "\n",
    "Referring to the **benchmark values**, the ANN's predictions' performance was evaluated to be 2/15 (MAPE: 2.561647997) the standard deviation of the actual values. Any program that's able to predict values with a MAPE error under 1/5 of the standard deviation I would consider it a good estimate. However it is suggested to never risk more than 2% (in fraction it's 1/50th of the overal value) per trade value and our current MAPE is approximately 6.67 times that value. [2% Management Rule](http://www.learntotradethemarket.com/forex-articles/why-i-dont-use-the-2-percent-money-management-rule).\n",
    "\n",
    "Perhaps increasing the accuracy of the predicitions could be a good idea. Of course, to discard overfitting, if one wishes to reduce MAPE up to 2% or less then one must make sure to include more training and testing data before modifying the parameters: learning rate, number of cycles (iterations) and momentum factor [The Problem of Overfitting](http://web.engr.oregonstate.edu/~tgd/classes/534/slides/part10.pdf)."

   ]
  },
  
  {
   "cell_type": "code",
   "execution_count": 12,
   "metadata": {
    "collapsed": false
   },
   "outputs": [

    {
     "data": {
      "text/plain": []
     },
     "execution_count": 12,
     "metadata": {},
     "output_type": "execute_result"
    },
    {
     "data": {
      "image/png": "[encoded data removed]",
      "text/plain": []
    },
     "metadata": {},
     "output_type": "display_data"
    }
    
    ],
   "source": [
    
    "#Image12\n",
    "\n",
    "#Citation: \n",
    "#Oti, Hellen. \"New Study Reveals Surprising Difference \n",
    "#Between Buyer and Seller Perspectives.\" Marketingworld. MarketingWorld,\n",
    "#15 Apr. 2014. Web. 21 June 2016.\n",
    "#<http://www.marketing-world.net/new-study-reveals-surprising-difference-\n",
    "# between-buyer-and-seller-perspectives/2014/04/>."
    
   ]
  }, 

  {
   "cell_type": "markdown",
   "metadata": {},
   "source": [
    "## Conclusion "
   ]
  },

  {
   "cell_type": "markdown",
   "metadata": {},
   "source": [
    "### 13. Free-Form Visualization\n",
    "In this section, you will need to provide some form of visualization that emphasizes an important quality about the project. It is much more free-form, but should reasonably support a significant result or characteristic about the problem that you want to discuss. Questions to ask yourself when writing this section:\n",
    "\n",
    "   * Have you visualized a relevant or important quality about the problem, dataset, input data, or results?\n",
    "   * Is the visualization thoroughly analyzed and discussed?\n",
    "   * If a plot is provided, are the axes, title, and datum clearly defined?\n",
    "\n",
    "For the **Free-Form Visualization**, I am showing:\n",
    "\n",
    "**1)** A **plot** of my **Stock Predictions** vs the **Actual Stock values**\n",
    "\n",
    "**2)** The **Residual plot** from the Predictions."
   ]
  },

  {
   "cell_type": "code",
   "execution_count": 13,
   "metadata": {
    "collapsed": false
   },
   "outputs": [

    {
     "data": {
      "text/plain": []
     },
     "execution_count": 13,
     "metadata": {},
     "output_type": "execute_result"
    },
    {
     "data": {
      "image/png": "[encoded data removed]",
      "text/plain": []
    },
     "metadata": {},
     "output_type": "display_data"
    }
    
    ],
   "source": [
    
    "#Image13-a (Main Plot)\n",
    "\n",
    "#The Predictions vs The Actual Stock Prices\n",
    "#Details found in ANN_diagram.py"
   ]
  },  
  

  {
   "cell_type": "code",
   "execution_count": 13,
   "metadata": {
    "collapsed": false
   },
   "outputs": [

    {
     "data": {
      "text/plain": []
     },
     "execution_count": 13,
     "metadata": {},
     "output_type": "execute_result"
    },
    {
     "data": {
      "image/png": "[encoded data removed]",
      "text/plain": []
    },
     "metadata": {},
     "output_type": "display_data"
    }
    
    ],
   "source": [
    
    "#Image13-b (Residual Plot)\n",
    "\n",
    "#The Residuals (difference between Predictions and the Actual Stock Prices)\n",
    "#Details found in ANN_diagram.py"
   ]
  },  
  
  {
   "cell_type": "markdown",
   "metadata": {},
   "source": [
    "The residuals appear to behave randomly, which suggests that the model fits data well. Therefore, the residuals approximate the random errors that make the relationship between the explanatory variables and the response variable a statistical relationship. [Residuals](http://www.itl.nist.gov/div898/handbook/pmd/section4/pmd44.htm)\n",
    "\n",
    "In the review, I was asked if the algorithm really successfully predict the precipitous drop from April 18 to April 21 (2016).\n",
    "\n", 
    "    User's input day ====> Expected\n",
    "       April 15  ----> April 18\n",
    "       April 18  ====> April 19\n",
    "       April 19  ====> April 20\n",
    "       April 20  ====> April 21\n",
    "\n",
    "These were the residuals from the predictions:\n",
    "\n", 
    "    Predicting ==> residuals\n",
    "      April 18 ==>  -9.351524192352372\n",
    "      April 19 ==>  -9.325532279168442\n",
    "      April 20 ==>  -12.385710702718029\n",
    "      April 21 ==>  -2.9436870610570622\n",
    "\n",
    "**Additional information**:\n",
    "\n", 
    "    y_true (expect) list:  [528.662379, 528.662379, 525.602352, 537.512456]\n",
    "    y_pred (predict) list:  [538.0139031923524, 537.9879112791684, 537.988062702718, 540.4561430610571]\n",
    "    mean absolute error 8.50161355882\n",
    "    mean absolute percent error:  1.60925465108\n",
    "    mean absolute deviation:  8.50161355882\n",
    "    r2 score:  -3.2428786626\n",
    "    Spearman correlation:  0.632455532034\n",
    "    cumulative forecast error:  -34.0064542353\n",
    "\n",
    "\n",
    "**Details** can be found in the file optimized_ystockquote_April.py "
   ]
  }, 

  
  {
   "cell_type": "markdown",
   "metadata": {},
   "source": [
    "### 14. Reflection\n",
    "In this section, you will summarize the entire end-to-end problem solution and discuss one or two particular aspects of the project you found interesting or difficult. You are expected to reflect on the project as a whole to show that you have a firm understanding of the entire process employed in your work. Questions to ask yourself when writing this section:\n",
    "\n",
    "   * Have you thoroughly summarized the entire process you used for this project?\n",
    "   * Were there any interesting aspects of the project?\n",
    "   * Were there any difficult aspects of the project?\n",
    "   * Does the final model and solution fit your expectations for the problem, and should it be used in a general setting to solve these types of problems?\n",
    "\n",
    "This project was about predicting stock prices. I did it by creating an Artificial Neural Network. The ANN (Artificial Neural Network) learns from the input data and does multiple re-calibrations for each linkage weights.  The input weights of the ANN are the stock prices of the current day and the two previous days. The main functions used by the ANN are the activation function and the error function (this function helps to re-calibrate the weights). And of course the output of the ANN is the predicted stock price for the following day [How ANNs works](http://www.analyticsvidhya.com/blog/2014/10/ann-work-simplified/).\n",
    "\n",
    "Beyond focusing only in the activity of the New York Stock Exchange, some relevant or important qualities about the problem that involve the input data and the results are the time zones and the trading times. Although the trading hours of the New York Stock Exchange market go from 9:30 in the morning to 4 in the afternoon (Eastern Time), there are stocks that happen before 9:30 a.m. and after 4 p.m. There are other exchanges across the globe, in other countries, other US cities, and even in New York itself. \n",
    "\n",
    "While in New York (USA - New York)  it is Thursday, May 5, 2016 at 9:30:00 AM EDT UTC-4 hours, in Saint-Petersburg (Russia - Saint Petersburg) it is Thursday, May 5, 2016 at 4:30:00 PM. It is clear to notice how the time zones play a special role in daily traiding. Because of Time Zones, with the exception of the weekends, the Stock Market never stops operating. For this reason additional data can be selected and included as input data if one wishes to be way more accurate predicting the closing stock price of the day (careful with overfitting). A better prediction prevents traders from paying more for stocks than they should, along the day. Interesting to know: \"morning time is when daily traders lose most money\", [Why Morning Is the Worst Time to Trade Stocks](http://www.wsj.com/articles/early-birds-suffer-in-market-1442273794).\n",
    "\n",
    "Also, after studying the behavior of the Stock Market, I identified the volatility of the Stock Market as challenge in the task of predicting future daily stock prices. With this I mean that besides all metrics and numbers there are other big and important factors that are decisive in the future value of stocks. New technology can replace the current technology, which means that some companies will dissapear and new ones will be be brought to the market. The best way to predict the future is to invent it. For example: *Apple Inc., Google Inc., Samsung and *other companies* that virtually(software) or physically(electronics) developed and improved Android and iOS platform technologies in the cellphones* replaced and took a big chunk of money from the digital camera and video camera companies like *Kodak* and others. Another example is how virtual streaming companies like *Netflix* replaced the service provided by *Blockbuster*, the physical rent of movies. More variables should be taken into account to predict stock prices with more accuracy. Doing that this model can be used in a general setting to predict daily stock prices."
   ]
  },

  {
   "cell_type": "code",
   "execution_count": 14,
   "metadata": {
    "collapsed": false
   },
   "outputs": [

    {
     "data": {
      "text/plain": []
     },
     "execution_count": 14,
     "metadata": {},
     "output_type": "execute_result"
    },
    {
     "data": {
      "image/png": "[encoded data removed]",
      "text/plain": []
    },
     "metadata": {},
     "output_type": "display_data"
    }
    
    ],
   "source": [
    
    "#Image14-a\n",
    "\n",
    "#Citation: \n",
    "#Rijo, Dahiana. \"MENSAJE DETRÁS DE STAY HUNGRY, STAY FOOLISH.\"\n", 
    "#   DR. Dahiana Rijo, 28 Feb. 2015. Web. 9 May 2016.\n",
    "#   <http://dahianarijo.com/mensaje-detras-de-stay-hungry-stay-foolish/>."
   ]
  },  

  {
   "cell_type": "code",
   "execution_count": 14,
   "metadata": {
    "collapsed": false
   },
   "outputs": [

    {
     "data": {
      "text/plain": []
     },
     "execution_count": 14,
     "metadata": {},
     "output_type": "execute_result"
    },
    {
     "data": {
      "image/png": "[encoded data removed]",
      "text/plain": []
    },
     "metadata": {},
     "output_type": "display_data"
    }
    
    ],
   "source": [
    
    "#Image14-b\n",
    "\n",
    "#Citation: \n",
    "#\"Stock Market HD: Stocks & Shares.\" ITunes Preview.\n",
    "#Apple Inc, n.d. Web. 10 May 2016.\n",
    "#<https://itunes.apple.com/us/app/stock-market-hd-stocks-shares/id469405092?mt=8>."
   ]
  }, 

  {
   "cell_type": "code",
   "execution_count": 14,
   "metadata": {
    "collapsed": false
   },
   "outputs": [

    {
     "data": {
      "text/plain": []
     },
     "execution_count": 14,
     "metadata": {},
     "output_type": "execute_result"
    },
    {
     "data": {
      "image/png": "[encoded data removed]",
      "text/plain": []
    },
     "metadata": {},
     "output_type": "display_data"
    }
    
    ],
   "source": [
    
    "#Image14-c\n",
    "\n",
    "#Citation: \n",
    "#The Best Way to Predict the Future Is to Invent It. - Alan Kay.\n",
    "#   Digital image. Pixteller. Pixteller, n.d. Web. 9 May 2016.\n",
    "#   <http://www.pixteller.com/img/3079>."
   ]
  }, 
 
  {
   "cell_type": "markdown",
   "metadata": {},
   "source": [
    "### 15. Improvement\n",
    "In this section, you will need to provide discussion as to how one aspect of the implementation you designed could be improved. As an example, consider ways your implementation can be made more general, and what would need to be modified. You do not need to make this improvement, but the potential solutions resulting from these changes are considered and compared/contrasted to your current solution. Questions to ask yourself when writing this section:\n",
    "\n",
    "   * Are there further improvements that could be made on the algorithms or techniques you used in this project?\n",
    "   * Were there algorithms or techniques you researched that you did not know how to implement, but would consider using if you knew how?\n",
    "   * If you used your final solution as the new benchmark, do you think an even better solution exists?\n",
    "\n",
    "Some of the further improvements that could be made on the algorithms or techniques used in this project are decreasing having a number of activation functions implemented along with options for crossvalidation sets to achieve more accuracy on the dataset.[Stock Prediction using Artificial Neural Networks](http://www.cs.berkeley.edu/~akar/IITK_website/EE671/report_stock.pdf).\n",
    "\n",
    "Other algorithms that I did not implement but consider useful are: **Genetic algorithms**.\n",
    "\n",
    "For example, a trading rule may involve the use of parameters like Moving Average Convergence-Divergence (MACD), Exponential Moving Average (EMA) and Stochastics. A genetic algorithm would then input values into these parameters with the goal of maximizing net profit. Over time, small changes are introduced and those that make a desirably impact are retained for the next generation.\n",
    "\n",
    "There are three types of genetic operations that can then be performed:\n",
    "\n",
    "   * Crossovers represent the reproduction and biological crossover seen in biology, whereby a child takes on certain characteristics of its parents.\n",
    "\n",
    "   * Mutations represent biological mutation and are used to maintain genetic diversity from one generation of a population to the next by introducing random small changes.\n",
    "\n",
    "   * Selections are the stage at which individual genomes are chosen from a population for later breeding (recombination or crossover).\n",
    "\n",
    "*These three operators are then used in a five-step process*:\n",
    "\n",
    "   **1st** Initialize a random population, where each chromosome is n-length, with n being the number of parameters. That is, a random number of parameters are established with n elements each.\n",
    "\n",
    "   **2nd** Select the chromosomes, or parameters, that increase desirable results (presumably net profit).\n",
    "\n",
    "   **3rd** Apply mutation or crossover operators to the selected parents and generate an offspring.\n",
    "\n",
    "   **4th** Recombine the offspring and the current population to form a new population with the selection operator.\n",
    "\n",
    "   **5th** Repeat steps two to four.\n",
    "\n",
    "Over time, this process will result in increasingly favorable chromosomes (or, parameters) for use in a trading rule. The process is then terminated when a stopping criteria is met, which can include running time, fitness, number of generations or other criteria. For more on MACD (Moving average convergence divergence), read [Trading The MACD Divergence](http://www.investopedia.com/articles/forex/05/macddiverge.asp)\n",
    "\n",
    "Source: \n",
    "   * [Using Genetic Algorithms To Forecast Financial Markets] (http://www.investopedia.com/articles/financial-theory/11/using-genetic-algorithms-forecast-financial-markets.asp#ixzz473WOYOwV)\n",
    "\n",
    "A better solution can be adding more parameters to improve the model. Some parameters that can improve the accuracy of the model are [Eight Factors that Influence Day Trading](http://www.forbes.com/2007/08/29/market-timing-djia-pf-education-in_gc_0829investopedia_inl.html). Some ways to measure those eight factors that Influence Day Trading could be the following: \n",
    "\n",
    "   **Factor#1**, Overseas Market/Economic Action: Stock prices worldwide. [Find Information About Pre- And After-Hours Trading](http://www.investopedia.com/ask/answers/06/preaftermarket.asp?partner=forbes-pf). If you see major negative activity in a \"foreign\" market that affects your sector, the prices of a stocks in that sector could fall. We could assign Factor#1 binary values.\n",
    "\n",
    "   **Factor#2**, Economic Data: This is mostly expressed by \"interest rates\". For example, as interest rates in the U.K. rise, investors in that market may flee for better opportunities. Often, U.S. stocks will reap the benefit.[How Interest Rates affect the Stock Market](http://www.investopedia.com/articles/06/interestaffectsmarket.asp?partner=forbes-pf). Factor#2 can be measured using binary values.\n",
    "\n",
    "   **Factor#3**, Futures Data: [Index futures](http://www.investopedia.com/terms/i/indexfutures.asp?partner=forbes-pf) cover the major market indexes. They start trading before the stock market and are a very good indicator of what the stock market opening will look like. The reason for this is that index futures prices are closely linked with the actual level of the Dow Jones industrial average (DJIA). [\"Are ETF Futures The Wave of The Future\"](http://www.forbes.com/2007/08/29/market-timing-djia-pf-education-in_gc_0829investopedia_inl.html). In other words Factor#3 can be measured by using the DJIA (a negative/positive numeric value/percentage)\n",
    "\n",
    "   **Factor#4**, Buying At the Open: We can consider the difference between the opening stock prices and the average day stock price to estimate the maximum price of the stock. We can measure Factor#4 with a positive/negative percentage\n",
    "\n",
    "   **Factor#5**, Midday Trading Lull: When this happens, stocks can be purchased at a cheaper price at 1 p.m. than they could at, say, 11 a.m. Again, this is important to know, as this can affect both entry and exit points. Observing the stock price values at these hours of the day and compare it to the average day stock price can help us to better estimate the minimum value of the stock during the day. Factor#5 can be measured with a positive/negative percentage\n",
    "\n",
    "   **Factor#6**, Analyst Upgrades/Downgrades: We could classify the words from comments of top analysts. If an analyst mentions more words that backup Upgrades vs Downgrades we give the company a score of 1. In the opposite case we give it a score of 0. We count the sets of 1s and divide it by the number of analyst who reviewed the company. The highest score that could be achieved is 1. Then we will have to measure the correlation between the scores and the stock price value along different days. This way we can make it possible for the analysts to contribute in the prediction of stock prices. [What You Need to Know About Financial Analysts](http://www.investopedia.com/articles/basics/03/041703.asp?partner=forbes-pf). Factor#6 can be measured using binary values.\n",
    "\n",
    "   **Factor#7**, Web-Related Articles: We can do the same than what we did for Factor#6 but only if the websites are reliable. First we should search which websites have a significant (massive) number of readers/viewers who trade in the Stock Market. Fector#7 will be measuring using binary values.\n",
    "\n",
    "   **Factor#8**, Friday Trading: Factor#8 can be helpful if we find that there is a correlation between the closing prices of Friday (numeric values) and the Analyst Upgrades/Downgrades during the weekend (binary values). Factor#8 can be measured by using that correlation. The [correlation coefficient](http://www.alcula.com/calculators/statistics/correlation-coefficient/), or Pearson product-moment correlation coefficient (PMCC) is a numerical value between -1 and 1 that expresses the strength of the linear relationship between two variables. When r is closer to 1 it indicates a strong positive relationship. This might be helpful to predict the opening stock prices on Mondays."
   ]
  },

  {
   "cell_type": "code",
   "execution_count": 15,
   "metadata": {
    "collapsed": false
   },
   "outputs": [

    {
     "data": {
      "text/plain": []
     },
     "execution_count": 15,
     "metadata": {},
     "output_type": "execute_result"
    },
    {
     "data": {
      "image/png": "[encoded data removed]",
      "text/plain": []
    },
     "metadata": {},
     "output_type": "display_data"
    }
    
    ],
   "source": [
    
    "#Image15\n",
    "\n",
    "#Citation: \n",
    "#Tief, Amr Abd Ella, Allam Sheahata Hassanien Allab, and Abdullah Shoukry Nagaty.\n",
    "#\"Stock Market Analysis Using Ga and Neural Network.\" SlideShare.\n",
    "#LinkedIn Corporation, 24 Feb. 2016. Web. 9 May 2016.\n",
    "#<http://www.slideshare.net/Amr_abd_ellatief/stock-market-\n",
    "#        analysis-using-ga-and-neural-network>."
    
   ]
  }  
  
 ],
 "metadata": {
  "kernelspec": {
   "display_name": "Python 2",
   "language": "python",
   "name": "python2"
  },
  "language_info": {
   "codemirror_mode": {
    "name": "ipython",
    "version": 2
   },
   "file_extension": ".py",
   "mimetype": "text/x-python",
   "name": "python",
   "nbconvert_exporter": "python",
   "pygments_lexer": "ipython2",
   "version": "2.7.11"
  }
 },
 "nbformat": 4,
 "nbformat_minor": 0
}
